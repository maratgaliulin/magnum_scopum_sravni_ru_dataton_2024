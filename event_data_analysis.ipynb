{
 "cells": [
  {
   "cell_type": "code",
   "execution_count": 1,
   "metadata": {},
   "outputs": [],
   "source": [
    "import cudf as pd\n",
    "from scripts.basic_stats import basic_stats"
   ]
  },
  {
   "cell_type": "code",
   "execution_count": 2,
   "metadata": {},
   "outputs": [],
   "source": [
    "deposit_data = pd.read_csv('data/event_data_separated/event_data_deposits.csv', index_col=0)"
   ]
  },
  {
   "cell_type": "code",
   "execution_count": 3,
   "metadata": {},
   "outputs": [
    {
     "name": "stdout",
     "output_type": "stream",
     "text": [
      "Суммы касаний кликов, показов и конверсий\n",
      "Клики: 478193\n",
      "Показы: 1916097\n",
      "Конверсии: 103034\n",
      "Сумма показов без конверсий : 2394290\n",
      "Процент конверсий от общего числа касаний : 4.126\n",
      "Общий доход продукта депозиты : 63439760.038\n",
      "Положительные решения банков : 90788\n",
      "Отрицательные решения банков : 11505\n"
     ]
    }
   ],
   "source": [
    "basic_stats(deposit_data, 'депозиты')"
   ]
  },
  {
   "cell_type": "code",
   "execution_count": 4,
   "metadata": {},
   "outputs": [],
   "source": [
    "loan_data = pd.read_csv(\n",
    "    'data/event_data_separated/event_data_loans.csv', index_col=0)"
   ]
  },
  {
   "cell_type": "code",
   "execution_count": 5,
   "metadata": {},
   "outputs": [
    {
     "name": "stdout",
     "output_type": "stream",
     "text": [
      "Суммы касаний кликов, показов и конверсий\n",
      "Клики: 1149113\n",
      "Показы: 4599225\n",
      "Конверсии: 253503\n",
      "Сумма показов без конверсий : 5748338\n",
      "Процент конверсий от общего числа касаний : 4.224\n",
      "Общий доход продукта кредитные займы : 167214577.799\n",
      "Положительные решения банков : 217351\n",
      "Отрицательные решения банков : 27428\n"
     ]
    }
   ],
   "source": [
    "basic_stats(loan_data, 'кредитные займы')"
   ]
  },
  {
   "cell_type": "code",
   "execution_count": 6,
   "metadata": {},
   "outputs": [],
   "source": [
    "mortgage_data = pd.read_csv(\n",
    "    'data/event_data_separated/event_data_mortgage.csv', index_col=0)"
   ]
  },
  {
   "cell_type": "code",
   "execution_count": 7,
   "metadata": {},
   "outputs": [
    {
     "name": "stdout",
     "output_type": "stream",
     "text": [
      "Суммы касаний кликов, показов и конверсий\n",
      "Клики: 1149113\n",
      "Показы: 4599225\n",
      "Конверсии: 253503\n",
      "Сумма показов без конверсий : 5748338\n",
      "Процент конверсий от общего числа касаний : 4.224\n",
      "Общий доход продукта ипотечные займы : 167214577.799\n",
      "Положительные решения банков : 217351\n",
      "Отрицательные решения банков : 27428\n"
     ]
    }
   ],
   "source": [
    "basic_stats(loan_data, 'ипотечные займы')"
   ]
  }
 ],
 "metadata": {
  "kernelspec": {
   "display_name": "Python 3",
   "language": "python",
   "name": "python3"
  },
  "language_info": {
   "codemirror_mode": {
    "name": "ipython",
    "version": 3
   },
   "file_extension": ".py",
   "mimetype": "text/x-python",
   "name": "python",
   "nbconvert_exporter": "python",
   "pygments_lexer": "ipython3",
   "version": "3.11.9"
  }
 },
 "nbformat": 4,
 "nbformat_minor": 2
}
