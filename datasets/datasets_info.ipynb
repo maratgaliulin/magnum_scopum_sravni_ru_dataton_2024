{
 "cells": [
  {
   "cell_type": "code",
   "execution_count": 4,
   "metadata": {
    "metadata": {}
   },
   "outputs": [],
   "source": [
    "import pandas as pd\n",
    "from huggingface_hub import hf_hub_download\n",
    "import tqdm as notebook_tqdm\n",
    "\n",
    "# Исходные файлы загружены на ресурс https://huggingface.co/datasets\n",
    "REPO_ID = \"DmitriiMiptEdu/event_data\"\n",
    "adv_data = 'adv_data.csv'\n",
    "event_data = 'event_data.csv'\n",
    "users_data = 'users_data.csv'\n"
   ]
  },
  {
   "cell_type": "code",
   "execution_count": 6,
   "metadata": {
    "metadata": {}
   },
   "outputs": [
    {
     "name": "stdout",
     "output_type": "stream",
     "text": [
      "<class 'pandas.core.frame.DataFrame'>\n",
      "RangeIndex: 10000000 entries, 0 to 9999999\n",
      "Data columns (total 9 columns):\n",
      " #   Column        Dtype  \n",
      "---  ------        -----  \n",
      " 0   id            object \n",
      " 1   user_phone    object \n",
      " 2   event_type    object \n",
      " 3   event_dtm     object \n",
      " 4   event_status  object \n",
      " 5   update_dtm    object \n",
      " 6   payout        float64\n",
      " 7   currency      object \n",
      " 8   product_type  object \n",
      "dtypes: float64(1), object(8)\n",
      "memory usage: 686.6+ MB\n"
     ]
    }
   ],
   "source": [
    "# `event_data.csv` - хранит лог событий\n",
    "event_df = pd.read_csv(hf_hub_download(repo_id=REPO_ID, filename=event_data, repo_type=\"dataset\"), low_memory=False)\n",
    "event_df.info()"
   ]
  },
  {
   "cell_type": "code",
   "execution_count": 8,
   "metadata": {
    "metadata": {}
   },
   "outputs": [
    {
     "name": "stdout",
     "output_type": "stream",
     "text": [
      "<class 'pandas.core.frame.DataFrame'>\n",
      "RangeIndex: 10000000 entries, 0 to 9999999\n",
      "Data columns (total 9 columns):\n",
      " #   Column              Dtype  \n",
      "---  ------              -----  \n",
      " 0   user_id             object \n",
      " 1   campaign_type       object \n",
      " 2   campaign_start_dtm  object \n",
      " 3   campaign_end_dtm    object \n",
      " 4   source_medium       object \n",
      " 5   utm_campaign        object \n",
      " 6   interface           object \n",
      " 7   currency            object \n",
      " 8   campaign_cost       float64\n",
      "dtypes: float64(1), object(8)\n",
      "memory usage: 686.6+ MB\n"
     ]
    }
   ],
   "source": [
    "`adv_data.csv` - хранит затраты на привлечение клиентов# \n",
    "adv_df = pd.read_csv(hf_hub_download(repo_id=REPO_ID, filename=adv_data, repo_type=\"dataset\"), low_memory=False)\n",
    "adv_df.info()"
   ]
  },
  {
   "cell_type": "code",
   "execution_count": 9,
   "metadata": {
    "metadata": {}
   },
   "outputs": [
    {
     "name": "stdout",
     "output_type": "stream",
     "text": [
      "<class 'pandas.core.frame.DataFrame'>\n",
      "RangeIndex: 10000000 entries, 0 to 9999999\n",
      "Data columns (total 9 columns):\n",
      " #   Column              Dtype  \n",
      "---  ------              -----  \n",
      " 0   user_id             object \n",
      " 1   campaign_type       object \n",
      " 2   campaign_start_dtm  object \n",
      " 3   campaign_end_dtm    object \n",
      " 4   source_medium       object \n",
      " 5   utm_campaign        object \n",
      " 6   interface           object \n",
      " 7   currency            object \n",
      " 8   campaign_cost       float64\n",
      "dtypes: float64(1), object(8)\n",
      "memory usage: 686.6+ MB\n"
     ]
    }
   ],
   "source": [
    "# `users_data.csv` - хранит инфу о клиентах\n",
    "users_df = pd.read_csv(hf_hub_download(repo_id=REPO_ID, filename=adv_data, repo_type=\"dataset\"), low_memory=False)\n",
    "users_df.info()"
   ]
  }
 ],
 "metadata": {
  "kernelspec": {
   "display_name": "Python 3",
   "language": "python",
   "name": "python3"
  },
  "language_info": {
   "codemirror_mode": {
    "name": "ipython",
    "version": 3
   },
   "file_extension": ".py",
   "mimetype": "text/x-python",
   "name": "python",
   "nbconvert_exporter": "python",
   "pygments_lexer": "ipython3",
   "version": "3.12.3"
  }
 },
 "nbformat": 4,
 "nbformat_minor": 2
}
