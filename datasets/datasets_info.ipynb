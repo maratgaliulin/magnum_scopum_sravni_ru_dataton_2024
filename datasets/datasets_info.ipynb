{
 "cells": [
  {
   "cell_type": "code",
   "execution_count": 1,
   "metadata": {
    "metadata": {}
   },
   "outputs": [],
   "source": [
    "import pandas as pd"
   ]
  },
  {
   "cell_type": "code",
   "execution_count": 3,
   "metadata": {
    "metadata": {}
   },
   "outputs": [
    {
     "name": "stderr",
     "output_type": "stream",
     "text": [
      "/tmp/ipykernel_6609/3682411887.py:2: DtypeWarning: Columns (1) have mixed types. Specify dtype option on import or set low_memory=False.\n",
      "  event_df = pd.read_csv('event_data.csv')\n"
     ]
    },
    {
     "name": "stdout",
     "output_type": "stream",
     "text": [
      "<class 'pandas.core.frame.DataFrame'>\n",
      "RangeIndex: 10000000 entries, 0 to 9999999\n",
      "Data columns (total 9 columns):\n",
      " #   Column        Dtype  \n",
      "---  ------        -----  \n",
      " 0   id            object \n",
      " 1   user_phone    object \n",
      " 2   event_type    object \n",
      " 3   event_dtm     object \n",
      " 4   event_status  object \n",
      " 5   update_dtm    object \n",
      " 6   payout        float64\n",
      " 7   currency      object \n",
      " 8   product_type  object \n",
      "dtypes: float64(1), object(8)\n",
      "memory usage: 686.6+ MB\n"
     ]
    }
   ],
   "source": [
    "# `event_data.csv` - хранит лог событий\n",
    "event_df = pd.read_csv('event_data.csv')\n",
    "event_df.info()"
   ]
  },
  {
   "cell_type": "code",
   "execution_count": 4,
   "metadata": {
    "metadata": {}
   },
   "outputs": [
    {
     "name": "stdout",
     "output_type": "stream",
     "text": [
      "<class 'pandas.core.frame.DataFrame'>\n",
      "RangeIndex: 10000000 entries, 0 to 9999999\n",
      "Data columns (total 9 columns):\n",
      " #   Column              Dtype  \n",
      "---  ------              -----  \n",
      " 0   user_id             object \n",
      " 1   campaign_type       object \n",
      " 2   campaign_start_dtm  object \n",
      " 3   campaign_end_dtm    object \n",
      " 4   source_medium       object \n",
      " 5   utm_campaign        object \n",
      " 6   interface           object \n",
      " 7   currency            object \n",
      " 8   campaign_cost       float64\n",
      "dtypes: float64(1), object(8)\n",
      "memory usage: 686.6+ MB\n"
     ]
    }
   ],
   "source": [
    "# `adv_data.csv` - хранит затраты на привлечение клиентов\n",
    "adv_df = pd.read_csv('adv_data.csv')\n",
    "adv_df.info()"
   ]
  },
  {
   "cell_type": "code",
   "execution_count": 5,
   "metadata": {
    "metadata": {}
   },
   "outputs": [
    {
     "name": "stderr",
     "output_type": "stream",
     "text": [
      "/tmp/ipykernel_6609/1868442904.py:2: DtypeWarning: Columns (0,3) have mixed types. Specify dtype option on import or set low_memory=False.\n",
      "  users_df = pd.read_csv('users_data.csv')\n"
     ]
    },
    {
     "name": "stdout",
     "output_type": "stream",
     "text": [
      "<class 'pandas.core.frame.DataFrame'>\n",
      "RangeIndex: 7384378 entries, 0 to 7384377\n",
      "Data columns (total 4 columns):\n",
      " #   Column            Dtype \n",
      "---  ------            ----- \n",
      " 0   user_phone        object\n",
      " 1   user_id           object\n",
      " 2   registration_dtm  object\n",
      " 3   delete_dtm        object\n",
      "dtypes: object(4)\n",
      "memory usage: 225.4+ MB\n"
     ]
    }
   ],
   "source": [
    "# `users_data.csv` - хранит инфу о клиентах\n",
    "users_df = pd.read_csv('users_data.csv')\n",
    "users_df.info()"
   ]
  }
 ],
 "metadata": {
  "kernelspec": {
   "display_name": "Python 3",
   "language": "python",
   "name": "python3"
  },
  "language_info": {
   "codemirror_mode": {
    "name": "ipython",
    "version": 3
   },
   "file_extension": ".py",
   "mimetype": "text/x-python",
   "name": "python",
   "nbconvert_exporter": "python",
   "pygments_lexer": "ipython3",
   "version": "3.12.3"
  }
 },
 "nbformat": 4,
 "nbformat_minor": 2
}
