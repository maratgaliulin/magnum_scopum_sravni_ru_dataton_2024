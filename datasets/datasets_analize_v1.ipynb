{
 "cells": [
  {
   "cell_type": "code",
   "execution_count": null,
   "metadata": {
    "metadata": {}
   },
   "outputs": [],
   "source": [
    "!pip install dask[complete]\n"
   ]
  },
  {
   "cell_type": "code",
   "execution_count": null,
   "metadata": {},
   "outputs": [],
   "source": [
    "import dask.dataframe as dd\n",
    "import pandas as pd\n",
    "from huggingface_hub import hf_hub_download\n",
    "import tqdm as notebook_tqdm\n",
    "\n",
    "# Исходные файлы загружены на ресурс https://huggingface.co/datasets\n",
    "REPO_ID = \"DmitriiMiptEdu/event_data\"\n",
    "adv = 'adv_data.csv'\n",
    "event = 'event_data.csv'\n",
    "users = 'users_data.csv'\n"
   ]
  },
  {
   "cell_type": "code",
   "execution_count": null,
   "metadata": {},
   "outputs": [],
   "source": [
    "# Импорт данных из CSV файлов\n",
    "event_data = dd.read_csv(hf_hub_download(repo_id=REPO_ID, filename=event, repo_type=\"dataset\"))\n",
    "adv_data = dd.read_csv(hf_hub_download(repo_id=REPO_ID, filename=adv, repo_type=\"dataset\"))\n",
    "users_data = dd.read_csv(hf_hub_download(repo_id=REPO_ID, filename=users, repo_type=\"dataset\"))"
   ]
  },
  {
   "cell_type": "code",
   "execution_count": null,
   "metadata": {},
   "outputs": [],
   "source": [
    "# Преобразование полей датасетов во временные метки\n",
    "event_data['event_dtm'] = dd.to_datetime(event_data['event_dtm'])\n",
    "event_data['update_dtm'] = dd.to_datetime(event_data['update_dtm'])\n",
    "adv_data['campaign_start_dtm'] = dd.to_datetime(adv_data['campaign_start_dtm'])\n",
    "adv_data['campaign_end_dtm'] = dd.to_datetime(adv_data['campaign_end_dtm'])\n",
    "users_data['registration_dtm'] = dd.to_datetime(users_data['registration_dtm'])\n",
    "users_data['delete_dtm'] = dd.to_datetime(users_data['delete_dtm'])\n"
   ]
  },
  {
   "cell_type": "code",
   "execution_count": null,
   "metadata": {},
   "outputs": [],
   "source": [
    "# Объединение users_data и event_data\n",
    "merged_data = dd.merge(event_data, users_data, on='user_phone', how='left')\n",
    "\n",
    "# Объединение с adv_data\n",
    "merged_data = dd.merge(merged_data, adv_data, on='user_id', how='left')"
   ]
  },
  {
   "cell_type": "code",
   "execution_count": null,
   "metadata": {},
   "outputs": [],
   "source": [
    "# Анализ событий пользователей\n",
    "# Сортировка событий по пользователям и времени\n",
    "merged_data = merged_data.sort_values(by=['user_phone', 'event_dtm'])"
   ]
  },
  {
   "cell_type": "code",
   "execution_count": null,
   "metadata": {},
   "outputs": [],
   "source": [
    "# Идентификация конверсий\n",
    "conversions = merged_data[merged_data['event_status'] == 'success']"
   ]
  },
  {
   "cell_type": "code",
   "execution_count": null,
   "metadata": {},
   "outputs": [],
   "source": [
    "# Разработка модели атрибуции"
   ]
  },
  {
   "cell_type": "markdown",
   "metadata": {},
   "source": [
    "# Разработка модели атрибуции"
   ]
  },
  {
   "cell_type": "code",
   "execution_count": null,
   "metadata": {},
   "outputs": [],
   "source": [
    "# Реализация модели линейной атрибуции\n",
    "def linear_attribution(events):\n",
    "    n = len(events)\n",
    "    attribution = 1.0 / n\n",
    "    events['attribution'] = attribution\n",
    "    return events\n",
    "\n",
    "# Применение линейной модели атрибуции\n",
    "attributed_data = merged_data.groupby('user_phone').apply(linear_attribution, meta=merged_data)\n"
   ]
  },
  {
   "cell_type": "code",
   "execution_count": null,
   "metadata": {},
   "outputs": [],
   "source": [
    "# Визуализация результатов\n",
    "import matplotlib.pyplot as plt\n",
    "\n",
    "# Сбор данных для визуализации\n",
    "source_attribution_pd = source_attribution.compute()\n",
    "\n",
    "# Пример простой визуализации распределения атрибуции\n",
    "source_attribution_pd.plot(kind='bar')\n",
    "plt.title('Атрибуция по источникам трафика')\n",
    "plt.xlabel('Источник')\n",
    "plt.ylabel('Атрибуция')\n",
    "plt.show()"
   ]
  }
 ],
 "metadata": {
  "kernelspec": {
   "display_name": "Python 3",
   "language": "python",
   "name": "python3"
  },
  "language_info": {
   "codemirror_mode": {
    "name": "ipython",
    "version": 3
   },
   "file_extension": ".py",
   "mimetype": "text/x-python",
   "name": "python",
   "nbconvert_exporter": "python",
   "pygments_lexer": "ipython3",
   "version": "3.12.3"
  }
 },
 "nbformat": 4,
 "nbformat_minor": 2
}
