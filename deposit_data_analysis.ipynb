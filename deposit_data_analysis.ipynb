{
 "cells": [
  {
   "cell_type": "code",
   "execution_count": 1,
   "metadata": {},
   "outputs": [],
   "source": [
    "import cudf as pd\n",
    "import cupy as cp\n",
    "import numpy as np\n",
    "# import matplotlib.pyplot as plt\n",
    "# import pandas"
   ]
  },
  {
   "cell_type": "code",
   "execution_count": 2,
   "metadata": {},
   "outputs": [],
   "source": [
    "# Загружаю датасет по депозитам\n",
    "\n",
    "deposit_data = pd.read_csv('data/deposit_data.csv', index_col=0)"
   ]
  },
  {
   "cell_type": "code",
   "execution_count": 3,
   "metadata": {},
   "outputs": [],
   "source": [
    "deposit_data = deposit_data.reset_index().drop('index', axis=1)"
   ]
  },
  {
   "cell_type": "code",
   "execution_count": 29,
   "metadata": {},
   "outputs": [
    {
     "data": {
      "text/html": [
       "<div>\n",
       "<style scoped>\n",
       "    .dataframe tbody tr th:only-of-type {\n",
       "        vertical-align: middle;\n",
       "    }\n",
       "\n",
       "    .dataframe tbody tr th {\n",
       "        vertical-align: top;\n",
       "    }\n",
       "\n",
       "    .dataframe thead th {\n",
       "        text-align: right;\n",
       "    }\n",
       "</style>\n",
       "<table border=\"1\" class=\"dataframe\">\n",
       "  <thead>\n",
       "    <tr style=\"text-align: right;\">\n",
       "      <th></th>\n",
       "      <th>user_id</th>\n",
       "      <th>campaign_type</th>\n",
       "      <th>source_medium</th>\n",
       "      <th>utm_campaign</th>\n",
       "      <th>interface</th>\n",
       "      <th>campaign_cost</th>\n",
       "      <th>user_phone</th>\n",
       "      <th>id</th>\n",
       "      <th>event_type</th>\n",
       "      <th>event_status</th>\n",
       "      <th>payout</th>\n",
       "      <th>product_type</th>\n",
       "      <th>time_from_reg_till_event</th>\n",
       "      <th>time_from_camp_start_till_event</th>\n",
       "    </tr>\n",
       "  </thead>\n",
       "  <tbody>\n",
       "    <tr>\n",
       "      <th>0</th>\n",
       "      <td>70391e123115e9d0f463495adfa9ff91</td>\n",
       "      <td>show</td>\n",
       "      <td>yandex / organic</td>\n",
       "      <td>client_rebrand_megamaket</td>\n",
       "      <td>app</td>\n",
       "      <td>0.0</td>\n",
       "      <td>79143423444</td>\n",
       "      <td>aa154add98285bd92c7bbe42f602ef7218a45b3d7ce0bf...</td>\n",
       "      <td>show</td>\n",
       "      <td>&lt;NA&gt;</td>\n",
       "      <td>0.0</td>\n",
       "      <td>deposits</td>\n",
       "      <td>152 days 03:39:49.120132000</td>\n",
       "      <td>92 days 16:47:29.443329000</td>\n",
       "    </tr>\n",
       "    <tr>\n",
       "      <th>1</th>\n",
       "      <td>70391e123115e9d0f463495adfa9ff91</td>\n",
       "      <td>click</td>\n",
       "      <td>yandex / organic</td>\n",
       "      <td>bk_adv_client</td>\n",
       "      <td>web</td>\n",
       "      <td>0.0</td>\n",
       "      <td>79143423444</td>\n",
       "      <td>416ce92d431422cffd83519bbdddebba9f92718b21e9d9...</td>\n",
       "      <td>click</td>\n",
       "      <td>&lt;NA&gt;</td>\n",
       "      <td>0.0</td>\n",
       "      <td>deposits</td>\n",
       "      <td>152 days 03:39:49.120132000</td>\n",
       "      <td>82 days 19:27:19.982213000</td>\n",
       "    </tr>\n",
       "  </tbody>\n",
       "</table>\n",
       "</div>"
      ],
      "text/plain": [
       "                            user_id campaign_type     source_medium  \\\n",
       "0  70391e123115e9d0f463495adfa9ff91          show  yandex / organic   \n",
       "1  70391e123115e9d0f463495adfa9ff91         click  yandex / organic   \n",
       "\n",
       "               utm_campaign interface  campaign_cost   user_phone  \\\n",
       "0  client_rebrand_megamaket       app            0.0  79143423444   \n",
       "1             bk_adv_client       web            0.0  79143423444   \n",
       "\n",
       "                                                  id event_type event_status  \\\n",
       "0  aa154add98285bd92c7bbe42f602ef7218a45b3d7ce0bf...       show         <NA>   \n",
       "1  416ce92d431422cffd83519bbdddebba9f92718b21e9d9...      click         <NA>   \n",
       "\n",
       "   payout product_type     time_from_reg_till_event  \\\n",
       "0     0.0     deposits  152 days 03:39:49.120132000   \n",
       "1     0.0     deposits  152 days 03:39:49.120132000   \n",
       "\n",
       "  time_from_camp_start_till_event  \n",
       "0      92 days 16:47:29.443329000  \n",
       "1      82 days 19:27:19.982213000  "
      ]
     },
     "execution_count": 29,
     "metadata": {},
     "output_type": "execute_result"
    }
   ],
   "source": [
    "deposit_data.head(2)"
   ]
  },
  {
   "cell_type": "code",
   "execution_count": 50,
   "metadata": {},
   "outputs": [],
   "source": [
    "# Сохраняю названия столбцов в виде numpy-массива\n",
    "\n",
    "cols = np.array(deposit_data.columns)"
   ]
  },
  {
   "cell_type": "code",
   "execution_count": 51,
   "metadata": {},
   "outputs": [
    {
     "data": {
      "text/plain": [
       "array(['user_id', 'campaign_type', 'source_medium', 'utm_campaign',\n",
       "       'interface', 'campaign_cost', 'user_phone', 'id', 'event_type',\n",
       "       'event_status', 'payout', 'product_type',\n",
       "       'time_from_reg_till_event', 'time_from_camp_start_till_event'],\n",
       "      dtype=object)"
      ]
     },
     "execution_count": 51,
     "metadata": {},
     "output_type": "execute_result"
    }
   ],
   "source": [
    "cols"
   ]
  },
  {
   "cell_type": "code",
   "execution_count": 6,
   "metadata": {},
   "outputs": [],
   "source": [
    "# Удаляю из массива столбцов ненужные\n",
    "\n",
    "cols = np.delete(cols, [0,5,6,7,10,11,12,13])"
   ]
  },
  {
   "cell_type": "code",
   "execution_count": null,
   "metadata": {},
   "outputs": [],
   "source": [
    "# Применяю метод value_counts() к каждому столбцу из массива\n",
    "\n",
    "for col in cols:\n",
    "    print(col)\n",
    "    print('-------------------------')\n",
    "    print(deposit_data[col].value_counts())\n",
    "    print('::::::::::::::::::::::::::')\n",
    "    print('\\n')"
   ]
  },
  {
   "cell_type": "code",
   "execution_count": 8,
   "metadata": {},
   "outputs": [],
   "source": [
    "# Создаю подмассив с ID пользователей и разделенными значениями из столбца campaign_type\n",
    "\n",
    "deposit_data_by_campaign_type = pd.get_dummies(deposit_data[['user_id', 'campaign_type']], columns=['campaign_type'], dtype='int')"
   ]
  },
  {
   "cell_type": "code",
   "execution_count": 9,
   "metadata": {},
   "outputs": [],
   "source": [
    "# Группирую значения в массиве по ID пользователя. Таким образом в каждом столбце для каждого пользователя суммируется кол-во каждого из трех типов касаний \n",
    "\n",
    "deposit_data_by_campaign_type = deposit_data_by_campaign_type.groupby('user_id').sum()"
   ]
  },
  {
   "cell_type": "code",
   "execution_count": 10,
   "metadata": {},
   "outputs": [],
   "source": [
    "# Выделяю пользователей, у которых была хотя бы одна конверсия\n",
    "\n",
    "deposit_data_by_campaign_type_conversions = deposit_data_by_campaign_type.loc[deposit_data_by_campaign_type['campaign_type_conversion'] > 0]"
   ]
  },
  {
   "cell_type": "code",
   "execution_count": 11,
   "metadata": {},
   "outputs": [
    {
     "data": {
      "text/html": [
       "<div>\n",
       "<style scoped>\n",
       "    .dataframe tbody tr th:only-of-type {\n",
       "        vertical-align: middle;\n",
       "    }\n",
       "\n",
       "    .dataframe tbody tr th {\n",
       "        vertical-align: top;\n",
       "    }\n",
       "\n",
       "    .dataframe thead th {\n",
       "        text-align: right;\n",
       "    }\n",
       "</style>\n",
       "<table border=\"1\" class=\"dataframe\">\n",
       "  <thead>\n",
       "    <tr style=\"text-align: right;\">\n",
       "      <th></th>\n",
       "      <th>campaign_type_click</th>\n",
       "      <th>campaign_type_conversion</th>\n",
       "      <th>campaign_type_show</th>\n",
       "    </tr>\n",
       "    <tr>\n",
       "      <th>user_id</th>\n",
       "      <th></th>\n",
       "      <th></th>\n",
       "      <th></th>\n",
       "    </tr>\n",
       "  </thead>\n",
       "  <tbody>\n",
       "    <tr>\n",
       "      <th>067c102c89732a569567d2f673dbf0c9</th>\n",
       "      <td>2</td>\n",
       "      <td>15</td>\n",
       "      <td>2</td>\n",
       "    </tr>\n",
       "    <tr>\n",
       "      <th>558fa53918641cdaec9c564da667d2f0</th>\n",
       "      <td>1</td>\n",
       "      <td>12</td>\n",
       "      <td>1</td>\n",
       "    </tr>\n",
       "    <tr>\n",
       "      <th>8e7e0913bd4ad9c5b0501ad8c8dfe64b</th>\n",
       "      <td>1</td>\n",
       "      <td>12</td>\n",
       "      <td>1</td>\n",
       "    </tr>\n",
       "    <tr>\n",
       "      <th>8b436194ccd8675e7c6a0cb8076aeadc</th>\n",
       "      <td>1</td>\n",
       "      <td>12</td>\n",
       "      <td>2</td>\n",
       "    </tr>\n",
       "    <tr>\n",
       "      <th>14bd689a3dcbda5e6db725ac450ac3b0</th>\n",
       "      <td>1</td>\n",
       "      <td>12</td>\n",
       "      <td>1</td>\n",
       "    </tr>\n",
       "  </tbody>\n",
       "</table>\n",
       "</div>"
      ],
      "text/plain": [
       "                                  campaign_type_click  \\\n",
       "user_id                                                 \n",
       "067c102c89732a569567d2f673dbf0c9                    2   \n",
       "558fa53918641cdaec9c564da667d2f0                    1   \n",
       "8e7e0913bd4ad9c5b0501ad8c8dfe64b                    1   \n",
       "8b436194ccd8675e7c6a0cb8076aeadc                    1   \n",
       "14bd689a3dcbda5e6db725ac450ac3b0                    1   \n",
       "\n",
       "                                  campaign_type_conversion  campaign_type_show  \n",
       "user_id                                                                         \n",
       "067c102c89732a569567d2f673dbf0c9                        15                   2  \n",
       "558fa53918641cdaec9c564da667d2f0                        12                   1  \n",
       "8e7e0913bd4ad9c5b0501ad8c8dfe64b                        12                   1  \n",
       "8b436194ccd8675e7c6a0cb8076aeadc                        12                   2  \n",
       "14bd689a3dcbda5e6db725ac450ac3b0                        12                   1  "
      ]
     },
     "execution_count": 11,
     "metadata": {},
     "output_type": "execute_result"
    }
   ],
   "source": [
    "# Сортирую этих пользователей по количеству конверсий\n",
    "\n",
    "deposit_data_by_campaign_type_conversions.sort_values(by='campaign_type_conversion', ascending=False).head(5)"
   ]
  },
  {
   "cell_type": "markdown",
   "metadata": {},
   "source": [
    "1. Общее количество касаний зарегистрированных пользователей"
   ]
  },
  {
   "cell_type": "code",
   "execution_count": 24,
   "metadata": {},
   "outputs": [],
   "source": [
    "# Суммы касаний кликов, показов и конверсий\n",
    "\n",
    "sum_of_touches = deposit_data_by_campaign_type.sum(axis=0)"
   ]
  },
  {
   "cell_type": "code",
   "execution_count": 28,
   "metadata": {},
   "outputs": [
    {
     "data": {
      "text/plain": [
       "campaign_type_click          124148\n",
       "campaign_type_conversion       5398\n",
       "campaign_type_show          1990110\n",
       "dtype: int64"
      ]
     },
     "execution_count": 28,
     "metadata": {},
     "output_type": "execute_result"
    }
   ],
   "source": [
    "sum_of_touches"
   ]
  },
  {
   "cell_type": "code",
   "execution_count": 25,
   "metadata": {},
   "outputs": [],
   "source": [
    "# Сумма показов без конверсий\n",
    "\n",
    "sum_of_touches_wo_conversions = sum_of_touches['campaign_type_click'] + sum_of_touches['campaign_type_show']"
   ]
  },
  {
   "cell_type": "code",
   "execution_count": 26,
   "metadata": {},
   "outputs": [
    {
     "data": {
      "text/plain": [
       "2114258"
      ]
     },
     "execution_count": 26,
     "metadata": {},
     "output_type": "execute_result"
    }
   ],
   "source": [
    "sum_of_touches_wo_conversions"
   ]
  },
  {
   "cell_type": "code",
   "execution_count": 27,
   "metadata": {},
   "outputs": [
    {
     "data": {
      "text/plain": [
       "campaign_type_click         1181\n",
       "campaign_type_conversion    5398\n",
       "campaign_type_show          1271\n",
       "dtype: int64"
      ]
     },
     "execution_count": 27,
     "metadata": {},
     "output_type": "execute_result"
    }
   ],
   "source": [
    "deposit_data_by_campaign_type_conversions.sum()"
   ]
  },
  {
   "cell_type": "code",
   "execution_count": 30,
   "metadata": {},
   "outputs": [],
   "source": [
    "# Сумма касаний, которые привели к конверсиям\n",
    "\n",
    "sum_of_touches_lead_to_conversions = deposit_data_by_campaign_type_conversions.sum()['campaign_type_click'] + deposit_data_by_campaign_type_conversions.sum()['campaign_type_show']"
   ]
  },
  {
   "cell_type": "code",
   "execution_count": 31,
   "metadata": {},
   "outputs": [
    {
     "data": {
      "text/plain": [
       "2452"
      ]
     },
     "execution_count": 31,
     "metadata": {},
     "output_type": "execute_result"
    }
   ],
   "source": [
    "sum_of_touches_lead_to_conversions"
   ]
  },
  {
   "cell_type": "code",
   "execution_count": 36,
   "metadata": {},
   "outputs": [],
   "source": [
    "# Процент касаний, который привел к конверсиям:\n",
    "\n",
    "conversion_touches_percent = round(sum_of_touches_lead_to_conversions / sum_of_touches_wo_conversions * 100, 3)"
   ]
  },
  {
   "cell_type": "code",
   "execution_count": 37,
   "metadata": {},
   "outputs": [
    {
     "data": {
      "text/plain": [
       "0.116"
      ]
     },
     "execution_count": 37,
     "metadata": {},
     "output_type": "execute_result"
    }
   ],
   "source": [
    "conversion_touches_percent"
   ]
  },
  {
   "cell_type": "code",
   "execution_count": 39,
   "metadata": {},
   "outputs": [],
   "source": [
    "# Общие затраты на рекламу для депозитов\n",
    "\n",
    "total_expenditures = deposit_data['campaign_cost'].sum()"
   ]
  },
  {
   "cell_type": "code",
   "execution_count": 40,
   "metadata": {},
   "outputs": [],
   "source": [
    "# Общий доход как сумма столбца payout\n",
    "\n",
    "total_payout = deposit_data['payout'].sum()"
   ]
  },
  {
   "cell_type": "code",
   "execution_count": 46,
   "metadata": {},
   "outputs": [],
   "source": [
    "# Общая прибыль от депозитов:\n",
    "\n",
    "gross_margin = round(total_payout - total_expenditures, 3)"
   ]
  },
  {
   "cell_type": "code",
   "execution_count": 47,
   "metadata": {},
   "outputs": [
    {
     "data": {
      "text/plain": [
       "1139472.995"
      ]
     },
     "execution_count": 47,
     "metadata": {},
     "output_type": "execute_result"
    }
   ],
   "source": [
    "gross_margin"
   ]
  },
  {
   "cell_type": "code",
   "execution_count": 48,
   "metadata": {},
   "outputs": [],
   "source": [
    "# Процент прибыли\n",
    "\n",
    "gross_margin_percent = round(gross_margin / total_expenditures * 100, 3)"
   ]
  },
  {
   "cell_type": "code",
   "execution_count": 49,
   "metadata": {},
   "outputs": [
    {
     "data": {
      "text/plain": [
       "16.528"
      ]
     },
     "execution_count": 49,
     "metadata": {},
     "output_type": "execute_result"
    }
   ],
   "source": [
    "gross_margin_percent"
   ]
  },
  {
   "cell_type": "code",
   "execution_count": 58,
   "metadata": {},
   "outputs": [],
   "source": [
    "deposit_data_dummies_all = pd.get_dummies(deposit_data[['user_id', 'campaign_type', 'source_medium', \n",
    "                                                        'utm_campaign', 'interface', 'campaign_cost', \n",
    "                                                        'event_type', 'event_status', \n",
    "                                                        'payout', 'product_type', \n",
    "                                                        'time_from_reg_till_event', 'time_from_camp_start_till_event']], \n",
    "                                          columns=['campaign_type', 'source_medium', \n",
    "                                                   'interface', 'event_type', 'event_status', \n",
    "                                                    'product_type'], \n",
    "                                          dtype='int')"
   ]
  },
  {
   "cell_type": "code",
   "execution_count": 59,
   "metadata": {},
   "outputs": [
    {
     "data": {
      "text/html": [
       "<div>\n",
       "<style scoped>\n",
       "    .dataframe tbody tr th:only-of-type {\n",
       "        vertical-align: middle;\n",
       "    }\n",
       "\n",
       "    .dataframe tbody tr th {\n",
       "        vertical-align: top;\n",
       "    }\n",
       "\n",
       "    .dataframe thead th {\n",
       "        text-align: right;\n",
       "    }\n",
       "</style>\n",
       "<table border=\"1\" class=\"dataframe\">\n",
       "  <thead>\n",
       "    <tr style=\"text-align: right;\">\n",
       "      <th></th>\n",
       "      <th>user_id</th>\n",
       "      <th>utm_campaign</th>\n",
       "      <th>campaign_cost</th>\n",
       "      <th>payout</th>\n",
       "      <th>time_from_reg_till_event</th>\n",
       "      <th>time_from_camp_start_till_event</th>\n",
       "      <th>campaign_type_click</th>\n",
       "      <th>campaign_type_conversion</th>\n",
       "      <th>campaign_type_show</th>\n",
       "      <th>source_medium_android / mobile_app</th>\n",
       "      <th>...</th>\n",
       "      <th>interface_app</th>\n",
       "      <th>interface_web</th>\n",
       "      <th>event_type_click</th>\n",
       "      <th>event_type_conversion</th>\n",
       "      <th>event_type_show</th>\n",
       "      <th>event_status_approve</th>\n",
       "      <th>event_status_deal</th>\n",
       "      <th>event_status_reject</th>\n",
       "      <th>event_status_sale</th>\n",
       "      <th>product_type_deposits</th>\n",
       "    </tr>\n",
       "  </thead>\n",
       "  <tbody>\n",
       "    <tr>\n",
       "      <th>0</th>\n",
       "      <td>70391e123115e9d0f463495adfa9ff91</td>\n",
       "      <td>client_rebrand_megamaket</td>\n",
       "      <td>0.0</td>\n",
       "      <td>0.0</td>\n",
       "      <td>152 days 03:39:49.120132000</td>\n",
       "      <td>92 days 16:47:29.443329000</td>\n",
       "      <td>0</td>\n",
       "      <td>0</td>\n",
       "      <td>1</td>\n",
       "      <td>0</td>\n",
       "      <td>...</td>\n",
       "      <td>1</td>\n",
       "      <td>0</td>\n",
       "      <td>0</td>\n",
       "      <td>0</td>\n",
       "      <td>1</td>\n",
       "      <td>0</td>\n",
       "      <td>0</td>\n",
       "      <td>0</td>\n",
       "      <td>0</td>\n",
       "      <td>1</td>\n",
       "    </tr>\n",
       "    <tr>\n",
       "      <th>1</th>\n",
       "      <td>70391e123115e9d0f463495adfa9ff91</td>\n",
       "      <td>bk_adv_client</td>\n",
       "      <td>0.0</td>\n",
       "      <td>0.0</td>\n",
       "      <td>152 days 03:39:49.120132000</td>\n",
       "      <td>82 days 19:27:19.982213000</td>\n",
       "      <td>1</td>\n",
       "      <td>0</td>\n",
       "      <td>0</td>\n",
       "      <td>0</td>\n",
       "      <td>...</td>\n",
       "      <td>0</td>\n",
       "      <td>1</td>\n",
       "      <td>1</td>\n",
       "      <td>0</td>\n",
       "      <td>0</td>\n",
       "      <td>0</td>\n",
       "      <td>0</td>\n",
       "      <td>0</td>\n",
       "      <td>0</td>\n",
       "      <td>1</td>\n",
       "    </tr>\n",
       "  </tbody>\n",
       "</table>\n",
       "<p>2 rows × 40 columns</p>\n",
       "</div>"
      ],
      "text/plain": [
       "                            user_id              utm_campaign  campaign_cost  \\\n",
       "0  70391e123115e9d0f463495adfa9ff91  client_rebrand_megamaket            0.0   \n",
       "1  70391e123115e9d0f463495adfa9ff91             bk_adv_client            0.0   \n",
       "\n",
       "   payout     time_from_reg_till_event time_from_camp_start_till_event  \\\n",
       "0     0.0  152 days 03:39:49.120132000      92 days 16:47:29.443329000   \n",
       "1     0.0  152 days 03:39:49.120132000      82 days 19:27:19.982213000   \n",
       "\n",
       "   campaign_type_click  campaign_type_conversion  campaign_type_show  \\\n",
       "0                    0                         0                   1   \n",
       "1                    1                         0                   0   \n",
       "\n",
       "   source_medium_android / mobile_app  ...  interface_app  interface_web  \\\n",
       "0                                   0  ...              1              0   \n",
       "1                                   0  ...              0              1   \n",
       "\n",
       "   event_type_click  event_type_conversion  event_type_show  \\\n",
       "0                 0                      0                1   \n",
       "1                 1                      0                0   \n",
       "\n",
       "   event_status_approve  event_status_deal  event_status_reject  \\\n",
       "0                     0                  0                    0   \n",
       "1                     0                  0                    0   \n",
       "\n",
       "   event_status_sale  product_type_deposits  \n",
       "0                  0                      1  \n",
       "1                  0                      1  \n",
       "\n",
       "[2 rows x 40 columns]"
      ]
     },
     "execution_count": 59,
     "metadata": {},
     "output_type": "execute_result"
    }
   ],
   "source": [
    "deposit_data_dummies_all.head(2)"
   ]
  },
  {
   "cell_type": "code",
   "execution_count": 61,
   "metadata": {},
   "outputs": [
    {
     "data": {
      "text/plain": [
       "Index(['user_id', 'utm_campaign', 'campaign_cost', 'payout',\n",
       "       'time_from_reg_till_event', 'time_from_camp_start_till_event',\n",
       "       'campaign_type_click', 'campaign_type_conversion', 'campaign_type_show',\n",
       "       'source_medium_android / mobile_app', 'source_medium_bing / organic',\n",
       "       'source_medium_email / email', 'source_medium_finance.rambler.ru / cpm',\n",
       "       'source_medium_google / organic', 'source_medium_ios / mobile_app',\n",
       "       'source_medium_not-set / none', 'source_medium_pikabu.ru / cpm',\n",
       "       'source_medium_regular / email', 'source_medium_regular / sms',\n",
       "       'source_medium_ru.android.bankproduct / mobile_app',\n",
       "       'source_medium_ru.android.bankproduct_rustore / mobile_app',\n",
       "       'source_medium_trigger / sms', 'source_medium_vk / cpc',\n",
       "       'source_medium_web.telegram.org / referral ',\n",
       "       'source_medium_ya.ru / cpc', 'source_medium_yahoo / organic',\n",
       "       'source_medium_yandex / cpc', 'source_medium_yandex / organic',\n",
       "       'source_medium_zen.yandex.ru / cpm', 'interface_api', 'interface_app',\n",
       "       'interface_web', 'event_type_click', 'event_type_conversion',\n",
       "       'event_type_show', 'event_status_approve', 'event_status_deal',\n",
       "       'event_status_reject', 'event_status_sale', 'product_type_deposits'],\n",
       "      dtype='object')"
      ]
     },
     "execution_count": 61,
     "metadata": {},
     "output_type": "execute_result"
    }
   ],
   "source": [
    "deposit_data_dummies_all.columns"
   ]
  },
  {
   "cell_type": "code",
   "execution_count": 60,
   "metadata": {},
   "outputs": [],
   "source": [
    "# Расчет процента самостоятельных конверсий. Самостоятельные конверсии - те, которые произошли без прямого воздействия рекламы (раньше старта рекламной кампании и нулевой стоимостью рекламной кампании)\n",
    "\n",
    "deposit_data_dummies_all_conversions = deposit_data_dummies_all.loc[deposit_data_dummies_all['campaign_type_conversion'] > 0]"
   ]
  },
  {
   "cell_type": "code",
   "execution_count": 79,
   "metadata": {},
   "outputs": [],
   "source": [
    "deposit_data_dummies_all_conversions_self = deposit_data_dummies_all_conversions.loc[(deposit_data_dummies_all_conversions['time_from_camp_start_till_event'].str.contains('-')) & (deposit_data_dummies_all_conversions['campaign_cost'] == 0)]"
   ]
  },
  {
   "cell_type": "code",
   "execution_count": 80,
   "metadata": {},
   "outputs": [
    {
     "data": {
      "text/html": [
       "<div>\n",
       "<style scoped>\n",
       "    .dataframe tbody tr th:only-of-type {\n",
       "        vertical-align: middle;\n",
       "    }\n",
       "\n",
       "    .dataframe tbody tr th {\n",
       "        vertical-align: top;\n",
       "    }\n",
       "\n",
       "    .dataframe thead th {\n",
       "        text-align: right;\n",
       "    }\n",
       "</style>\n",
       "<table border=\"1\" class=\"dataframe\">\n",
       "  <thead>\n",
       "    <tr style=\"text-align: right;\">\n",
       "      <th></th>\n",
       "      <th>user_id</th>\n",
       "      <th>utm_campaign</th>\n",
       "      <th>campaign_cost</th>\n",
       "      <th>payout</th>\n",
       "      <th>time_from_reg_till_event</th>\n",
       "      <th>time_from_camp_start_till_event</th>\n",
       "      <th>campaign_type_click</th>\n",
       "      <th>campaign_type_conversion</th>\n",
       "      <th>campaign_type_show</th>\n",
       "      <th>source_medium_android / mobile_app</th>\n",
       "      <th>...</th>\n",
       "      <th>interface_app</th>\n",
       "      <th>interface_web</th>\n",
       "      <th>event_type_click</th>\n",
       "      <th>event_type_conversion</th>\n",
       "      <th>event_type_show</th>\n",
       "      <th>event_status_approve</th>\n",
       "      <th>event_status_deal</th>\n",
       "      <th>event_status_reject</th>\n",
       "      <th>event_status_sale</th>\n",
       "      <th>product_type_deposits</th>\n",
       "    </tr>\n",
       "  </thead>\n",
       "  <tbody>\n",
       "    <tr>\n",
       "      <th>4993</th>\n",
       "      <td>81cc8fb0573a1b0cf785c2d6ccc7b03c</td>\n",
       "      <td>target_rebrand_megamaket</td>\n",
       "      <td>0.0</td>\n",
       "      <td>0.0000</td>\n",
       "      <td>127 days 18:19:25.694112000</td>\n",
       "      <td>-51 days +23:38:06.101574000</td>\n",
       "      <td>0</td>\n",
       "      <td>1</td>\n",
       "      <td>0</td>\n",
       "      <td>0</td>\n",
       "      <td>...</td>\n",
       "      <td>0</td>\n",
       "      <td>0</td>\n",
       "      <td>0</td>\n",
       "      <td>1</td>\n",
       "      <td>0</td>\n",
       "      <td>0</td>\n",
       "      <td>1</td>\n",
       "      <td>0</td>\n",
       "      <td>0</td>\n",
       "      <td>1</td>\n",
       "    </tr>\n",
       "    <tr>\n",
       "      <th>4995</th>\n",
       "      <td>81cc8fb0573a1b0cf785c2d6ccc7b03c</td>\n",
       "      <td>megamaket_light_clickarrow</td>\n",
       "      <td>0.0</td>\n",
       "      <td>0.0000</td>\n",
       "      <td>127 days 18:19:25.694112000</td>\n",
       "      <td>-50 days +12:29:13.263522000</td>\n",
       "      <td>0</td>\n",
       "      <td>1</td>\n",
       "      <td>0</td>\n",
       "      <td>0</td>\n",
       "      <td>...</td>\n",
       "      <td>0</td>\n",
       "      <td>0</td>\n",
       "      <td>0</td>\n",
       "      <td>1</td>\n",
       "      <td>0</td>\n",
       "      <td>0</td>\n",
       "      <td>1</td>\n",
       "      <td>0</td>\n",
       "      <td>0</td>\n",
       "      <td>1</td>\n",
       "    </tr>\n",
       "    <tr>\n",
       "      <th>15292</th>\n",
       "      <td>b0a89696c3848c9b7487f55e00222214</td>\n",
       "      <td>rebrand_target_response</td>\n",
       "      <td>0.0</td>\n",
       "      <td>276.6546</td>\n",
       "      <td>40 days 15:23:52.035882000</td>\n",
       "      <td>-30 days +22:19:19.330277000</td>\n",
       "      <td>0</td>\n",
       "      <td>1</td>\n",
       "      <td>0</td>\n",
       "      <td>0</td>\n",
       "      <td>...</td>\n",
       "      <td>1</td>\n",
       "      <td>0</td>\n",
       "      <td>0</td>\n",
       "      <td>1</td>\n",
       "      <td>0</td>\n",
       "      <td>0</td>\n",
       "      <td>1</td>\n",
       "      <td>0</td>\n",
       "      <td>0</td>\n",
       "      <td>1</td>\n",
       "    </tr>\n",
       "    <tr>\n",
       "      <th>15293</th>\n",
       "      <td>b0a89696c3848c9b7487f55e00222214</td>\n",
       "      <td>rebrand_target_response</td>\n",
       "      <td>0.0</td>\n",
       "      <td>0.0000</td>\n",
       "      <td>40 days 15:23:52.035882000</td>\n",
       "      <td>-30 days +22:19:19.330277000</td>\n",
       "      <td>0</td>\n",
       "      <td>1</td>\n",
       "      <td>0</td>\n",
       "      <td>0</td>\n",
       "      <td>...</td>\n",
       "      <td>1</td>\n",
       "      <td>0</td>\n",
       "      <td>0</td>\n",
       "      <td>1</td>\n",
       "      <td>0</td>\n",
       "      <td>0</td>\n",
       "      <td>0</td>\n",
       "      <td>0</td>\n",
       "      <td>1</td>\n",
       "      <td>1</td>\n",
       "    </tr>\n",
       "    <tr>\n",
       "      <th>15294</th>\n",
       "      <td>b0a89696c3848c9b7487f55e00222214</td>\n",
       "      <td>rebrand_target_response</td>\n",
       "      <td>0.0</td>\n",
       "      <td>0.0000</td>\n",
       "      <td>40 days 15:23:52.035882000</td>\n",
       "      <td>-30 days +22:19:19.330277000</td>\n",
       "      <td>0</td>\n",
       "      <td>1</td>\n",
       "      <td>0</td>\n",
       "      <td>0</td>\n",
       "      <td>...</td>\n",
       "      <td>1</td>\n",
       "      <td>0</td>\n",
       "      <td>0</td>\n",
       "      <td>1</td>\n",
       "      <td>0</td>\n",
       "      <td>1</td>\n",
       "      <td>0</td>\n",
       "      <td>0</td>\n",
       "      <td>0</td>\n",
       "      <td>1</td>\n",
       "    </tr>\n",
       "  </tbody>\n",
       "</table>\n",
       "<p>5 rows × 40 columns</p>\n",
       "</div>"
      ],
      "text/plain": [
       "                                user_id                utm_campaign  \\\n",
       "4993   81cc8fb0573a1b0cf785c2d6ccc7b03c    target_rebrand_megamaket   \n",
       "4995   81cc8fb0573a1b0cf785c2d6ccc7b03c  megamaket_light_clickarrow   \n",
       "15292  b0a89696c3848c9b7487f55e00222214     rebrand_target_response   \n",
       "15293  b0a89696c3848c9b7487f55e00222214     rebrand_target_response   \n",
       "15294  b0a89696c3848c9b7487f55e00222214     rebrand_target_response   \n",
       "\n",
       "       campaign_cost    payout     time_from_reg_till_event  \\\n",
       "4993             0.0    0.0000  127 days 18:19:25.694112000   \n",
       "4995             0.0    0.0000  127 days 18:19:25.694112000   \n",
       "15292            0.0  276.6546   40 days 15:23:52.035882000   \n",
       "15293            0.0    0.0000   40 days 15:23:52.035882000   \n",
       "15294            0.0    0.0000   40 days 15:23:52.035882000   \n",
       "\n",
       "      time_from_camp_start_till_event  campaign_type_click  \\\n",
       "4993     -51 days +23:38:06.101574000                    0   \n",
       "4995     -50 days +12:29:13.263522000                    0   \n",
       "15292    -30 days +22:19:19.330277000                    0   \n",
       "15293    -30 days +22:19:19.330277000                    0   \n",
       "15294    -30 days +22:19:19.330277000                    0   \n",
       "\n",
       "       campaign_type_conversion  campaign_type_show  \\\n",
       "4993                          1                   0   \n",
       "4995                          1                   0   \n",
       "15292                         1                   0   \n",
       "15293                         1                   0   \n",
       "15294                         1                   0   \n",
       "\n",
       "       source_medium_android / mobile_app  ...  interface_app  interface_web  \\\n",
       "4993                                    0  ...              0              0   \n",
       "4995                                    0  ...              0              0   \n",
       "15292                                   0  ...              1              0   \n",
       "15293                                   0  ...              1              0   \n",
       "15294                                   0  ...              1              0   \n",
       "\n",
       "       event_type_click  event_type_conversion  event_type_show  \\\n",
       "4993                  0                      1                0   \n",
       "4995                  0                      1                0   \n",
       "15292                 0                      1                0   \n",
       "15293                 0                      1                0   \n",
       "15294                 0                      1                0   \n",
       "\n",
       "       event_status_approve  event_status_deal  event_status_reject  \\\n",
       "4993                      0                  1                    0   \n",
       "4995                      0                  1                    0   \n",
       "15292                     0                  1                    0   \n",
       "15293                     0                  0                    0   \n",
       "15294                     1                  0                    0   \n",
       "\n",
       "       event_status_sale  product_type_deposits  \n",
       "4993                   0                      1  \n",
       "4995                   0                      1  \n",
       "15292                  0                      1  \n",
       "15293                  1                      1  \n",
       "15294                  0                      1  \n",
       "\n",
       "[5 rows x 40 columns]"
      ]
     },
     "execution_count": 80,
     "metadata": {},
     "output_type": "execute_result"
    }
   ],
   "source": [
    "deposit_data_dummies_all_conversions_self.head()"
   ]
  },
  {
   "cell_type": "code",
   "execution_count": 85,
   "metadata": {},
   "outputs": [],
   "source": [
    "self_conversions = round(deposit_data_dummies_all_conversions_self['campaign_type_conversion'].sum() / deposit_data_dummies_all['campaign_type_conversion'].sum() * 100, 3)"
   ]
  },
  {
   "cell_type": "code",
   "execution_count": 86,
   "metadata": {},
   "outputs": [
    {
     "data": {
      "text/plain": [
       "33.883"
      ]
     },
     "execution_count": 86,
     "metadata": {},
     "output_type": "execute_result"
    }
   ],
   "source": [
    "self_conversions"
   ]
  },
  {
   "cell_type": "code",
   "execution_count": 89,
   "metadata": {},
   "outputs": [],
   "source": [
    "# Процент одобрений банком - процент одобренных депозитов от общего числа конверсий\n",
    "\n",
    "bank_positive_decisions = deposit_data_dummies_all_conversions.loc[(deposit_data_dummies_all_conversions['event_status_approve'] != 0) | (deposit_data_dummies_all_conversions['event_status_deal'] != 0)][['event_status_approve', 'event_status_deal']].sum()"
   ]
  },
  {
   "cell_type": "code",
   "execution_count": 91,
   "metadata": {},
   "outputs": [],
   "source": [
    "bank_positive_decisions_sum = bank_positive_decisions['event_status_approve'] + bank_positive_decisions['event_status_deal']"
   ]
  },
  {
   "cell_type": "code",
   "execution_count": 96,
   "metadata": {},
   "outputs": [],
   "source": [
    "bank_positive_decisions_percent = round(bank_positive_decisions_sum / deposit_data_dummies_all['campaign_type_conversion'].sum() * 100, 3)"
   ]
  },
  {
   "cell_type": "code",
   "execution_count": 97,
   "metadata": {},
   "outputs": [
    {
     "data": {
      "text/plain": [
       "72.268"
      ]
     },
     "execution_count": 97,
     "metadata": {},
     "output_type": "execute_result"
    }
   ],
   "source": [
    "bank_positive_decisions_percent"
   ]
  },
  {
   "cell_type": "code",
   "execution_count": null,
   "metadata": {},
   "outputs": [],
   "source": []
  }
 ],
 "metadata": {
  "kernelspec": {
   "display_name": "rapids-24.04",
   "language": "python",
   "name": "python3"
  },
  "language_info": {
   "codemirror_mode": {
    "name": "ipython",
    "version": 3
   },
   "file_extension": ".py",
   "mimetype": "text/x-python",
   "name": "python",
   "nbconvert_exporter": "python",
   "pygments_lexer": "ipython3",
   "version": "3.11.9"
  }
 },
 "nbformat": 4,
 "nbformat_minor": 2
}
