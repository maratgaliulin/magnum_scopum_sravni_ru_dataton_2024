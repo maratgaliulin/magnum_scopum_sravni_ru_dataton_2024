{
 "cells": [
  {
   "cell_type": "code",
   "execution_count": 1,
   "metadata": {},
   "outputs": [],
   "source": [
    "import cudf as pd\n",
    "import cupy as cp\n",
    "import numpy as np\n",
    "# import matplotlib.pyplot as plt\n",
    "# import pandas"
   ]
  },
  {
   "cell_type": "code",
   "execution_count": 2,
   "metadata": {},
   "outputs": [],
   "source": [
    "# Загружаю датасет по депозитам\n",
    "\n",
    "deposit_data = pd.read_csv('data/deposit_data.csv', index_col=0)"
   ]
  },
  {
   "cell_type": "code",
   "execution_count": 3,
   "metadata": {},
   "outputs": [],
   "source": [
    "deposit_data = deposit_data.reset_index().drop('index', axis=1)"
   ]
  },
  {
   "cell_type": "code",
   "execution_count": 29,
   "metadata": {},
   "outputs": [
    {
     "data": {
      "text/html": [
       "<div>\n",
       "<style scoped>\n",
       "    .dataframe tbody tr th:only-of-type {\n",
       "        vertical-align: middle;\n",
       "    }\n",
       "\n",
       "    .dataframe tbody tr th {\n",
       "        vertical-align: top;\n",
       "    }\n",
       "\n",
       "    .dataframe thead th {\n",
       "        text-align: right;\n",
       "    }\n",
       "</style>\n",
       "<table border=\"1\" class=\"dataframe\">\n",
       "  <thead>\n",
       "    <tr style=\"text-align: right;\">\n",
       "      <th></th>\n",
       "      <th>user_id</th>\n",
       "      <th>campaign_type</th>\n",
       "      <th>source_medium</th>\n",
       "      <th>utm_campaign</th>\n",
       "      <th>interface</th>\n",
       "      <th>campaign_cost</th>\n",
       "      <th>user_phone</th>\n",
       "      <th>id</th>\n",
       "      <th>event_type</th>\n",
       "      <th>event_status</th>\n",
       "      <th>payout</th>\n",
       "      <th>product_type</th>\n",
       "      <th>time_from_reg_till_event</th>\n",
       "      <th>time_from_camp_start_till_event</th>\n",
       "    </tr>\n",
       "  </thead>\n",
       "  <tbody>\n",
       "    <tr>\n",
       "      <th>0</th>\n",
       "      <td>70391e123115e9d0f463495adfa9ff91</td>\n",
       "      <td>show</td>\n",
       "      <td>yandex / organic</td>\n",
       "      <td>client_rebrand_megamaket</td>\n",
       "      <td>app</td>\n",
       "      <td>0.0</td>\n",
       "      <td>79143423444</td>\n",
       "      <td>aa154add98285bd92c7bbe42f602ef7218a45b3d7ce0bf...</td>\n",
       "      <td>show</td>\n",
       "      <td>&lt;NA&gt;</td>\n",
       "      <td>0.0</td>\n",
       "      <td>deposits</td>\n",
       "      <td>152 days 03:39:49.120132000</td>\n",
       "      <td>92 days 16:47:29.443329000</td>\n",
       "    </tr>\n",
       "    <tr>\n",
       "      <th>1</th>\n",
       "      <td>70391e123115e9d0f463495adfa9ff91</td>\n",
       "      <td>click</td>\n",
       "      <td>yandex / organic</td>\n",
       "      <td>bk_adv_client</td>\n",
       "      <td>web</td>\n",
       "      <td>0.0</td>\n",
       "      <td>79143423444</td>\n",
       "      <td>416ce92d431422cffd83519bbdddebba9f92718b21e9d9...</td>\n",
       "      <td>click</td>\n",
       "      <td>&lt;NA&gt;</td>\n",
       "      <td>0.0</td>\n",
       "      <td>deposits</td>\n",
       "      <td>152 days 03:39:49.120132000</td>\n",
       "      <td>82 days 19:27:19.982213000</td>\n",
       "    </tr>\n",
       "  </tbody>\n",
       "</table>\n",
       "</div>"
      ],
      "text/plain": [
       "                            user_id campaign_type     source_medium  \\\n",
       "0  70391e123115e9d0f463495adfa9ff91          show  yandex / organic   \n",
       "1  70391e123115e9d0f463495adfa9ff91         click  yandex / organic   \n",
       "\n",
       "               utm_campaign interface  campaign_cost   user_phone  \\\n",
       "0  client_rebrand_megamaket       app            0.0  79143423444   \n",
       "1             bk_adv_client       web            0.0  79143423444   \n",
       "\n",
       "                                                  id event_type event_status  \\\n",
       "0  aa154add98285bd92c7bbe42f602ef7218a45b3d7ce0bf...       show         <NA>   \n",
       "1  416ce92d431422cffd83519bbdddebba9f92718b21e9d9...      click         <NA>   \n",
       "\n",
       "   payout product_type     time_from_reg_till_event  \\\n",
       "0     0.0     deposits  152 days 03:39:49.120132000   \n",
       "1     0.0     deposits  152 days 03:39:49.120132000   \n",
       "\n",
       "  time_from_camp_start_till_event  \n",
       "0      92 days 16:47:29.443329000  \n",
       "1      82 days 19:27:19.982213000  "
      ]
     },
     "execution_count": 29,
     "metadata": {},
     "output_type": "execute_result"
    }
   ],
   "source": [
    "deposit_data.head(2)"
   ]
  },
  {
   "cell_type": "code",
   "execution_count": 5,
   "metadata": {},
   "outputs": [],
   "source": [
    "# Сохраняю названия столбцов в виде numpy-массива\n",
    "\n",
    "cols = np.array(deposit_data.columns)"
   ]
  },
  {
   "cell_type": "code",
   "execution_count": 6,
   "metadata": {},
   "outputs": [],
   "source": [
    "# Удаляю из массива столбцов ненужные\n",
    "\n",
    "cols = np.delete(cols, [0,5,6,7,10,11,12,13])"
   ]
  },
  {
   "cell_type": "code",
   "execution_count": null,
   "metadata": {},
   "outputs": [],
   "source": [
    "# Применяю метод value_counts() к каждому столбцу из массива\n",
    "\n",
    "for col in cols:\n",
    "    print(col)\n",
    "    print('-------------------------')\n",
    "    print(deposit_data[col].value_counts())\n",
    "    print('::::::::::::::::::::::::::')\n",
    "    print('\\n')"
   ]
  },
  {
   "cell_type": "code",
   "execution_count": 8,
   "metadata": {},
   "outputs": [],
   "source": [
    "# Создаю подмассив с ID пользователей и разделенными значениями из столбца campaign_type\n",
    "\n",
    "deposit_data_by_campaign_type = pd.get_dummies(deposit_data[['user_id', 'campaign_type']], columns=['campaign_type'], dtype='int')"
   ]
  },
  {
   "cell_type": "code",
   "execution_count": 9,
   "metadata": {},
   "outputs": [],
   "source": [
    "# Группирую значения в массиве по ID пользователя. Таким образом в каждом столбце для каждого пользователя суммируется кол-во каждого из трех типов касаний \n",
    "\n",
    "deposit_data_by_campaign_type = deposit_data_by_campaign_type.groupby('user_id').sum()"
   ]
  },
  {
   "cell_type": "code",
   "execution_count": 10,
   "metadata": {},
   "outputs": [],
   "source": [
    "# Выделяю пользователей, у которых была хотя бы одна конверсия\n",
    "\n",
    "deposit_data_by_campaign_type_conversions = deposit_data_by_campaign_type.loc[deposit_data_by_campaign_type['campaign_type_conversion'] > 0]"
   ]
  },
  {
   "cell_type": "code",
   "execution_count": 11,
   "metadata": {},
   "outputs": [
    {
     "data": {
      "text/html": [
       "<div>\n",
       "<style scoped>\n",
       "    .dataframe tbody tr th:only-of-type {\n",
       "        vertical-align: middle;\n",
       "    }\n",
       "\n",
       "    .dataframe tbody tr th {\n",
       "        vertical-align: top;\n",
       "    }\n",
       "\n",
       "    .dataframe thead th {\n",
       "        text-align: right;\n",
       "    }\n",
       "</style>\n",
       "<table border=\"1\" class=\"dataframe\">\n",
       "  <thead>\n",
       "    <tr style=\"text-align: right;\">\n",
       "      <th></th>\n",
       "      <th>campaign_type_click</th>\n",
       "      <th>campaign_type_conversion</th>\n",
       "      <th>campaign_type_show</th>\n",
       "    </tr>\n",
       "    <tr>\n",
       "      <th>user_id</th>\n",
       "      <th></th>\n",
       "      <th></th>\n",
       "      <th></th>\n",
       "    </tr>\n",
       "  </thead>\n",
       "  <tbody>\n",
       "    <tr>\n",
       "      <th>067c102c89732a569567d2f673dbf0c9</th>\n",
       "      <td>2</td>\n",
       "      <td>15</td>\n",
       "      <td>2</td>\n",
       "    </tr>\n",
       "    <tr>\n",
       "      <th>558fa53918641cdaec9c564da667d2f0</th>\n",
       "      <td>1</td>\n",
       "      <td>12</td>\n",
       "      <td>1</td>\n",
       "    </tr>\n",
       "    <tr>\n",
       "      <th>8e7e0913bd4ad9c5b0501ad8c8dfe64b</th>\n",
       "      <td>1</td>\n",
       "      <td>12</td>\n",
       "      <td>1</td>\n",
       "    </tr>\n",
       "    <tr>\n",
       "      <th>8b436194ccd8675e7c6a0cb8076aeadc</th>\n",
       "      <td>1</td>\n",
       "      <td>12</td>\n",
       "      <td>2</td>\n",
       "    </tr>\n",
       "    <tr>\n",
       "      <th>14bd689a3dcbda5e6db725ac450ac3b0</th>\n",
       "      <td>1</td>\n",
       "      <td>12</td>\n",
       "      <td>1</td>\n",
       "    </tr>\n",
       "  </tbody>\n",
       "</table>\n",
       "</div>"
      ],
      "text/plain": [
       "                                  campaign_type_click  \\\n",
       "user_id                                                 \n",
       "067c102c89732a569567d2f673dbf0c9                    2   \n",
       "558fa53918641cdaec9c564da667d2f0                    1   \n",
       "8e7e0913bd4ad9c5b0501ad8c8dfe64b                    1   \n",
       "8b436194ccd8675e7c6a0cb8076aeadc                    1   \n",
       "14bd689a3dcbda5e6db725ac450ac3b0                    1   \n",
       "\n",
       "                                  campaign_type_conversion  campaign_type_show  \n",
       "user_id                                                                         \n",
       "067c102c89732a569567d2f673dbf0c9                        15                   2  \n",
       "558fa53918641cdaec9c564da667d2f0                        12                   1  \n",
       "8e7e0913bd4ad9c5b0501ad8c8dfe64b                        12                   1  \n",
       "8b436194ccd8675e7c6a0cb8076aeadc                        12                   2  \n",
       "14bd689a3dcbda5e6db725ac450ac3b0                        12                   1  "
      ]
     },
     "execution_count": 11,
     "metadata": {},
     "output_type": "execute_result"
    }
   ],
   "source": [
    "# Сортирую этих пользователей по количеству конверсий\n",
    "\n",
    "deposit_data_by_campaign_type_conversions.sort_values(by='campaign_type_conversion', ascending=False).head(5)"
   ]
  },
  {
   "cell_type": "markdown",
   "metadata": {},
   "source": [
    "1. Общее количество касаний зарегистрированных пользователей"
   ]
  },
  {
   "cell_type": "code",
   "execution_count": 24,
   "metadata": {},
   "outputs": [],
   "source": [
    "# Суммы касаний кликов, показов и конверсий\n",
    "\n",
    "sum_of_touches = deposit_data_by_campaign_type.sum(axis=0)"
   ]
  },
  {
   "cell_type": "code",
   "execution_count": 28,
   "metadata": {},
   "outputs": [
    {
     "data": {
      "text/plain": [
       "campaign_type_click          124148\n",
       "campaign_type_conversion       5398\n",
       "campaign_type_show          1990110\n",
       "dtype: int64"
      ]
     },
     "execution_count": 28,
     "metadata": {},
     "output_type": "execute_result"
    }
   ],
   "source": [
    "sum_of_touches"
   ]
  },
  {
   "cell_type": "code",
   "execution_count": 25,
   "metadata": {},
   "outputs": [],
   "source": [
    "# Сумма показов без конверсий\n",
    "\n",
    "sum_of_touches_wo_conversions = sum_of_touches['campaign_type_click'] + sum_of_touches['campaign_type_show']"
   ]
  },
  {
   "cell_type": "code",
   "execution_count": 26,
   "metadata": {},
   "outputs": [
    {
     "data": {
      "text/plain": [
       "2114258"
      ]
     },
     "execution_count": 26,
     "metadata": {},
     "output_type": "execute_result"
    }
   ],
   "source": [
    "sum_of_touches_wo_conversions"
   ]
  },
  {
   "cell_type": "code",
   "execution_count": 27,
   "metadata": {},
   "outputs": [
    {
     "data": {
      "text/plain": [
       "campaign_type_click         1181\n",
       "campaign_type_conversion    5398\n",
       "campaign_type_show          1271\n",
       "dtype: int64"
      ]
     },
     "execution_count": 27,
     "metadata": {},
     "output_type": "execute_result"
    }
   ],
   "source": [
    "deposit_data_by_campaign_type_conversions.sum()"
   ]
  },
  {
   "cell_type": "code",
   "execution_count": 30,
   "metadata": {},
   "outputs": [],
   "source": [
    "# Сумма касаний, которые привели к конверсиям\n",
    "\n",
    "sum_of_touches_lead_to_conversions = deposit_data_by_campaign_type_conversions.sum()['campaign_type_click'] + deposit_data_by_campaign_type_conversions.sum()['campaign_type_show']"
   ]
  },
  {
   "cell_type": "code",
   "execution_count": 31,
   "metadata": {},
   "outputs": [
    {
     "data": {
      "text/plain": [
       "2452"
      ]
     },
     "execution_count": 31,
     "metadata": {},
     "output_type": "execute_result"
    }
   ],
   "source": [
    "sum_of_touches_lead_to_conversions"
   ]
  },
  {
   "cell_type": "code",
   "execution_count": 36,
   "metadata": {},
   "outputs": [],
   "source": [
    "# Процент касаний, который привел к конверсиям:\n",
    "\n",
    "conversion_touches_percent = round(sum_of_touches_lead_to_conversions / sum_of_touches_wo_conversions * 100, 3)"
   ]
  },
  {
   "cell_type": "code",
   "execution_count": 37,
   "metadata": {},
   "outputs": [
    {
     "data": {
      "text/plain": [
       "0.116"
      ]
     },
     "execution_count": 37,
     "metadata": {},
     "output_type": "execute_result"
    }
   ],
   "source": [
    "conversion_touches_percent"
   ]
  },
  {
   "cell_type": "code",
   "execution_count": 39,
   "metadata": {},
   "outputs": [],
   "source": [
    "# Общие затраты на рекламу для депозитов\n",
    "\n",
    "total_expenditures = deposit_data['campaign_cost'].sum()"
   ]
  },
  {
   "cell_type": "code",
   "execution_count": 40,
   "metadata": {},
   "outputs": [],
   "source": [
    "# Общий доход как сумма столбца payout\n",
    "\n",
    "total_payout = deposit_data['payout'].sum()"
   ]
  },
  {
   "cell_type": "code",
   "execution_count": 46,
   "metadata": {},
   "outputs": [],
   "source": [
    "# Общая прибыль от депозитов:\n",
    "\n",
    "gross_margin = round(total_payout - total_expenditures, 3)"
   ]
  },
  {
   "cell_type": "code",
   "execution_count": 47,
   "metadata": {},
   "outputs": [
    {
     "data": {
      "text/plain": [
       "1139472.995"
      ]
     },
     "execution_count": 47,
     "metadata": {},
     "output_type": "execute_result"
    }
   ],
   "source": [
    "gross_margin"
   ]
  },
  {
   "cell_type": "code",
   "execution_count": null,
   "metadata": {},
   "outputs": [],
   "source": []
  }
 ],
 "metadata": {
  "kernelspec": {
   "display_name": "rapids-24.04",
   "language": "python",
   "name": "python3"
  },
  "language_info": {
   "codemirror_mode": {
    "name": "ipython",
    "version": 3
   },
   "file_extension": ".py",
   "mimetype": "text/x-python",
   "name": "python",
   "nbconvert_exporter": "python",
   "pygments_lexer": "ipython3",
   "version": "3.11.9"
  }
 },
 "nbformat": 4,
 "nbformat_minor": 2
}
