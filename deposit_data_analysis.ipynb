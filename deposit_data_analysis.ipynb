{
 "cells": [
  {
   "cell_type": "code",
   "execution_count": 1,
   "metadata": {},
   "outputs": [],
   "source": [
    "import pandas as pd"
   ]
  },
  {
   "cell_type": "code",
   "execution_count": 2,
   "metadata": {},
   "outputs": [],
   "source": [
    "# Загружаю датасет по депозитам\n",
    "\n",
    "deposit_data = pd.read_csv('data/deposit_data.csv', index_col=0)"
   ]
  },
  {
   "cell_type": "code",
   "execution_count": 3,
   "metadata": {},
   "outputs": [],
   "source": [
    "deposit_data = deposit_data.reset_index().drop('Unnamed: 0', axis=1)"
   ]
  },
  {
   "cell_type": "code",
   "execution_count": 4,
   "metadata": {},
   "outputs": [],
   "source": [
    "deposit_data = deposit_data.drop('index', axis=1)"
   ]
  },
  {
   "cell_type": "code",
   "execution_count": 5,
   "metadata": {},
   "outputs": [
    {
     "data": {
      "text/html": [
       "<div>\n",
       "<style scoped>\n",
       "    .dataframe tbody tr th:only-of-type {\n",
       "        vertical-align: middle;\n",
       "    }\n",
       "\n",
       "    .dataframe tbody tr th {\n",
       "        vertical-align: top;\n",
       "    }\n",
       "\n",
       "    .dataframe thead th {\n",
       "        text-align: right;\n",
       "    }\n",
       "</style>\n",
       "<table border=\"1\" class=\"dataframe\">\n",
       "  <thead>\n",
       "    <tr style=\"text-align: right;\">\n",
       "      <th></th>\n",
       "      <th>user_phone</th>\n",
       "      <th>campaign_cost</th>\n",
       "      <th>campaign_type_click</th>\n",
       "      <th>campaign_type_conversion</th>\n",
       "      <th>campaign_type_show</th>\n",
       "      <th>source_medium_android / mobile_app</th>\n",
       "      <th>source_medium_bing / organic</th>\n",
       "      <th>source_medium_email / email</th>\n",
       "      <th>source_medium_finance.rambler.ru / cpm</th>\n",
       "      <th>source_medium_google / organic</th>\n",
       "      <th>...</th>\n",
       "      <th>event_type_conversion</th>\n",
       "      <th>event_type_show</th>\n",
       "      <th>product_type_deposits</th>\n",
       "      <th>product_type_loan</th>\n",
       "      <th>product_type_mortgage</th>\n",
       "      <th>event_status_approve</th>\n",
       "      <th>event_status_deal</th>\n",
       "      <th>event_status_payout</th>\n",
       "      <th>event_status_reject</th>\n",
       "      <th>event_status_sale</th>\n",
       "    </tr>\n",
       "  </thead>\n",
       "  <tbody>\n",
       "    <tr>\n",
       "      <th>0</th>\n",
       "      <td>79123364690</td>\n",
       "      <td>0.0</td>\n",
       "      <td>1</td>\n",
       "      <td>0</td>\n",
       "      <td>1</td>\n",
       "      <td>0</td>\n",
       "      <td>0</td>\n",
       "      <td>0</td>\n",
       "      <td>0</td>\n",
       "      <td>0</td>\n",
       "      <td>...</td>\n",
       "      <td>0</td>\n",
       "      <td>1</td>\n",
       "      <td>1</td>\n",
       "      <td>0</td>\n",
       "      <td>0</td>\n",
       "      <td>0</td>\n",
       "      <td>0</td>\n",
       "      <td>0</td>\n",
       "      <td>0</td>\n",
       "      <td>0</td>\n",
       "    </tr>\n",
       "    <tr>\n",
       "      <th>1</th>\n",
       "      <td>79108520894</td>\n",
       "      <td>0.0</td>\n",
       "      <td>0</td>\n",
       "      <td>0</td>\n",
       "      <td>1</td>\n",
       "      <td>0</td>\n",
       "      <td>0</td>\n",
       "      <td>0</td>\n",
       "      <td>0</td>\n",
       "      <td>0</td>\n",
       "      <td>...</td>\n",
       "      <td>0</td>\n",
       "      <td>1</td>\n",
       "      <td>1</td>\n",
       "      <td>0</td>\n",
       "      <td>0</td>\n",
       "      <td>0</td>\n",
       "      <td>0</td>\n",
       "      <td>0</td>\n",
       "      <td>0</td>\n",
       "      <td>0</td>\n",
       "    </tr>\n",
       "    <tr>\n",
       "      <th>2</th>\n",
       "      <td>79104979450</td>\n",
       "      <td>0.0</td>\n",
       "      <td>0</td>\n",
       "      <td>0</td>\n",
       "      <td>1</td>\n",
       "      <td>0</td>\n",
       "      <td>0</td>\n",
       "      <td>0</td>\n",
       "      <td>0</td>\n",
       "      <td>0</td>\n",
       "      <td>...</td>\n",
       "      <td>0</td>\n",
       "      <td>1</td>\n",
       "      <td>1</td>\n",
       "      <td>0</td>\n",
       "      <td>0</td>\n",
       "      <td>0</td>\n",
       "      <td>0</td>\n",
       "      <td>0</td>\n",
       "      <td>0</td>\n",
       "      <td>0</td>\n",
       "    </tr>\n",
       "    <tr>\n",
       "      <th>3</th>\n",
       "      <td>79101386075</td>\n",
       "      <td>0.0</td>\n",
       "      <td>0</td>\n",
       "      <td>0</td>\n",
       "      <td>1</td>\n",
       "      <td>0</td>\n",
       "      <td>0</td>\n",
       "      <td>0</td>\n",
       "      <td>0</td>\n",
       "      <td>0</td>\n",
       "      <td>...</td>\n",
       "      <td>0</td>\n",
       "      <td>3</td>\n",
       "      <td>1</td>\n",
       "      <td>2</td>\n",
       "      <td>0</td>\n",
       "      <td>0</td>\n",
       "      <td>0</td>\n",
       "      <td>0</td>\n",
       "      <td>0</td>\n",
       "      <td>0</td>\n",
       "    </tr>\n",
       "    <tr>\n",
       "      <th>4</th>\n",
       "      <td>79106677780</td>\n",
       "      <td>0.0</td>\n",
       "      <td>0</td>\n",
       "      <td>0</td>\n",
       "      <td>1</td>\n",
       "      <td>0</td>\n",
       "      <td>0</td>\n",
       "      <td>0</td>\n",
       "      <td>0</td>\n",
       "      <td>0</td>\n",
       "      <td>...</td>\n",
       "      <td>0</td>\n",
       "      <td>1</td>\n",
       "      <td>2</td>\n",
       "      <td>0</td>\n",
       "      <td>0</td>\n",
       "      <td>0</td>\n",
       "      <td>0</td>\n",
       "      <td>0</td>\n",
       "      <td>0</td>\n",
       "      <td>0</td>\n",
       "    </tr>\n",
       "  </tbody>\n",
       "</table>\n",
       "<p>5 rows × 40 columns</p>\n",
       "</div>"
      ],
      "text/plain": [
       "    user_phone  campaign_cost  campaign_type_click  campaign_type_conversion  \\\n",
       "0  79123364690            0.0                    1                         0   \n",
       "1  79108520894            0.0                    0                         0   \n",
       "2  79104979450            0.0                    0                         0   \n",
       "3  79101386075            0.0                    0                         0   \n",
       "4  79106677780            0.0                    0                         0   \n",
       "\n",
       "   campaign_type_show  source_medium_android / mobile_app  \\\n",
       "0                   1                                   0   \n",
       "1                   1                                   0   \n",
       "2                   1                                   0   \n",
       "3                   1                                   0   \n",
       "4                   1                                   0   \n",
       "\n",
       "   source_medium_bing / organic  source_medium_email / email  \\\n",
       "0                             0                            0   \n",
       "1                             0                            0   \n",
       "2                             0                            0   \n",
       "3                             0                            0   \n",
       "4                             0                            0   \n",
       "\n",
       "   source_medium_finance.rambler.ru / cpm  source_medium_google / organic  \\\n",
       "0                                       0                               0   \n",
       "1                                       0                               0   \n",
       "2                                       0                               0   \n",
       "3                                       0                               0   \n",
       "4                                       0                               0   \n",
       "\n",
       "   ...  event_type_conversion  event_type_show  product_type_deposits  \\\n",
       "0  ...                      0                1                      1   \n",
       "1  ...                      0                1                      1   \n",
       "2  ...                      0                1                      1   \n",
       "3  ...                      0                3                      1   \n",
       "4  ...                      0                1                      2   \n",
       "\n",
       "   product_type_loan  product_type_mortgage  event_status_approve  \\\n",
       "0                  0                      0                     0   \n",
       "1                  0                      0                     0   \n",
       "2                  0                      0                     0   \n",
       "3                  2                      0                     0   \n",
       "4                  0                      0                     0   \n",
       "\n",
       "   event_status_deal  event_status_payout  event_status_reject  \\\n",
       "0                  0                    0                    0   \n",
       "1                  0                    0                    0   \n",
       "2                  0                    0                    0   \n",
       "3                  0                    0                    0   \n",
       "4                  0                    0                    0   \n",
       "\n",
       "   event_status_sale  \n",
       "0                  0  \n",
       "1                  0  \n",
       "2                  0  \n",
       "3                  0  \n",
       "4                  0  \n",
       "\n",
       "[5 rows x 40 columns]"
      ]
     },
     "execution_count": 5,
     "metadata": {},
     "output_type": "execute_result"
    }
   ],
   "source": [
    "deposit_data.head()"
   ]
  },
  {
   "cell_type": "code",
   "execution_count": 6,
   "metadata": {},
   "outputs": [
    {
     "data": {
      "text/html": [
       "<div>\n",
       "<style scoped>\n",
       "    .dataframe tbody tr th:only-of-type {\n",
       "        vertical-align: middle;\n",
       "    }\n",
       "\n",
       "    .dataframe tbody tr th {\n",
       "        vertical-align: top;\n",
       "    }\n",
       "\n",
       "    .dataframe thead th {\n",
       "        text-align: right;\n",
       "    }\n",
       "</style>\n",
       "<table border=\"1\" class=\"dataframe\">\n",
       "  <thead>\n",
       "    <tr style=\"text-align: right;\">\n",
       "      <th></th>\n",
       "      <th>user_phone</th>\n",
       "      <th>campaign_cost</th>\n",
       "      <th>campaign_type_click</th>\n",
       "      <th>campaign_type_conversion</th>\n",
       "      <th>campaign_type_show</th>\n",
       "      <th>source_medium_android / mobile_app</th>\n",
       "      <th>source_medium_bing / organic</th>\n",
       "      <th>source_medium_email / email</th>\n",
       "      <th>source_medium_finance.rambler.ru / cpm</th>\n",
       "      <th>source_medium_google / organic</th>\n",
       "      <th>...</th>\n",
       "      <th>event_type_conversion</th>\n",
       "      <th>event_type_show</th>\n",
       "      <th>product_type_deposits</th>\n",
       "      <th>product_type_loan</th>\n",
       "      <th>product_type_mortgage</th>\n",
       "      <th>event_status_approve</th>\n",
       "      <th>event_status_deal</th>\n",
       "      <th>event_status_payout</th>\n",
       "      <th>event_status_reject</th>\n",
       "      <th>event_status_sale</th>\n",
       "    </tr>\n",
       "  </thead>\n",
       "  <tbody>\n",
       "    <tr>\n",
       "      <th>611084</th>\n",
       "      <td>79135447910</td>\n",
       "      <td>9943.155</td>\n",
       "      <td>2</td>\n",
       "      <td>7</td>\n",
       "      <td>2</td>\n",
       "      <td>0</td>\n",
       "      <td>1</td>\n",
       "      <td>1</td>\n",
       "      <td>0</td>\n",
       "      <td>1</td>\n",
       "      <td>...</td>\n",
       "      <td>0</td>\n",
       "      <td>1</td>\n",
       "      <td>1</td>\n",
       "      <td>0</td>\n",
       "      <td>0</td>\n",
       "      <td>0</td>\n",
       "      <td>0</td>\n",
       "      <td>0</td>\n",
       "      <td>0</td>\n",
       "      <td>0</td>\n",
       "    </tr>\n",
       "    <tr>\n",
       "      <th>1140786</th>\n",
       "      <td>79174181594</td>\n",
       "      <td>11221.160</td>\n",
       "      <td>2</td>\n",
       "      <td>7</td>\n",
       "      <td>2</td>\n",
       "      <td>0</td>\n",
       "      <td>0</td>\n",
       "      <td>1</td>\n",
       "      <td>0</td>\n",
       "      <td>2</td>\n",
       "      <td>...</td>\n",
       "      <td>0</td>\n",
       "      <td>2</td>\n",
       "      <td>1</td>\n",
       "      <td>1</td>\n",
       "      <td>0</td>\n",
       "      <td>0</td>\n",
       "      <td>0</td>\n",
       "      <td>0</td>\n",
       "      <td>0</td>\n",
       "      <td>0</td>\n",
       "    </tr>\n",
       "    <tr>\n",
       "      <th>1000976</th>\n",
       "      <td>79165457436</td>\n",
       "      <td>1619.050</td>\n",
       "      <td>2</td>\n",
       "      <td>6</td>\n",
       "      <td>2</td>\n",
       "      <td>1</td>\n",
       "      <td>0</td>\n",
       "      <td>0</td>\n",
       "      <td>0</td>\n",
       "      <td>2</td>\n",
       "      <td>...</td>\n",
       "      <td>0</td>\n",
       "      <td>1</td>\n",
       "      <td>1</td>\n",
       "      <td>0</td>\n",
       "      <td>0</td>\n",
       "      <td>0</td>\n",
       "      <td>0</td>\n",
       "      <td>0</td>\n",
       "      <td>0</td>\n",
       "      <td>0</td>\n",
       "    </tr>\n",
       "    <tr>\n",
       "      <th>659633</th>\n",
       "      <td>79137117046</td>\n",
       "      <td>352.380</td>\n",
       "      <td>2</td>\n",
       "      <td>6</td>\n",
       "      <td>2</td>\n",
       "      <td>0</td>\n",
       "      <td>0</td>\n",
       "      <td>0</td>\n",
       "      <td>0</td>\n",
       "      <td>0</td>\n",
       "      <td>...</td>\n",
       "      <td>0</td>\n",
       "      <td>1</td>\n",
       "      <td>1</td>\n",
       "      <td>0</td>\n",
       "      <td>0</td>\n",
       "      <td>0</td>\n",
       "      <td>0</td>\n",
       "      <td>0</td>\n",
       "      <td>0</td>\n",
       "      <td>0</td>\n",
       "    </tr>\n",
       "    <tr>\n",
       "      <th>1098791</th>\n",
       "      <td>79174514473</td>\n",
       "      <td>3117.470</td>\n",
       "      <td>2</td>\n",
       "      <td>6</td>\n",
       "      <td>3</td>\n",
       "      <td>0</td>\n",
       "      <td>0</td>\n",
       "      <td>1</td>\n",
       "      <td>0</td>\n",
       "      <td>4</td>\n",
       "      <td>...</td>\n",
       "      <td>1</td>\n",
       "      <td>2</td>\n",
       "      <td>4</td>\n",
       "      <td>0</td>\n",
       "      <td>0</td>\n",
       "      <td>0</td>\n",
       "      <td>1</td>\n",
       "      <td>0</td>\n",
       "      <td>0</td>\n",
       "      <td>0</td>\n",
       "    </tr>\n",
       "  </tbody>\n",
       "</table>\n",
       "<p>5 rows × 40 columns</p>\n",
       "</div>"
      ],
      "text/plain": [
       "          user_phone  campaign_cost  campaign_type_click  \\\n",
       "611084   79135447910       9943.155                    2   \n",
       "1140786  79174181594      11221.160                    2   \n",
       "1000976  79165457436       1619.050                    2   \n",
       "659633   79137117046        352.380                    2   \n",
       "1098791  79174514473       3117.470                    2   \n",
       "\n",
       "         campaign_type_conversion  campaign_type_show  \\\n",
       "611084                          7                   2   \n",
       "1140786                         7                   2   \n",
       "1000976                         6                   2   \n",
       "659633                          6                   2   \n",
       "1098791                         6                   3   \n",
       "\n",
       "         source_medium_android / mobile_app  source_medium_bing / organic  \\\n",
       "611084                                    0                             1   \n",
       "1140786                                   0                             0   \n",
       "1000976                                   1                             0   \n",
       "659633                                    0                             0   \n",
       "1098791                                   0                             0   \n",
       "\n",
       "         source_medium_email / email  source_medium_finance.rambler.ru / cpm  \\\n",
       "611084                             1                                       0   \n",
       "1140786                            1                                       0   \n",
       "1000976                            0                                       0   \n",
       "659633                             0                                       0   \n",
       "1098791                            1                                       0   \n",
       "\n",
       "         source_medium_google / organic  ...  event_type_conversion  \\\n",
       "611084                                1  ...                      0   \n",
       "1140786                               2  ...                      0   \n",
       "1000976                               2  ...                      0   \n",
       "659633                                0  ...                      0   \n",
       "1098791                               4  ...                      1   \n",
       "\n",
       "         event_type_show  product_type_deposits  product_type_loan  \\\n",
       "611084                 1                      1                  0   \n",
       "1140786                2                      1                  1   \n",
       "1000976                1                      1                  0   \n",
       "659633                 1                      1                  0   \n",
       "1098791                2                      4                  0   \n",
       "\n",
       "         product_type_mortgage  event_status_approve  event_status_deal  \\\n",
       "611084                       0                     0                  0   \n",
       "1140786                      0                     0                  0   \n",
       "1000976                      0                     0                  0   \n",
       "659633                       0                     0                  0   \n",
       "1098791                      0                     0                  1   \n",
       "\n",
       "         event_status_payout  event_status_reject  event_status_sale  \n",
       "611084                     0                    0                  0  \n",
       "1140786                    0                    0                  0  \n",
       "1000976                    0                    0                  0  \n",
       "659633                     0                    0                  0  \n",
       "1098791                    0                    0                  0  \n",
       "\n",
       "[5 rows x 40 columns]"
      ]
     },
     "execution_count": 6,
     "metadata": {},
     "output_type": "execute_result"
    }
   ],
   "source": [
    "deposit_data.sort_values(by='campaign_type_conversion', ascending=False).head(5)"
   ]
  },
  {
   "cell_type": "code",
   "execution_count": 7,
   "metadata": {},
   "outputs": [
    {
     "data": {
      "text/plain": [
       "Index(['user_phone', 'campaign_cost', 'campaign_type_click',\n",
       "       'campaign_type_conversion', 'campaign_type_show',\n",
       "       'source_medium_android / mobile_app', 'source_medium_bing / organic',\n",
       "       'source_medium_email / email', 'source_medium_finance.rambler.ru / cpm',\n",
       "       'source_medium_google / organic', 'source_medium_ios / mobile_app',\n",
       "       'source_medium_not-set / none', 'source_medium_pikabu.ru / cpm',\n",
       "       'source_medium_regular / email', 'source_medium_regular / sms',\n",
       "       'source_medium_ru.android.bankproduct / mobile_app',\n",
       "       'source_medium_ru.android.bankproduct_rustore / mobile_app',\n",
       "       'source_medium_trigger / sms', 'source_medium_vk / cpc',\n",
       "       'source_medium_web.telegram.org / referral ',\n",
       "       'source_medium_ya.ru / cpc', 'source_medium_yahoo / organic',\n",
       "       'source_medium_yandex / cpc', 'source_medium_yandex / organic',\n",
       "       'source_medium_zen.yandex.ru / cpm', 'interface_api', 'interface_app',\n",
       "       'interface_web', 'payout', 'event_type_click', 'event_type_conversion',\n",
       "       'event_type_show', 'product_type_deposits', 'product_type_loan',\n",
       "       'product_type_mortgage', 'event_status_approve', 'event_status_deal',\n",
       "       'event_status_payout', 'event_status_reject', 'event_status_sale'],\n",
       "      dtype='object')"
      ]
     },
     "execution_count": 7,
     "metadata": {},
     "output_type": "execute_result"
    }
   ],
   "source": [
    "deposit_data.columns"
   ]
  },
  {
   "cell_type": "code",
   "execution_count": 8,
   "metadata": {},
   "outputs": [],
   "source": [
    "# Суммы касаний кликов, показов и конверсий\n",
    "\n",
    "sum_of_touches = deposit_data[[\n",
    "    'campaign_type_click', 'campaign_type_show', 'campaign_type_conversion']].sum()"
   ]
  },
  {
   "cell_type": "code",
   "execution_count": 9,
   "metadata": {},
   "outputs": [
    {
     "data": {
      "text/plain": [
       "campaign_type_click          492954\n",
       "campaign_type_show          1971691\n",
       "campaign_type_conversion     108408\n",
       "dtype: int64"
      ]
     },
     "execution_count": 9,
     "metadata": {},
     "output_type": "execute_result"
    }
   ],
   "source": [
    "sum_of_touches"
   ]
  },
  {
   "cell_type": "code",
   "execution_count": 10,
   "metadata": {},
   "outputs": [],
   "source": [
    "# Сумма показов без конверсий\n",
    "\n",
    "sum_of_touches_wo_conversions = sum_of_touches['campaign_type_click'] + \\\n",
    "    sum_of_touches['campaign_type_show']"
   ]
  },
  {
   "cell_type": "code",
   "execution_count": 11,
   "metadata": {},
   "outputs": [
    {
     "data": {
      "text/plain": [
       "2464645"
      ]
     },
     "execution_count": 11,
     "metadata": {},
     "output_type": "execute_result"
    }
   ],
   "source": [
    "sum_of_touches_wo_conversions"
   ]
  },
  {
   "cell_type": "code",
   "execution_count": 12,
   "metadata": {},
   "outputs": [],
   "source": [
    "deposit_data_by_campaign_type_conversions = deposit_data.loc[\n",
    "    deposit_data['campaign_type_conversion'] > 0][[\n",
    "        'campaign_type_click', 'campaign_type_show', 'campaign_type_conversion']]"
   ]
  },
  {
   "cell_type": "code",
   "execution_count": 13,
   "metadata": {},
   "outputs": [],
   "source": [
    "deposit_data_click_show_conversion = deposit_data_by_campaign_type_conversions.sum()"
   ]
  },
  {
   "cell_type": "code",
   "execution_count": 14,
   "metadata": {},
   "outputs": [],
   "source": [
    "# Сумма касаний, которые привели к конверсиям\n",
    "\n",
    "sum_of_touches_lead_to_conversions = deposit_data_by_campaign_type_conversions.sum(\n",
    ")['campaign_type_click'] + deposit_data_by_campaign_type_conversions.sum()['campaign_type_show']"
   ]
  },
  {
   "cell_type": "code",
   "execution_count": 15,
   "metadata": {},
   "outputs": [
    {
     "data": {
      "text/plain": [
       "103583"
      ]
     },
     "execution_count": 15,
     "metadata": {},
     "output_type": "execute_result"
    }
   ],
   "source": [
    "sum_of_touches_lead_to_conversions"
   ]
  },
  {
   "cell_type": "code",
   "execution_count": 16,
   "metadata": {},
   "outputs": [],
   "source": [
    "# Процент касаний, который привел к конверсиям:\n",
    "\n",
    "conversion_touches_percent = round(\n",
    "    sum_of_touches_lead_to_conversions / sum_of_touches_wo_conversions * 100, 3)"
   ]
  },
  {
   "cell_type": "code",
   "execution_count": 17,
   "metadata": {},
   "outputs": [
    {
     "data": {
      "text/plain": [
       "4.203"
      ]
     },
     "execution_count": 17,
     "metadata": {},
     "output_type": "execute_result"
    }
   ],
   "source": [
    "conversion_touches_percent"
   ]
  },
  {
   "cell_type": "code",
   "execution_count": 18,
   "metadata": {},
   "outputs": [],
   "source": [
    "# Общие затраты на рекламу для депозитов\n",
    "\n",
    "total_expenditures = round(deposit_data['campaign_cost'].sum(), 2)"
   ]
  },
  {
   "cell_type": "code",
   "execution_count": 19,
   "metadata": {},
   "outputs": [
    {
     "data": {
      "text/plain": [
       "61175081.23"
      ]
     },
     "execution_count": 19,
     "metadata": {},
     "output_type": "execute_result"
    }
   ],
   "source": [
    "total_expenditures"
   ]
  },
  {
   "cell_type": "code",
   "execution_count": 20,
   "metadata": {},
   "outputs": [],
   "source": [
    "# Общий доход как сумма столбца payout\n",
    "\n",
    "total_payout = deposit_data['payout'].sum()"
   ]
  },
  {
   "cell_type": "code",
   "execution_count": 21,
   "metadata": {},
   "outputs": [
    {
     "data": {
      "text/plain": [
       "67871852.94539998"
      ]
     },
     "execution_count": 21,
     "metadata": {},
     "output_type": "execute_result"
    }
   ],
   "source": [
    "total_payout"
   ]
  },
  {
   "cell_type": "code",
   "execution_count": 22,
   "metadata": {},
   "outputs": [],
   "source": [
    "# Общая прибыль от депозитов:\n",
    "\n",
    "gross_margin = round(total_payout - total_expenditures, 3)"
   ]
  },
  {
   "cell_type": "code",
   "execution_count": 23,
   "metadata": {},
   "outputs": [
    {
     "data": {
      "text/plain": [
       "6696771.715"
      ]
     },
     "execution_count": 23,
     "metadata": {},
     "output_type": "execute_result"
    }
   ],
   "source": [
    "gross_margin"
   ]
  },
  {
   "cell_type": "code",
   "execution_count": 24,
   "metadata": {},
   "outputs": [],
   "source": [
    "# Процент прибыли\n",
    "\n",
    "gross_margin_percent = round(gross_margin / total_expenditures * 100, 3)"
   ]
  },
  {
   "cell_type": "code",
   "execution_count": 25,
   "metadata": {},
   "outputs": [
    {
     "data": {
      "text/plain": [
       "10.947"
      ]
     },
     "execution_count": 25,
     "metadata": {},
     "output_type": "execute_result"
    }
   ],
   "source": [
    "gross_margin_percent"
   ]
  },
  {
   "cell_type": "code",
   "execution_count": 26,
   "metadata": {},
   "outputs": [],
   "source": [
    "# Количество одобрений банком\n",
    "\n",
    "bank_positive_decisions = deposit_data.loc[(deposit_data['event_status_approve'] > 0) | \n",
    "    (deposit_data['event_status_deal'] > 0) |\n",
    "    (deposit_data['event_status_payout'] > 0) |\n",
    "    (deposit_data['event_status_sale'] > 0)\n",
    "    ][['event_status_approve', 'event_status_deal',\n",
    "                                              'event_status_payout', 'event_status_reject', 'event_status_sale']].sum()"
   ]
  },
  {
   "cell_type": "code",
   "execution_count": 27,
   "metadata": {},
   "outputs": [
    {
     "data": {
      "text/plain": [
       "event_status_approve    28395\n",
       "event_status_deal       50566\n",
       "event_status_payout       190\n",
       "event_status_reject     12142\n",
       "event_status_sale       17071\n",
       "dtype: int64"
      ]
     },
     "execution_count": 27,
     "metadata": {},
     "output_type": "execute_result"
    }
   ],
   "source": [
    "bank_positive_decisions"
   ]
  },
  {
   "cell_type": "code",
   "execution_count": 28,
   "metadata": {},
   "outputs": [],
   "source": [
    "# Общая сумма положительных решений банков\n",
    "\n",
    "bank_positive_decisions_sum = bank_positive_decisions[['event_status_approve', 'event_status_deal',\n",
    "                         'event_status_payout', 'event_status_sale']].sum() - bank_positive_decisions['event_status_reject']"
   ]
  },
  {
   "cell_type": "code",
   "execution_count": 29,
   "metadata": {},
   "outputs": [],
   "source": [
    "# Процент одобрений банком от общего числа конверсий\n",
    "\n",
    "bank_positive_decisions_percent = round(\n",
    "    bank_positive_decisions_sum / deposit_data_click_show_conversion['campaign_type_conversion'].sum() * 100, 3)"
   ]
  },
  {
   "cell_type": "code",
   "execution_count": 30,
   "metadata": {},
   "outputs": [
    {
     "data": {
      "text/plain": [
       "77.559"
      ]
     },
     "execution_count": 30,
     "metadata": {},
     "output_type": "execute_result"
    }
   ],
   "source": [
    "bank_positive_decisions_percent"
   ]
  },
  {
   "cell_type": "markdown",
   "metadata": {},
   "source": [
    "Процентное соотношение различных элементов"
   ]
  },
  {
   "cell_type": "code",
   "execution_count": 31,
   "metadata": {},
   "outputs": [],
   "source": [
    "api_sums = deposit_data[['interface_api', 'interface_app', 'interface_web']].sum()"
   ]
  },
  {
   "cell_type": "code",
   "execution_count": 32,
   "metadata": {},
   "outputs": [
    {
     "data": {
      "text/plain": [
       "interface_api     547109\n",
       "interface_app    1294879\n",
       "interface_web     731065\n",
       "dtype: int64"
      ]
     },
     "execution_count": 32,
     "metadata": {},
     "output_type": "execute_result"
    }
   ],
   "source": [
    "api_sums"
   ]
  },
  {
   "cell_type": "code",
   "execution_count": 33,
   "metadata": {},
   "outputs": [
    {
     "name": "stdout",
     "output_type": "stream",
     "text": [
      "interface_api :  21.263\n",
      "interface_app :  50.325\n",
      "interface_web :  28.412\n"
     ]
    }
   ],
   "source": [
    "for col in ['interface_api', 'interface_app', 'interface_web']:\n",
    "    print(col, ': ', round(api_sums[col] / api_sums.sum() * 100, 3))"
   ]
  },
  {
   "cell_type": "code",
   "execution_count": 34,
   "metadata": {},
   "outputs": [],
   "source": [
    "medium_sources = [\n",
    "    'source_medium_android / mobile_app', 'source_medium_bing / organic',\n",
    "    'source_medium_email / email', 'source_medium_finance.rambler.ru / cpm',\n",
    "    'source_medium_google / organic', 'source_medium_ios / mobile_app',\n",
    "    'source_medium_not-set / none', 'source_medium_pikabu.ru / cpm',\n",
    "    'source_medium_regular / email', 'source_medium_regular / sms',\n",
    "    'source_medium_ru.android.bankproduct / mobile_app',\n",
    "    'source_medium_ru.android.bankproduct_rustore / mobile_app',\n",
    "    'source_medium_trigger / sms', 'source_medium_vk / cpc',\n",
    "    'source_medium_web.telegram.org / referral ',\n",
    "    'source_medium_ya.ru / cpc', 'source_medium_yahoo / organic',\n",
    "    'source_medium_yandex / cpc', 'source_medium_yandex / organic',\n",
    "    'source_medium_zen.yandex.ru / cpm'\n",
    "]"
   ]
  },
  {
   "cell_type": "code",
   "execution_count": 35,
   "metadata": {},
   "outputs": [],
   "source": [
    "medium_sums = deposit_data[medium_sources].sum()"
   ]
  },
  {
   "cell_type": "code",
   "execution_count": 36,
   "metadata": {},
   "outputs": [
    {
     "data": {
      "text/plain": [
       "source_medium_android / mobile_app                           128856\n",
       "source_medium_bing / organic                                  26258\n",
       "source_medium_email / email                                  128551\n",
       "source_medium_finance.rambler.ru / cpm                        25667\n",
       "source_medium_google / organic                               567643\n",
       "source_medium_ios / mobile_app                               333726\n",
       "source_medium_not-set / none                                  25680\n",
       "source_medium_pikabu.ru / cpm                                 25957\n",
       "source_medium_regular / email                                 25896\n",
       "source_medium_regular / sms                                   25785\n",
       "source_medium_ru.android.bankproduct / mobile_app             76682\n",
       "source_medium_ru.android.bankproduct_rustore / mobile_app     25781\n",
       "source_medium_trigger / sms                                   25729\n",
       "source_medium_vk / cpc                                       128829\n",
       "source_medium_web.telegram.org / referral                     25785\n",
       "source_medium_ya.ru / cpc                                     77491\n",
       "source_medium_yahoo / organic                                 25830\n",
       "source_medium_yandex / cpc                                   256810\n",
       "source_medium_yandex / organic                               590538\n",
       "source_medium_zen.yandex.ru / cpm                             25559\n",
       "dtype: int64"
      ]
     },
     "execution_count": 36,
     "metadata": {},
     "output_type": "execute_result"
    }
   ],
   "source": [
    "# Сумма показов рекламы для каждой рекламной площадки\n",
    "\n",
    "medium_sums"
   ]
  },
  {
   "cell_type": "code",
   "execution_count": 37,
   "metadata": {},
   "outputs": [
    {
     "name": "stdout",
     "output_type": "stream",
     "text": [
      "source_medium_android / mobile_app :  5.008\n",
      "source_medium_bing / organic :  1.02\n",
      "source_medium_email / email :  4.996\n",
      "source_medium_finance.rambler.ru / cpm :  0.998\n",
      "source_medium_google / organic :  22.061\n",
      "source_medium_ios / mobile_app :  12.97\n",
      "source_medium_not-set / none :  0.998\n",
      "source_medium_pikabu.ru / cpm :  1.009\n",
      "source_medium_regular / email :  1.006\n",
      "source_medium_regular / sms :  1.002\n",
      "source_medium_ru.android.bankproduct / mobile_app :  2.98\n",
      "source_medium_ru.android.bankproduct_rustore / mobile_app :  1.002\n",
      "source_medium_trigger / sms :  1.0\n",
      "source_medium_vk / cpc :  5.007\n",
      "source_medium_web.telegram.org / referral  :  1.002\n",
      "source_medium_ya.ru / cpc :  3.012\n",
      "source_medium_yahoo / organic :  1.004\n",
      "source_medium_yandex / cpc :  9.981\n",
      "source_medium_yandex / organic :  22.951\n",
      "source_medium_zen.yandex.ru / cpm :  0.993\n"
     ]
    }
   ],
   "source": [
    "# Процент показов в каждой рекламной площадке\n",
    "\n",
    "for col in medium_sources:\n",
    "\n",
    "    print(col, ': ', round(medium_sums[col] / medium_sums.sum() * 100, 3))"
   ]
  }
 ],
 "metadata": {
  "kernelspec": {
   "display_name": "rapids-24.04",
   "language": "python",
   "name": "python3"
  },
  "language_info": {
   "codemirror_mode": {
    "name": "ipython",
    "version": 3
   },
   "file_extension": ".py",
   "mimetype": "text/x-python",
   "name": "python",
   "nbconvert_exporter": "python",
   "pygments_lexer": "ipython3",
   "version": "3.10.2"
  }
 },
 "nbformat": 4,
 "nbformat_minor": 2
}
