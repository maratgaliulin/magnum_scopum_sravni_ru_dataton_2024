{
 "cells": [
  {
   "cell_type": "code",
   "execution_count": 1,
   "metadata": {},
   "outputs": [],
   "source": [
    "import cudf as pd"
   ]
  },
  {
   "cell_type": "code",
   "execution_count": 2,
   "metadata": {},
   "outputs": [],
   "source": [
    "all_data = pd.read_csv('data/all_data_groupped.csv')"
   ]
  },
  {
   "cell_type": "code",
   "execution_count": 4,
   "metadata": {},
   "outputs": [
    {
     "data": {
      "text/html": [
       "<div>\n",
       "<style scoped>\n",
       "    .dataframe tbody tr th:only-of-type {\n",
       "        vertical-align: middle;\n",
       "    }\n",
       "\n",
       "    .dataframe tbody tr th {\n",
       "        vertical-align: top;\n",
       "    }\n",
       "\n",
       "    .dataframe thead th {\n",
       "        text-align: right;\n",
       "    }\n",
       "</style>\n",
       "<table border=\"1\" class=\"dataframe\">\n",
       "  <thead>\n",
       "    <tr style=\"text-align: right;\">\n",
       "      <th></th>\n",
       "      <th>Unnamed: 0</th>\n",
       "      <th>user_phone</th>\n",
       "      <th>campaign_cost</th>\n",
       "      <th>campaign_type_click</th>\n",
       "      <th>campaign_type_conversion</th>\n",
       "      <th>campaign_type_show</th>\n",
       "      <th>source_medium_android / mobile_app</th>\n",
       "      <th>source_medium_bing / organic</th>\n",
       "      <th>source_medium_email / email</th>\n",
       "      <th>source_medium_finance.rambler.ru / cpm</th>\n",
       "      <th>...</th>\n",
       "      <th>event_type_conversion</th>\n",
       "      <th>event_type_show</th>\n",
       "      <th>product_type_deposits</th>\n",
       "      <th>product_type_loan</th>\n",
       "      <th>product_type_mortgage</th>\n",
       "      <th>event_status_approve</th>\n",
       "      <th>event_status_deal</th>\n",
       "      <th>event_status_payout</th>\n",
       "      <th>event_status_reject</th>\n",
       "      <th>event_status_sale</th>\n",
       "    </tr>\n",
       "  </thead>\n",
       "  <tbody>\n",
       "    <tr>\n",
       "      <th>0</th>\n",
       "      <td>0</td>\n",
       "      <td>79115743201</td>\n",
       "      <td>0.0</td>\n",
       "      <td>0</td>\n",
       "      <td>0</td>\n",
       "      <td>1</td>\n",
       "      <td>0</td>\n",
       "      <td>0</td>\n",
       "      <td>1</td>\n",
       "      <td>0</td>\n",
       "      <td>...</td>\n",
       "      <td>0</td>\n",
       "      <td>1</td>\n",
       "      <td>0</td>\n",
       "      <td>1</td>\n",
       "      <td>0</td>\n",
       "      <td>0</td>\n",
       "      <td>0</td>\n",
       "      <td>0</td>\n",
       "      <td>0</td>\n",
       "      <td>0</td>\n",
       "    </tr>\n",
       "    <tr>\n",
       "      <th>1</th>\n",
       "      <td>1</td>\n",
       "      <td>79115746314</td>\n",
       "      <td>0.0</td>\n",
       "      <td>0</td>\n",
       "      <td>0</td>\n",
       "      <td>1</td>\n",
       "      <td>0</td>\n",
       "      <td>0</td>\n",
       "      <td>0</td>\n",
       "      <td>0</td>\n",
       "      <td>...</td>\n",
       "      <td>0</td>\n",
       "      <td>1</td>\n",
       "      <td>0</td>\n",
       "      <td>2</td>\n",
       "      <td>0</td>\n",
       "      <td>0</td>\n",
       "      <td>0</td>\n",
       "      <td>0</td>\n",
       "      <td>0</td>\n",
       "      <td>0</td>\n",
       "    </tr>\n",
       "  </tbody>\n",
       "</table>\n",
       "<p>2 rows × 41 columns</p>\n",
       "</div>"
      ],
      "text/plain": [
       "   Unnamed: 0   user_phone  campaign_cost  campaign_type_click  \\\n",
       "0           0  79115743201            0.0                    0   \n",
       "1           1  79115746314            0.0                    0   \n",
       "\n",
       "   campaign_type_conversion  campaign_type_show  \\\n",
       "0                         0                   1   \n",
       "1                         0                   1   \n",
       "\n",
       "   source_medium_android / mobile_app  source_medium_bing / organic  \\\n",
       "0                                   0                             0   \n",
       "1                                   0                             0   \n",
       "\n",
       "   source_medium_email / email  source_medium_finance.rambler.ru / cpm  ...  \\\n",
       "0                            1                                       0  ...   \n",
       "1                            0                                       0  ...   \n",
       "\n",
       "   event_type_conversion  event_type_show  product_type_deposits  \\\n",
       "0                      0                1                      0   \n",
       "1                      0                1                      0   \n",
       "\n",
       "   product_type_loan  product_type_mortgage  event_status_approve  \\\n",
       "0                  1                      0                     0   \n",
       "1                  2                      0                     0   \n",
       "\n",
       "   event_status_deal  event_status_payout  event_status_reject  \\\n",
       "0                  0                    0                    0   \n",
       "1                  0                    0                    0   \n",
       "\n",
       "   event_status_sale  \n",
       "0                  0  \n",
       "1                  0  \n",
       "\n",
       "[2 rows x 41 columns]"
      ]
     },
     "execution_count": 4,
     "metadata": {},
     "output_type": "execute_result"
    }
   ],
   "source": [
    "all_data.head(2)"
   ]
  },
  {
   "cell_type": "code",
   "execution_count": 5,
   "metadata": {},
   "outputs": [],
   "source": [
    "loan_data = all_data.loc[all_data['product_type_loan'] > 0]"
   ]
  },
  {
   "cell_type": "code",
   "execution_count": 7,
   "metadata": {},
   "outputs": [],
   "source": [
    "loan_data.to_csv('data/loan_data.csv')"
   ]
  },
  {
   "cell_type": "code",
   "execution_count": 8,
   "metadata": {},
   "outputs": [],
   "source": [
    "del loan_data"
   ]
  },
  {
   "cell_type": "code",
   "execution_count": 9,
   "metadata": {},
   "outputs": [],
   "source": [
    "deposit_data = all_data.loc[all_data['product_type_deposits'] > 0]"
   ]
  },
  {
   "cell_type": "code",
   "execution_count": 10,
   "metadata": {},
   "outputs": [],
   "source": [
    "deposit_data.to_csv('data/deposit_data.csv')"
   ]
  },
  {
   "cell_type": "code",
   "execution_count": 11,
   "metadata": {},
   "outputs": [],
   "source": [
    "del deposit_data"
   ]
  },
  {
   "cell_type": "code",
   "execution_count": 12,
   "metadata": {},
   "outputs": [],
   "source": [
    "mortgage_data = all_data.loc[all_data['product_type_mortgage'] > 0]"
   ]
  },
  {
   "cell_type": "code",
   "execution_count": 13,
   "metadata": {},
   "outputs": [],
   "source": [
    "mortgage_data.to_csv('data/mortgage_data.csv')"
   ]
  },
  {
   "cell_type": "code",
   "execution_count": 14,
   "metadata": {},
   "outputs": [],
   "source": [
    "del mortgage_data"
   ]
  },
  {
   "cell_type": "code",
   "execution_count": 15,
   "metadata": {},
   "outputs": [],
   "source": [
    "del all_data"
   ]
  },
  {
   "cell_type": "code",
   "execution_count": null,
   "metadata": {},
   "outputs": [],
   "source": []
  }
 ],
 "metadata": {
  "kernelspec": {
   "display_name": "rapids-24.04",
   "language": "python",
   "name": "python3"
  },
  "language_info": {
   "codemirror_mode": {
    "name": "ipython",
    "version": 3
   },
   "file_extension": ".py",
   "mimetype": "text/x-python",
   "name": "python",
   "nbconvert_exporter": "python",
   "pygments_lexer": "ipython3",
   "version": "3.11.9"
  }
 },
 "nbformat": 4,
 "nbformat_minor": 2
}
