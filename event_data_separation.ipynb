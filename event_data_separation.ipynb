{
 "cells": [
  {
   "cell_type": "code",
   "execution_count": 1,
   "metadata": {},
   "outputs": [],
   "source": [
    "import cudf as pd\n",
    "import numpy as np"
   ]
  },
  {
   "cell_type": "code",
   "execution_count": 2,
   "metadata": {},
   "outputs": [],
   "source": [
    "event_data = pd.read_csv('data/event_data.csv')"
   ]
  },
  {
   "cell_type": "code",
   "execution_count": 3,
   "metadata": {},
   "outputs": [],
   "source": [
    "event_data.drop(['id', 'event_dtm', 'update_dtm'], inplace=True, axis=1)"
   ]
  },
  {
   "cell_type": "code",
   "execution_count": 4,
   "metadata": {},
   "outputs": [],
   "source": [
    "users_data = pd.read_csv('data/users_data.csv')"
   ]
  },
  {
   "cell_type": "code",
   "execution_count": 5,
   "metadata": {},
   "outputs": [],
   "source": [
    "users_data = users_data[~users_data['user_id'].isna()]"
   ]
  },
  {
   "cell_type": "code",
   "execution_count": 6,
   "metadata": {},
   "outputs": [],
   "source": [
    "users_data.drop('delete_dtm', axis=1, inplace=True)"
   ]
  },
  {
   "cell_type": "code",
   "execution_count": 7,
   "metadata": {},
   "outputs": [],
   "source": [
    "usdrub = 90.41"
   ]
  },
  {
   "cell_type": "code",
   "execution_count": 8,
   "metadata": {},
   "outputs": [],
   "source": [
    "# Метод, приводящий значения в долларах США к рублевым значениям в столбце payout\n",
    "\n",
    "def convert_to_rub(row):\n",
    "    x = row['payout']\n",
    "    if row['currency'] == 'USD':\n",
    "        return x * usdrub\n",
    "    else:\n",
    "        return x"
   ]
  },
  {
   "cell_type": "code",
   "execution_count": 9,
   "metadata": {},
   "outputs": [],
   "source": [
    "user_phones = users_data['user_phone'].to_numpy()\n",
    "user_test = np.zeros_like(user_phones)\n",
    "\n",
    "for i, val in enumerate(user_phones):\n",
    "    user_test[i] = str(val).strip('+')\n",
    "\n",
    "users_data['user_phone'] = user_test"
   ]
  },
  {
   "cell_type": "code",
   "execution_count": 10,
   "metadata": {},
   "outputs": [],
   "source": [
    "del user_test"
   ]
  },
  {
   "cell_type": "code",
   "execution_count": 11,
   "metadata": {},
   "outputs": [],
   "source": [
    "user_phones = users_data['user_phone'].unique()"
   ]
  },
  {
   "cell_type": "code",
   "execution_count": 12,
   "metadata": {},
   "outputs": [],
   "source": [
    "event_data['payout'] = event_data.apply(convert_to_rub, axis=1)\n",
    "event_data.drop('currency', inplace=True, axis=1)\n",
    "event_data['payout'].fillna(0.0, inplace=True)"
   ]
  },
  {
   "cell_type": "code",
   "execution_count": 13,
   "metadata": {},
   "outputs": [],
   "source": [
    "event_phones = event_data['user_phone'].to_numpy()\n",
    "np_test = np.zeros_like(event_phones)\n",
    "\n",
    "for i, val in enumerate(event_phones):\n",
    "    np_test[i] = str(val).strip('+')\n",
    "\n",
    "event_data['user_phone'] = np_test\n",
    "\n",
    "del np_test\n",
    "\n",
    "event_data = event_data[event_data['user_phone'].isin(user_phones)]"
   ]
  },
  {
   "cell_type": "code",
   "execution_count": 14,
   "metadata": {},
   "outputs": [],
   "source": [
    "event_data['event_status'].fillna('neutral', inplace=True)"
   ]
  },
  {
   "cell_type": "code",
   "execution_count": 15,
   "metadata": {},
   "outputs": [
    {
     "data": {
      "text/plain": [
       "0    mortgage\n",
       "1        loan\n",
       "2    deposits\n",
       "Name: product_type, dtype: object"
      ]
     },
     "execution_count": 15,
     "metadata": {},
     "output_type": "execute_result"
    }
   ],
   "source": [
    "event_data['product_type'].unique()"
   ]
  },
  {
   "cell_type": "code",
   "execution_count": 19,
   "metadata": {},
   "outputs": [],
   "source": [
    "event_data_deposits = event_data.loc[event_data['product_type'] == 'deposits']\n",
    "\n",
    "event_data_loans = event_data.loc[event_data['product_type'] == 'loan']\n",
    "\n",
    "event_data_mortgage = event_data.loc[event_data['product_type'] == 'mortgage']"
   ]
  },
  {
   "cell_type": "code",
   "execution_count": 22,
   "metadata": {},
   "outputs": [],
   "source": [
    "event_data_deposits.to_csv('data/event_data_separated/event_data_deposits.csv')\n",
    "\n",
    "event_data_loans.to_csv('data/event_data_separated/event_data_loans.csv')\n",
    "\n",
    "event_data_mortgage.to_csv('data/event_data_separated/event_data_mortgage.csv')"
   ]
  },
  {
   "cell_type": "code",
   "execution_count": null,
   "metadata": {},
   "outputs": [],
   "source": [
    "del event_data_deposits\n",
    "\n",
    "del event_data_loans\n",
    "\n",
    "del event_data_mortgage"
   ]
  }
 ],
 "metadata": {
  "kernelspec": {
   "display_name": "Python 3",
   "language": "python",
   "name": "python3"
  },
  "language_info": {
   "codemirror_mode": {
    "name": "ipython",
    "version": 3
   },
   "file_extension": ".py",
   "mimetype": "text/x-python",
   "name": "python",
   "nbconvert_exporter": "python",
   "pygments_lexer": "ipython3",
   "version": "3.11.9"
  }
 },
 "nbformat": 4,
 "nbformat_minor": 2
}
