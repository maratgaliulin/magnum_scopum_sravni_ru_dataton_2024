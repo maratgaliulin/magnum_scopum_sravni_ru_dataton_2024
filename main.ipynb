{
 "cells": [
  {
   "cell_type": "code",
   "execution_count": 1,
   "metadata": {},
   "outputs": [],
   "source": [
    "# Для работы с большими датасетами используем библиотеку cudf от NVIDIA, с целью перенаправления вычислений на GPU\n",
    "\n",
    "import cudf as pd\n",
    "# import cupy as cp\n",
    "import numpy as np\n",
    "# import matplotlib.pyplot as plt\n",
    "# import pandas"
   ]
  },
  {
   "cell_type": "code",
   "execution_count": 2,
   "metadata": {},
   "outputs": [],
   "source": [
    "# Загружаем исходные данные\n",
    "\n",
    "adv_data = pd.read_csv('data/adv_data.csv')\n",
    "users_data = pd.read_csv('data/users_data.csv')"
   ]
  },
  {
   "cell_type": "code",
   "execution_count": 3,
   "metadata": {},
   "outputs": [],
   "source": [
    "# adv_data['campaign_type'].unique()"
   ]
  },
  {
   "cell_type": "code",
   "execution_count": 4,
   "metadata": {},
   "outputs": [],
   "source": [
    "# Переменная, в которой хранится значение курса доллара США на текущий день, для приведения колонок campaign_cost и payout к общему рублёвому значению\n",
    "\n",
    "usdrub = 90.41"
   ]
  },
  {
   "cell_type": "code",
   "execution_count": 5,
   "metadata": {},
   "outputs": [],
   "source": [
    "# Метод, приводящий значения в долларах США к рублевым значениям в столбце payout\n",
    "\n",
    "def convert_to_rub(row):\n",
    "    x = row['payout']\n",
    "    if row['currency'] == 'USD':       \n",
    "        return x * usdrub\n",
    "    else:\n",
    "        return x"
   ]
  },
  {
   "cell_type": "code",
   "execution_count": 6,
   "metadata": {},
   "outputs": [],
   "source": [
    "# Метод, приводящий значения в долларах США к рублевым значениям в столбце campaign_cost\n",
    "\n",
    "def convert_campaign_cost_to_rub(row):\n",
    "    x = row['campaign_cost']\n",
    "    if row['currency'] == 'USD':       \n",
    "        return x * usdrub\n",
    "    else:\n",
    "        return x"
   ]
  },
  {
   "cell_type": "code",
   "execution_count": 7,
   "metadata": {},
   "outputs": [],
   "source": [
    "# Применение вышеуказанных методов\n",
    "\n",
    "adv_data['campaign_cost'] = adv_data.apply(convert_campaign_cost_to_rub, axis=1)"
   ]
  },
  {
   "cell_type": "code",
   "execution_count": 8,
   "metadata": {},
   "outputs": [],
   "source": [
    "# Удаление столбцов currency из датасетов event_data, adv_data\n",
    "\n",
    "adv_data.drop('currency', inplace=True, axis=1)"
   ]
  },
  {
   "cell_type": "code",
   "execution_count": 9,
   "metadata": {},
   "outputs": [],
   "source": [
    "# Экспериментально установили, что неуникальные значения пользовательских данных - это значения, в которых в ячейке 'user_id' записано значение NaN\n",
    "\n",
    "users_data = users_data[~users_data['user_id'].isna()]"
   ]
  },
  {
   "cell_type": "code",
   "execution_count": 10,
   "metadata": {},
   "outputs": [],
   "source": [
    "# Заполнили значения NaN в столбце campaign_cost нулями\n",
    "\n",
    "adv_data['campaign_cost'].fillna(0.0, inplace=True)"
   ]
  },
  {
   "cell_type": "code",
   "execution_count": 11,
   "metadata": {},
   "outputs": [],
   "source": [
    "# Экспериментально установили, что столбец delete_dtm полностью пустой, поэтому удаляю его\n",
    "\n",
    "users_data.drop('delete_dtm', axis=1, inplace=True)"
   ]
  },
  {
   "cell_type": "code",
   "execution_count": 12,
   "metadata": {},
   "outputs": [],
   "source": [
    "# Из-за того, что номера телефонов в таблицах event_data, users_data записаны по-разному (со знаком + и без него) в следующих трех ячейках приводим телефоны к единому написанию:\n",
    "\n",
    "# 1) создаем numpy-массивы с нулевыми значениями, по размеру идентичные размеру столбцов user_phone в вышеуказанных датасетах\n",
    "\n",
    "user_phones = users_data['user_phone'].to_arrow()\n",
    "user_test = np.zeros_like(user_phones)"
   ]
  },
  {
   "cell_type": "code",
   "execution_count": 13,
   "metadata": {},
   "outputs": [],
   "source": [
    "# 2) заполняем массивы строковыми значениями номеров телефонов без знаков +\n",
    "\n",
    "for i, val in enumerate(user_phones):\n",
    "    user_test[i] = str(val).strip('+')"
   ]
  },
  {
   "cell_type": "code",
   "execution_count": 14,
   "metadata": {},
   "outputs": [],
   "source": [
    "# 3) заменяем исходные значения в датасетах заполненными массивами\n",
    "\n",
    "\n",
    "users_data['user_phone'] = user_test"
   ]
  },
  {
   "cell_type": "code",
   "execution_count": 15,
   "metadata": {},
   "outputs": [],
   "source": [
    "# Для экономии памяти удаляем ненужные массивы\n",
    "\n",
    "del user_test"
   ]
  },
  {
   "cell_type": "code",
   "execution_count": 16,
   "metadata": {},
   "outputs": [],
   "source": [
    "# Создаем массив уникальных значений ID пользователей\n",
    "\n",
    "users_uuids = users_data['user_id'].unique().to_arrow()"
   ]
  },
  {
   "cell_type": "code",
   "execution_count": 17,
   "metadata": {},
   "outputs": [],
   "source": [
    "# Из датасета adv_data выбираем значения, которым соответствуют значения пользователей\n",
    "\n",
    "adv_data = adv_data[adv_data['user_id'].isin(users_uuids)]"
   ]
  },
  {
   "cell_type": "code",
   "execution_count": 18,
   "metadata": {},
   "outputs": [],
   "source": [
    "# Проверяем оставшиеся после этого значения в таблице adv_data\n",
    "\n",
    "# adv_data.info()"
   ]
  },
  {
   "cell_type": "code",
   "execution_count": 19,
   "metadata": {},
   "outputs": [],
   "source": [
    "# Создаем массив уникальных значений телефонов пользователей\n",
    "\n",
    "user_phones = users_data['user_phone'].unique().to_arrow()"
   ]
  },
  {
   "cell_type": "code",
   "execution_count": 20,
   "metadata": {},
   "outputs": [],
   "source": [
    "# users_data.info()"
   ]
  },
  {
   "cell_type": "code",
   "execution_count": 21,
   "metadata": {},
   "outputs": [],
   "source": [
    "# event_data.info()"
   ]
  },
  {
   "cell_type": "code",
   "execution_count": 22,
   "metadata": {},
   "outputs": [],
   "source": [
    "# проверяем оставшиеся после этого значения в таблице adv_data\n",
    "\n",
    "# event_data.info()"
   ]
  },
  {
   "cell_type": "code",
   "execution_count": 23,
   "metadata": {},
   "outputs": [],
   "source": [
    "# Соединяем таблицы adv_data, users_data по ID пользователей аналогично SQL-методу left-join (остаются все значения из датасета adv_data и соответствующие им значения из \n",
    "# датасета users_data)\n",
    "\n",
    "adv_data_plus_user_data = adv_data.merge(users_data, how='left', on='user_id')"
   ]
  },
  {
   "cell_type": "code",
   "execution_count": 24,
   "metadata": {},
   "outputs": [],
   "source": [
    "# Проверяем новый датасет\n",
    "\n",
    "# adv_data_plus_user_data.info()"
   ]
  },
  {
   "cell_type": "code",
   "execution_count": 25,
   "metadata": {},
   "outputs": [],
   "source": [
    "# Для экономии памяти удаляем ненужные массивы и таблицы\n",
    "\n",
    "del users_uuids, adv_data, users_data"
   ]
  },
  {
   "cell_type": "code",
   "execution_count": 26,
   "metadata": {},
   "outputs": [],
   "source": [
    "# adv_data_plus_user_data.loc[adv_data_plus_user_data['user_phone'] == '79101867847']"
   ]
  },
  {
   "cell_type": "code",
   "execution_count": 27,
   "metadata": {},
   "outputs": [],
   "source": [
    "# event_data.loc[event_data['user_phone'] == '79101867847']"
   ]
  },
  {
   "cell_type": "code",
   "execution_count": 28,
   "metadata": {},
   "outputs": [],
   "source": [
    "adv_data_plus_user_data_with_dummies = pd.get_dummies(adv_data_plus_user_data, columns=['campaign_type', 'source_medium', 'interface'], dtype='int')[['user_phone', 'campaign_cost', \n",
    "       'campaign_type_click', 'campaign_type_conversion', 'campaign_type_show',\n",
    "       'source_medium_android / mobile_app', 'source_medium_bing / organic',\n",
    "       'source_medium_email / email', 'source_medium_finance.rambler.ru / cpm',\n",
    "       'source_medium_google / organic', 'source_medium_ios / mobile_app',\n",
    "       'source_medium_not-set / none', 'source_medium_pikabu.ru / cpm',\n",
    "       'source_medium_regular / email', 'source_medium_regular / sms',\n",
    "       'source_medium_ru.android.bankproduct / mobile_app',\n",
    "       'source_medium_ru.android.bankproduct_rustore / mobile_app',\n",
    "       'source_medium_trigger / sms', 'source_medium_vk / cpc',\n",
    "       'source_medium_web.telegram.org / referral ',\n",
    "       'source_medium_ya.ru / cpc', 'source_medium_yahoo / organic',\n",
    "       'source_medium_yandex / cpc', 'source_medium_yandex / organic',\n",
    "       'source_medium_zen.yandex.ru / cpm', 'interface_api', 'interface_app',\n",
    "       'interface_web']]"
   ]
  },
  {
   "cell_type": "code",
   "execution_count": 29,
   "metadata": {},
   "outputs": [
    {
     "name": "stdout",
     "output_type": "stream",
     "text": [
      "<class 'cudf.core.dataframe.DataFrame'>\n",
      "RangeIndex: 9999908 entries, 0 to 9999907\n",
      "Data columns (total 28 columns):\n",
      " #   Column                                                     Dtype\n",
      "---  ------                                                     -----\n",
      " 0   user_phone                                                 object\n",
      " 1   campaign_cost                                              float64\n",
      " 2   campaign_type_click                                        int64\n",
      " 3   campaign_type_conversion                                   int64\n",
      " 4   campaign_type_show                                         int64\n",
      " 5   source_medium_android / mobile_app                         int64\n",
      " 6   source_medium_bing / organic                               int64\n",
      " 7   source_medium_email / email                                int64\n",
      " 8   source_medium_finance.rambler.ru / cpm                     int64\n",
      " 9   source_medium_google / organic                             int64\n",
      " 10  source_medium_ios / mobile_app                             int64\n",
      " 11  source_medium_not-set / none                               int64\n",
      " 12  source_medium_pikabu.ru / cpm                              int64\n",
      " 13  source_medium_regular / email                              int64\n",
      " 14  source_medium_regular / sms                                int64\n",
      " 15  source_medium_ru.android.bankproduct / mobile_app          int64\n",
      " 16  source_medium_ru.android.bankproduct_rustore / mobile_app  int64\n",
      " 17  source_medium_trigger / sms                                int64\n",
      " 18  source_medium_vk / cpc                                     int64\n",
      " 19  source_medium_web.telegram.org / referral                  int64\n",
      " 20  source_medium_ya.ru / cpc                                  int64\n",
      " 21  source_medium_yahoo / organic                              int64\n",
      " 22  source_medium_yandex / cpc                                 int64\n",
      " 23  source_medium_yandex / organic                             int64\n",
      " 24  source_medium_zen.yandex.ru / cpm                          int64\n",
      " 25  interface_api                                              int64\n",
      " 26  interface_app                                              int64\n",
      " 27  interface_web                                              int64\n",
      "dtypes: float64(1), int64(26), object(1)\n",
      "memory usage: 2.2+ GB\n"
     ]
    }
   ],
   "source": [
    "adv_data_plus_user_data_with_dummies.info()"
   ]
  },
  {
   "cell_type": "code",
   "execution_count": 30,
   "metadata": {},
   "outputs": [],
   "source": [
    "del adv_data_plus_user_data"
   ]
  },
  {
   "cell_type": "code",
   "execution_count": 31,
   "metadata": {},
   "outputs": [],
   "source": [
    "adv_data_plus_user_data_with_dummies = adv_data_plus_user_data_with_dummies.sort_values(by='user_phone')"
   ]
  },
  {
   "cell_type": "code",
   "execution_count": 32,
   "metadata": {},
   "outputs": [],
   "source": [
    "adv_data_plus_user_data_with_dummies_1 = adv_data_plus_user_data_with_dummies.iloc[0:2500000].groupby('user_phone').sum()"
   ]
  },
  {
   "cell_type": "code",
   "execution_count": 33,
   "metadata": {},
   "outputs": [],
   "source": [
    "adv_data_plus_user_data_with_dummies_2 = adv_data_plus_user_data_with_dummies.iloc[2500000:5000000].groupby('user_phone').sum()"
   ]
  },
  {
   "cell_type": "code",
   "execution_count": 34,
   "metadata": {},
   "outputs": [],
   "source": [
    "adv_data_plus_user_data_with_dummies_3 = adv_data_plus_user_data_with_dummies.iloc[5000000:7500000].groupby('user_phone').sum()"
   ]
  },
  {
   "cell_type": "code",
   "execution_count": 35,
   "metadata": {},
   "outputs": [],
   "source": [
    "adv_data_plus_user_data_with_dummies_4 = adv_data_plus_user_data_with_dummies.iloc[7500000:].groupby('user_phone').sum()"
   ]
  },
  {
   "cell_type": "code",
   "execution_count": 36,
   "metadata": {},
   "outputs": [],
   "source": [
    "adv_data_plus_user_data_with_dummies_all = pd.concat([\n",
    "    adv_data_plus_user_data_with_dummies_1,\n",
    "    adv_data_plus_user_data_with_dummies_2\n",
    "])"
   ]
  },
  {
   "cell_type": "code",
   "execution_count": 37,
   "metadata": {},
   "outputs": [],
   "source": [
    "del adv_data_plus_user_data_with_dummies_1, adv_data_plus_user_data_with_dummies_2"
   ]
  },
  {
   "cell_type": "code",
   "execution_count": 38,
   "metadata": {},
   "outputs": [],
   "source": [
    "adv_data_plus_user_data_with_dummies_all_1 = pd.concat([\n",
    "    adv_data_plus_user_data_with_dummies_3,\n",
    "    adv_data_plus_user_data_with_dummies_4\n",
    "])"
   ]
  },
  {
   "cell_type": "code",
   "execution_count": 39,
   "metadata": {},
   "outputs": [],
   "source": [
    "del adv_data_plus_user_data_with_dummies_3, adv_data_plus_user_data_with_dummies_4"
   ]
  },
  {
   "cell_type": "code",
   "execution_count": 40,
   "metadata": {},
   "outputs": [],
   "source": [
    "adv_data_plus_user_data_with_dummies_all_final = pd.concat([\n",
    "    adv_data_plus_user_data_with_dummies_all,\n",
    "    adv_data_plus_user_data_with_dummies_all_1\n",
    "])"
   ]
  },
  {
   "cell_type": "code",
   "execution_count": 41,
   "metadata": {},
   "outputs": [],
   "source": [
    "del adv_data_plus_user_data_with_dummies_all, adv_data_plus_user_data_with_dummies_all_1"
   ]
  },
  {
   "cell_type": "code",
   "execution_count": 43,
   "metadata": {},
   "outputs": [],
   "source": [
    "adv_data_plus_user_data_with_dummies_all_final.to_csv('data/adv_data_plus_users_groupped.csv')"
   ]
  },
  {
   "cell_type": "code",
   "execution_count": 44,
   "metadata": {},
   "outputs": [],
   "source": [
    "del adv_data_plus_user_data_with_dummies_all_final"
   ]
  },
  {
   "cell_type": "code",
   "execution_count": 45,
   "metadata": {},
   "outputs": [],
   "source": [
    "event_data = pd.read_csv('data/event_data.csv')"
   ]
  },
  {
   "cell_type": "code",
   "execution_count": 46,
   "metadata": {},
   "outputs": [],
   "source": [
    "event_data['payout'] = event_data.apply(convert_to_rub, axis=1)\n",
    "event_data.drop('currency', inplace=True, axis=1)\n",
    "event_data['payout'].fillna(0.0, inplace=True)\n",
    "\n",
    "event_phones = event_data['user_phone'].to_arrow()\n",
    "np_test = np.zeros_like(event_phones)\n",
    "\n",
    "for i, val in enumerate(event_phones):\n",
    "    np_test[i] = str(val).strip('+')\n",
    "    \n",
    "event_data['user_phone'] = np_test\n",
    "\n",
    "del np_test\n",
    "\n",
    "event_data = event_data[event_data['user_phone'].isin(user_phones)]"
   ]
  },
  {
   "cell_type": "code",
   "execution_count": 47,
   "metadata": {},
   "outputs": [],
   "source": [
    "event_data.drop(['id', 'event_dtm', 'update_dtm'], inplace=True, axis=1)"
   ]
  },
  {
   "cell_type": "code",
   "execution_count": 48,
   "metadata": {},
   "outputs": [
    {
     "data": {
      "text/html": [
       "<div>\n",
       "<style scoped>\n",
       "    .dataframe tbody tr th:only-of-type {\n",
       "        vertical-align: middle;\n",
       "    }\n",
       "\n",
       "    .dataframe tbody tr th {\n",
       "        vertical-align: top;\n",
       "    }\n",
       "\n",
       "    .dataframe thead th {\n",
       "        text-align: right;\n",
       "    }\n",
       "</style>\n",
       "<table border=\"1\" class=\"dataframe\">\n",
       "  <thead>\n",
       "    <tr style=\"text-align: right;\">\n",
       "      <th></th>\n",
       "      <th>user_phone</th>\n",
       "      <th>event_type</th>\n",
       "      <th>event_status</th>\n",
       "      <th>payout</th>\n",
       "      <th>product_type</th>\n",
       "    </tr>\n",
       "  </thead>\n",
       "  <tbody>\n",
       "    <tr>\n",
       "      <th>0</th>\n",
       "      <td>79140092454</td>\n",
       "      <td>show</td>\n",
       "      <td>&lt;NA&gt;</td>\n",
       "      <td>0.0</td>\n",
       "      <td>mortgage</td>\n",
       "    </tr>\n",
       "  </tbody>\n",
       "</table>\n",
       "</div>"
      ],
      "text/plain": [
       "    user_phone event_type event_status  payout product_type\n",
       "0  79140092454       show         <NA>     0.0     mortgage"
      ]
     },
     "execution_count": 48,
     "metadata": {},
     "output_type": "execute_result"
    }
   ],
   "source": [
    "event_data.head(1)"
   ]
  },
  {
   "cell_type": "code",
   "execution_count": 49,
   "metadata": {},
   "outputs": [],
   "source": [
    "event_data_with_dummies = pd.get_dummies(event_data, columns=['event_type', 'product_type', 'event_status'])"
   ]
  },
  {
   "cell_type": "code",
   "execution_count": 50,
   "metadata": {},
   "outputs": [],
   "source": [
    "del event_data, user_phones"
   ]
  },
  {
   "cell_type": "code",
   "execution_count": 51,
   "metadata": {},
   "outputs": [],
   "source": [
    "event_data_with_dummies_groupped = event_data_with_dummies.groupby('user_phone').sum()"
   ]
  },
  {
   "cell_type": "code",
   "execution_count": 52,
   "metadata": {},
   "outputs": [],
   "source": [
    "del event_data_with_dummies"
   ]
  },
  {
   "cell_type": "code",
   "execution_count": 53,
   "metadata": {},
   "outputs": [],
   "source": [
    "event_data_with_dummies_groupped.to_csv('data/event_data_with_dummies_groupped.csv')"
   ]
  },
  {
   "cell_type": "code",
   "execution_count": 54,
   "metadata": {},
   "outputs": [],
   "source": [
    "del event_data_with_dummies_groupped"
   ]
  },
  {
   "cell_type": "code",
   "execution_count": 55,
   "metadata": {},
   "outputs": [],
   "source": [
    "event_data_with_dummies_groupped = pd.read_csv('data/event_data_with_dummies_groupped.csv')"
   ]
  },
  {
   "cell_type": "code",
   "execution_count": 56,
   "metadata": {},
   "outputs": [],
   "source": [
    "adv_data_plus_user_data_with_dummies_groupped = pd.read_csv('data/adv_data_plus_users_groupped.csv')"
   ]
  },
  {
   "cell_type": "code",
   "execution_count": 57,
   "metadata": {},
   "outputs": [],
   "source": [
    "all_data = adv_data_plus_user_data_with_dummies_groupped.merge(event_data_with_dummies_groupped, how='inner', on='user_phone')"
   ]
  },
  {
   "cell_type": "code",
   "execution_count": 58,
   "metadata": {},
   "outputs": [],
   "source": [
    "del event_data_with_dummies_groupped, adv_data_plus_user_data_with_dummies_groupped"
   ]
  },
  {
   "cell_type": "code",
   "execution_count": 59,
   "metadata": {},
   "outputs": [],
   "source": [
    "all_data.to_csv('data/all_data_groupped.csv')"
   ]
  },
  {
   "cell_type": "code",
   "execution_count": 60,
   "metadata": {},
   "outputs": [],
   "source": [
    "del all_data"
   ]
  }
 ],
 "metadata": {
  "kernelspec": {
   "display_name": "myenv",
   "language": "python",
   "name": "python3"
  },
  "language_info": {
   "codemirror_mode": {
    "name": "ipython",
    "version": 3
   },
   "file_extension": ".py",
   "mimetype": "text/x-python",
   "name": "python",
   "nbconvert_exporter": "python",
   "pygments_lexer": "ipython3",
   "version": "3.11.9"
  }
 },
 "nbformat": 4,
 "nbformat_minor": 2
}
