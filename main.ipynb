{
 "cells": [
  {
   "cell_type": "code",
   "execution_count": 1,
   "metadata": {},
   "outputs": [],
   "source": [
    "import cudf as pd\n",
    "import cupy as cp\n",
    "import numpy as np\n",
    "import matplotlib.pyplot as plt"
   ]
  },
  {
   "cell_type": "code",
   "execution_count": 2,
   "metadata": {},
   "outputs": [],
   "source": [
    "adv_data = pd.read_csv('data/adv_data.csv')\n",
    "event_data = pd.read_csv('data/event_data.csv')\n",
    "users_data = pd.read_csv('data/users_data.csv')"
   ]
  },
  {
   "cell_type": "code",
   "execution_count": 3,
   "metadata": {},
   "outputs": [
    {
     "data": {
      "text/html": [
       "<div>\n",
       "<style scoped>\n",
       "    .dataframe tbody tr th:only-of-type {\n",
       "        vertical-align: middle;\n",
       "    }\n",
       "\n",
       "    .dataframe tbody tr th {\n",
       "        vertical-align: top;\n",
       "    }\n",
       "\n",
       "    .dataframe thead th {\n",
       "        text-align: right;\n",
       "    }\n",
       "</style>\n",
       "<table border=\"1\" class=\"dataframe\">\n",
       "  <thead>\n",
       "    <tr style=\"text-align: right;\">\n",
       "      <th></th>\n",
       "      <th>user_id</th>\n",
       "      <th>campaign_type</th>\n",
       "      <th>campaign_start_dtm</th>\n",
       "      <th>campaign_end_dtm</th>\n",
       "      <th>source_medium</th>\n",
       "      <th>utm_campaign</th>\n",
       "      <th>interface</th>\n",
       "      <th>currency</th>\n",
       "      <th>campaign_cost</th>\n",
       "    </tr>\n",
       "  </thead>\n",
       "  <tbody>\n",
       "    <tr>\n",
       "      <th>0</th>\n",
       "      <td>db00f9c699edacc50090172cfaa3b43a</td>\n",
       "      <td>show</td>\n",
       "      <td>2023-09-18 19:39:25.390618</td>\n",
       "      <td>2023-09-18 19:39:25.390618</td>\n",
       "      <td>finance.rambler.ru / cpm</td>\n",
       "      <td>rebrand_megamaket_reels</td>\n",
       "      <td>app</td>\n",
       "      <td>RUB</td>\n",
       "      <td>&lt;NA&gt;</td>\n",
       "    </tr>\n",
       "    <tr>\n",
       "      <th>1</th>\n",
       "      <td>88aa22bca4fa1d6da73deb4b5c5ee8c0</td>\n",
       "      <td>show</td>\n",
       "      <td>2023-04-11 06:47:33.199369</td>\n",
       "      <td>2023-04-11 06:47:33.199369</td>\n",
       "      <td>yandex / organic</td>\n",
       "      <td>adv_retarget_brandkeys</td>\n",
       "      <td>web</td>\n",
       "      <td>RUB</td>\n",
       "      <td>&lt;NA&gt;</td>\n",
       "    </tr>\n",
       "    <tr>\n",
       "      <th>2</th>\n",
       "      <td>e9e12347e50732804d2f8ded00743a07</td>\n",
       "      <td>show</td>\n",
       "      <td>2023-10-28 04:35:48.329870</td>\n",
       "      <td>2023-10-28 04:35:48.329870</td>\n",
       "      <td>yandex / organic</td>\n",
       "      <td>bk_light_brandkeys</td>\n",
       "      <td>web</td>\n",
       "      <td>RUB</td>\n",
       "      <td>&lt;NA&gt;</td>\n",
       "    </tr>\n",
       "    <tr>\n",
       "      <th>3</th>\n",
       "      <td>fa0cd363d1978a27a078152cd263c670</td>\n",
       "      <td>show</td>\n",
       "      <td>2023-05-28 18:25:18.694051</td>\n",
       "      <td>2023-05-28 18:25:18.694051</td>\n",
       "      <td>yandex / organic</td>\n",
       "      <td>retarget_mind_response</td>\n",
       "      <td>api</td>\n",
       "      <td>RUB</td>\n",
       "      <td>&lt;NA&gt;</td>\n",
       "    </tr>\n",
       "    <tr>\n",
       "      <th>4</th>\n",
       "      <td>fa0cd363d1978a27a078152cd263c670</td>\n",
       "      <td>click</td>\n",
       "      <td>2023-05-31 18:55:55.352680</td>\n",
       "      <td>2023-05-31 18:55:55.352680</td>\n",
       "      <td>regular / sms</td>\n",
       "      <td>light_clickarrow_clickarrow</td>\n",
       "      <td>api</td>\n",
       "      <td>USD</td>\n",
       "      <td>1.34</td>\n",
       "    </tr>\n",
       "  </tbody>\n",
       "</table>\n",
       "</div>"
      ],
      "text/plain": [
       "                            user_id campaign_type          campaign_start_dtm  \\\n",
       "0  db00f9c699edacc50090172cfaa3b43a          show  2023-09-18 19:39:25.390618   \n",
       "1  88aa22bca4fa1d6da73deb4b5c5ee8c0          show  2023-04-11 06:47:33.199369   \n",
       "2  e9e12347e50732804d2f8ded00743a07          show  2023-10-28 04:35:48.329870   \n",
       "3  fa0cd363d1978a27a078152cd263c670          show  2023-05-28 18:25:18.694051   \n",
       "4  fa0cd363d1978a27a078152cd263c670         click  2023-05-31 18:55:55.352680   \n",
       "\n",
       "             campaign_end_dtm             source_medium  \\\n",
       "0  2023-09-18 19:39:25.390618  finance.rambler.ru / cpm   \n",
       "1  2023-04-11 06:47:33.199369          yandex / organic   \n",
       "2  2023-10-28 04:35:48.329870          yandex / organic   \n",
       "3  2023-05-28 18:25:18.694051          yandex / organic   \n",
       "4  2023-05-31 18:55:55.352680             regular / sms   \n",
       "\n",
       "                  utm_campaign interface currency campaign_cost  \n",
       "0      rebrand_megamaket_reels       app      RUB          <NA>  \n",
       "1       adv_retarget_brandkeys       web      RUB          <NA>  \n",
       "2           bk_light_brandkeys       web      RUB          <NA>  \n",
       "3       retarget_mind_response       api      RUB          <NA>  \n",
       "4  light_clickarrow_clickarrow       api      USD          1.34  "
      ]
     },
     "execution_count": 3,
     "metadata": {},
     "output_type": "execute_result"
    }
   ],
   "source": [
    "adv_data.head()"
   ]
  },
  {
   "cell_type": "code",
   "execution_count": 4,
   "metadata": {},
   "outputs": [
    {
     "data": {
      "text/html": [
       "<div>\n",
       "<style scoped>\n",
       "    .dataframe tbody tr th:only-of-type {\n",
       "        vertical-align: middle;\n",
       "    }\n",
       "\n",
       "    .dataframe tbody tr th {\n",
       "        vertical-align: top;\n",
       "    }\n",
       "\n",
       "    .dataframe thead th {\n",
       "        text-align: right;\n",
       "    }\n",
       "</style>\n",
       "<table border=\"1\" class=\"dataframe\">\n",
       "  <thead>\n",
       "    <tr style=\"text-align: right;\">\n",
       "      <th></th>\n",
       "      <th>id</th>\n",
       "      <th>user_phone</th>\n",
       "      <th>event_type</th>\n",
       "      <th>event_dtm</th>\n",
       "      <th>event_status</th>\n",
       "      <th>update_dtm</th>\n",
       "      <th>payout</th>\n",
       "      <th>currency</th>\n",
       "      <th>product_type</th>\n",
       "    </tr>\n",
       "  </thead>\n",
       "  <tbody>\n",
       "    <tr>\n",
       "      <th>0</th>\n",
       "      <td>1263769bddda6eaaf7c8b8b22812ad6a063ad234d80782...</td>\n",
       "      <td>+79140092454</td>\n",
       "      <td>show</td>\n",
       "      <td>2023-10-05 12:03:04.125806</td>\n",
       "      <td>&lt;NA&gt;</td>\n",
       "      <td>&lt;NA&gt;</td>\n",
       "      <td>&lt;NA&gt;</td>\n",
       "      <td>RUB</td>\n",
       "      <td>mortgage</td>\n",
       "    </tr>\n",
       "    <tr>\n",
       "      <th>1</th>\n",
       "      <td>ae05865023d28ae72dd17955851263ead2d4daf11c69e0...</td>\n",
       "      <td>+79125904946</td>\n",
       "      <td>show</td>\n",
       "      <td>2023-05-16 10:16:54.554523</td>\n",
       "      <td>&lt;NA&gt;</td>\n",
       "      <td>&lt;NA&gt;</td>\n",
       "      <td>&lt;NA&gt;</td>\n",
       "      <td>RUB</td>\n",
       "      <td>loan</td>\n",
       "    </tr>\n",
       "    <tr>\n",
       "      <th>2</th>\n",
       "      <td>9861b00e9c9a99a6fdb2e5c11beebe9581eb1dda36ddc4...</td>\n",
       "      <td>+79184556300</td>\n",
       "      <td>show</td>\n",
       "      <td>2023-12-23 22:46:44.066599</td>\n",
       "      <td>&lt;NA&gt;</td>\n",
       "      <td>&lt;NA&gt;</td>\n",
       "      <td>&lt;NA&gt;</td>\n",
       "      <td>RUB</td>\n",
       "      <td>loan</td>\n",
       "    </tr>\n",
       "    <tr>\n",
       "      <th>3</th>\n",
       "      <td>349366af4823add107077299482f21031941fc6d4cd571...</td>\n",
       "      <td>+79119287528</td>\n",
       "      <td>show</td>\n",
       "      <td>2023-07-30 05:25:46.285514</td>\n",
       "      <td>&lt;NA&gt;</td>\n",
       "      <td>&lt;NA&gt;</td>\n",
       "      <td>&lt;NA&gt;</td>\n",
       "      <td>RUB</td>\n",
       "      <td>loan</td>\n",
       "    </tr>\n",
       "    <tr>\n",
       "      <th>4</th>\n",
       "      <td>2be2933460f58bb2d9a311ede6bb6ee064989568ab57b8...</td>\n",
       "      <td>+79119287528</td>\n",
       "      <td>click</td>\n",
       "      <td>2023-07-30 05:25:46.285514</td>\n",
       "      <td>&lt;NA&gt;</td>\n",
       "      <td>2023-07-30 05:42:59.014970</td>\n",
       "      <td>2.18</td>\n",
       "      <td>USD</td>\n",
       "      <td>loan</td>\n",
       "    </tr>\n",
       "  </tbody>\n",
       "</table>\n",
       "</div>"
      ],
      "text/plain": [
       "                                                  id    user_phone event_type  \\\n",
       "0  1263769bddda6eaaf7c8b8b22812ad6a063ad234d80782...  +79140092454       show   \n",
       "1  ae05865023d28ae72dd17955851263ead2d4daf11c69e0...  +79125904946       show   \n",
       "2  9861b00e9c9a99a6fdb2e5c11beebe9581eb1dda36ddc4...  +79184556300       show   \n",
       "3  349366af4823add107077299482f21031941fc6d4cd571...  +79119287528       show   \n",
       "4  2be2933460f58bb2d9a311ede6bb6ee064989568ab57b8...  +79119287528      click   \n",
       "\n",
       "                    event_dtm event_status                  update_dtm payout  \\\n",
       "0  2023-10-05 12:03:04.125806         <NA>                        <NA>   <NA>   \n",
       "1  2023-05-16 10:16:54.554523         <NA>                        <NA>   <NA>   \n",
       "2  2023-12-23 22:46:44.066599         <NA>                        <NA>   <NA>   \n",
       "3  2023-07-30 05:25:46.285514         <NA>                        <NA>   <NA>   \n",
       "4  2023-07-30 05:25:46.285514         <NA>  2023-07-30 05:42:59.014970   2.18   \n",
       "\n",
       "  currency product_type  \n",
       "0      RUB     mortgage  \n",
       "1      RUB         loan  \n",
       "2      RUB         loan  \n",
       "3      RUB         loan  \n",
       "4      USD         loan  "
      ]
     },
     "execution_count": 4,
     "metadata": {},
     "output_type": "execute_result"
    }
   ],
   "source": [
    "event_data.head()"
   ]
  },
  {
   "cell_type": "code",
   "execution_count": 3,
   "metadata": {},
   "outputs": [],
   "source": [
    "users_data.drop('delete_dtm', inplace=True, axis=1)"
   ]
  },
  {
   "cell_type": "code",
   "execution_count": 4,
   "metadata": {},
   "outputs": [],
   "source": [
    "event_phones = event_data['user_phone'].to_arrow()"
   ]
  },
  {
   "cell_type": "code",
   "execution_count": 5,
   "metadata": {},
   "outputs": [],
   "source": [
    "np_test = np.zeros_like(event_phones)"
   ]
  },
  {
   "cell_type": "code",
   "execution_count": 6,
   "metadata": {},
   "outputs": [],
   "source": [
    "for i, val in enumerate(event_phones):\n",
    "    np_test[i] = str(val).strip('+')"
   ]
  },
  {
   "cell_type": "code",
   "execution_count": 7,
   "metadata": {},
   "outputs": [],
   "source": [
    "event_data['user_phone_edited'] = np_test"
   ]
  },
  {
   "cell_type": "code",
   "execution_count": 8,
   "metadata": {},
   "outputs": [],
   "source": [
    "event_data.drop('user_phone', axis=1, inplace=True)"
   ]
  },
  {
   "cell_type": "code",
   "execution_count": 9,
   "metadata": {},
   "outputs": [],
   "source": [
    "user_phones = users_data['user_phone'].to_arrow()"
   ]
  },
  {
   "cell_type": "code",
   "execution_count": 10,
   "metadata": {},
   "outputs": [],
   "source": [
    "np_test = np.zeros_like(user_phones)"
   ]
  },
  {
   "cell_type": "code",
   "execution_count": 11,
   "metadata": {},
   "outputs": [],
   "source": [
    "for i, val in enumerate(user_phones):\n",
    "    np_test[i] = str(val).strip('+')"
   ]
  },
  {
   "cell_type": "code",
   "execution_count": 12,
   "metadata": {},
   "outputs": [],
   "source": [
    "users_data['user_phone_edited'] = np_test"
   ]
  },
  {
   "cell_type": "code",
   "execution_count": 13,
   "metadata": {},
   "outputs": [],
   "source": [
    "users_data.drop('user_phone', axis=1, inplace=True)"
   ]
  },
  {
   "cell_type": "code",
   "execution_count": 14,
   "metadata": {},
   "outputs": [],
   "source": [
    "adv_data_plus_user_data = adv_data.merge(users_data, how='inner', on='user_id')"
   ]
  },
  {
   "cell_type": "code",
   "execution_count": 15,
   "metadata": {},
   "outputs": [],
   "source": [
    "del adv_data, users_data"
   ]
  },
  {
   "cell_type": "code",
   "execution_count": 16,
   "metadata": {},
   "outputs": [],
   "source": [
    "all_data = adv_data_plus_user_data.merge(event_data, how='inner', on='user_phone_edited')"
   ]
  },
  {
   "cell_type": "code",
   "execution_count": 17,
   "metadata": {},
   "outputs": [],
   "source": [
    "del event_data"
   ]
  },
  {
   "cell_type": "code",
   "execution_count": 18,
   "metadata": {},
   "outputs": [],
   "source": [
    "all_data.drop(['id', 'user_id'], inplace=True, axis=1)"
   ]
  },
  {
   "cell_type": "code",
   "execution_count": 59,
   "metadata": {},
   "outputs": [],
   "source": [
    "# chunk_size = 150_000\n",
    "# start_no = 0\n",
    "# end_no = chunk_size\n",
    "# chunk_amount = int(len(all_data) / chunk_size) + 1"
   ]
  },
  {
   "cell_type": "code",
   "execution_count": 61,
   "metadata": {},
   "outputs": [],
   "source": [
    "# for i in range(chunk_amount):\n",
    "#     all_data.iloc[start_no:end_no].to_csv(f'all_data/all_data_{i}.csv')\n",
    "#     start_no += chunk_size\n",
    "#     end_no += chunk_size"
   ]
  }
 ],
 "metadata": {
  "kernelspec": {
   "display_name": "myenv",
   "language": "python",
   "name": "python3"
  },
  "language_info": {
   "codemirror_mode": {
    "name": "ipython",
    "version": 3
   },
   "file_extension": ".py",
   "mimetype": "text/x-python",
   "name": "python",
   "nbconvert_exporter": "python",
   "pygments_lexer": "ipython3",
   "version": "3.11.9"
  }
 },
 "nbformat": 4,
 "nbformat_minor": 2
}
