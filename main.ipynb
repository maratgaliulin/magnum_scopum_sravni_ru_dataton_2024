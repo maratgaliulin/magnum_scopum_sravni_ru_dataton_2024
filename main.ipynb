{
 "cells": [
  {
   "cell_type": "code",
   "execution_count": 1,
   "metadata": {},
   "outputs": [],
   "source": [
    "import cudf as pd\n",
    "import cupy as cp\n",
    "import numpy as np\n",
    "import matplotlib.pyplot as plt\n",
    "import pandas"
   ]
  },
  {
   "cell_type": "code",
   "execution_count": 2,
   "metadata": {},
   "outputs": [],
   "source": [
    "adv_data = pd.read_csv('data/adv_data.csv')\n",
    "event_data = pd.read_csv('data/event_data.csv')\n",
    "users_data = pd.read_csv('data/users_data.csv')"
   ]
  },
  {
   "cell_type": "code",
   "execution_count": 3,
   "metadata": {},
   "outputs": [
    {
     "name": "stdout",
     "output_type": "stream",
     "text": [
      "<class 'cudf.core.dataframe.DataFrame'>\n",
      "RangeIndex: 10000000 entries, 0 to 9999999\n",
      "Data columns (total 9 columns):\n",
      " #   Column              Dtype\n",
      "---  ------              -----\n",
      " 0   user_id             object\n",
      " 1   campaign_type       object\n",
      " 2   campaign_start_dtm  object\n",
      " 3   campaign_end_dtm    object\n",
      " 4   source_medium       object\n",
      " 5   utm_campaign        object\n",
      " 6   interface           object\n",
      " 7   currency            object\n",
      " 8   campaign_cost       float64\n",
      "dtypes: float64(1), object(8)\n",
      "memory usage: 1.6+ GB\n"
     ]
    }
   ],
   "source": [
    "adv_data.info()"
   ]
  },
  {
   "cell_type": "code",
   "execution_count": null,
   "metadata": {},
   "outputs": [],
   "source": []
  },
  {
   "cell_type": "code",
   "execution_count": 4,
   "metadata": {},
   "outputs": [],
   "source": [
    "usdrub = 90.41"
   ]
  },
  {
   "cell_type": "code",
   "execution_count": 5,
   "metadata": {},
   "outputs": [],
   "source": [
    "# event_data.loc[event_data['currency'] == 'USD']"
   ]
  },
  {
   "cell_type": "code",
   "execution_count": 6,
   "metadata": {},
   "outputs": [],
   "source": [
    "def convert_to_rub(row):\n",
    "    x = row['payout']\n",
    "    if row['currency'] == 'USD':       \n",
    "        return x * usdrub\n",
    "    else:\n",
    "        return x"
   ]
  },
  {
   "cell_type": "code",
   "execution_count": 7,
   "metadata": {},
   "outputs": [],
   "source": [
    "def convert_campaign_cost_to_rub(row):\n",
    "    x = row['campaign_cost']\n",
    "    if row['currency'] == 'USD':       \n",
    "        return x * usdrub\n",
    "    else:\n",
    "        return x"
   ]
  },
  {
   "cell_type": "code",
   "execution_count": 8,
   "metadata": {},
   "outputs": [],
   "source": [
    "event_data['payout'] = event_data.apply(convert_to_rub, axis=1)\n",
    "adv_data['campaign_cost'] = adv_data.apply(convert_campaign_cost_to_rub, axis=1)"
   ]
  },
  {
   "cell_type": "code",
   "execution_count": 9,
   "metadata": {},
   "outputs": [],
   "source": [
    "event_data.drop('currency', inplace=True, axis=1)\n",
    "adv_data.drop('currency', inplace=True, axis=1)"
   ]
  },
  {
   "cell_type": "code",
   "execution_count": 10,
   "metadata": {},
   "outputs": [],
   "source": [
    "# adv_data['campaign_type'].value_counts()"
   ]
  },
  {
   "cell_type": "code",
   "execution_count": 11,
   "metadata": {},
   "outputs": [],
   "source": [
    "# event_data['event_type'].value_counts()"
   ]
  },
  {
   "cell_type": "code",
   "execution_count": 12,
   "metadata": {},
   "outputs": [],
   "source": [
    "# event_data['event_status'].unique()"
   ]
  },
  {
   "cell_type": "code",
   "execution_count": 13,
   "metadata": {},
   "outputs": [],
   "source": [
    "users_data = users_data[~users_data['user_id'].isna()]"
   ]
  },
  {
   "cell_type": "code",
   "execution_count": 14,
   "metadata": {},
   "outputs": [],
   "source": [
    "# event_data.drop('id', inplace=True, axis=1)"
   ]
  },
  {
   "cell_type": "code",
   "execution_count": 15,
   "metadata": {},
   "outputs": [],
   "source": [
    "event_data['payout'].fillna(0.0, inplace=True)"
   ]
  },
  {
   "cell_type": "code",
   "execution_count": 16,
   "metadata": {},
   "outputs": [],
   "source": [
    "adv_data['campaign_cost'].fillna(0.0, inplace=True)"
   ]
  },
  {
   "cell_type": "code",
   "execution_count": 17,
   "metadata": {},
   "outputs": [],
   "source": [
    "users_data.drop('delete_dtm', axis=1, inplace=True)"
   ]
  },
  {
   "cell_type": "code",
   "execution_count": 18,
   "metadata": {},
   "outputs": [],
   "source": [
    "# event_data_dup_id = event_data.loc[event_data.duplicated(subset='id')]['id'].to_arrow()"
   ]
  },
  {
   "cell_type": "code",
   "execution_count": 19,
   "metadata": {},
   "outputs": [],
   "source": [
    "# event_data_duplicates = event_data[event_data['id'].isin(event_data_dup_id)]"
   ]
  },
  {
   "cell_type": "code",
   "execution_count": 20,
   "metadata": {},
   "outputs": [],
   "source": [
    "# event_data_duplicates_phones = event_data_duplicates['user_phone'].to_arrow()"
   ]
  },
  {
   "cell_type": "code",
   "execution_count": 21,
   "metadata": {},
   "outputs": [],
   "source": [
    "# users_data[users_data['user_phone'].isin(event_data_duplicates_phones)]"
   ]
  },
  {
   "cell_type": "code",
   "execution_count": 22,
   "metadata": {},
   "outputs": [],
   "source": [
    "# len(users_data['user_id'].unique())"
   ]
  },
  {
   "cell_type": "code",
   "execution_count": 23,
   "metadata": {},
   "outputs": [],
   "source": [
    "# len(users_data)"
   ]
  },
  {
   "cell_type": "code",
   "execution_count": 24,
   "metadata": {},
   "outputs": [],
   "source": [
    "# len(users_data) - len(users_data['user_id'].unique())"
   ]
  },
  {
   "cell_type": "code",
   "execution_count": 25,
   "metadata": {},
   "outputs": [],
   "source": [
    "# len(event_data) - len(event_data['id'].unique())"
   ]
  },
  {
   "cell_type": "code",
   "execution_count": 26,
   "metadata": {},
   "outputs": [],
   "source": [
    "# users_data['user_id'].isin(users_data['user_id'].unique().to_arrow())"
   ]
  },
  {
   "cell_type": "code",
   "execution_count": 27,
   "metadata": {},
   "outputs": [],
   "source": [
    "event_phones = event_data['user_phone'].to_arrow()\n",
    "np_test = np.zeros_like(event_phones)\n",
    "\n",
    "user_phones = users_data['user_phone'].to_arrow()\n",
    "user_test = np.zeros_like(user_phones)"
   ]
  },
  {
   "cell_type": "code",
   "execution_count": 28,
   "metadata": {},
   "outputs": [],
   "source": [
    "for i, val in enumerate(event_phones):\n",
    "    np_test[i] = str(val).strip('+')\n",
    "    \n",
    "for i, val in enumerate(user_phones):\n",
    "    user_test[i] = str(val).strip('+')"
   ]
  },
  {
   "cell_type": "code",
   "execution_count": 29,
   "metadata": {},
   "outputs": [],
   "source": [
    "event_data['user_phone'] = np_test\n",
    "users_data['user_phone'] = user_test"
   ]
  },
  {
   "cell_type": "code",
   "execution_count": 30,
   "metadata": {},
   "outputs": [],
   "source": [
    "del np_test, user_test"
   ]
  },
  {
   "cell_type": "code",
   "execution_count": 31,
   "metadata": {},
   "outputs": [],
   "source": [
    "users_uuids = users_data['user_id'].unique().to_arrow()"
   ]
  },
  {
   "cell_type": "code",
   "execution_count": 32,
   "metadata": {},
   "outputs": [],
   "source": [
    "adv_data = adv_data[adv_data['user_id'].isin(users_uuids)]"
   ]
  },
  {
   "cell_type": "code",
   "execution_count": 33,
   "metadata": {},
   "outputs": [
    {
     "name": "stdout",
     "output_type": "stream",
     "text": [
      "<class 'cudf.core.dataframe.DataFrame'>\n",
      "Index: 9999908 entries, 0 to 9999999\n",
      "Data columns (total 8 columns):\n",
      " #   Column              Dtype\n",
      "---  ------              -----\n",
      " 0   user_id             object\n",
      " 1   campaign_type       object\n",
      " 2   campaign_start_dtm  object\n",
      " 3   campaign_end_dtm    object\n",
      " 4   source_medium       object\n",
      " 5   utm_campaign        object\n",
      " 6   interface           object\n",
      " 7   campaign_cost       float64\n",
      "dtypes: float64(1), object(7)\n",
      "memory usage: 1.6+ GB\n"
     ]
    }
   ],
   "source": [
    "adv_data.info()"
   ]
  },
  {
   "cell_type": "code",
   "execution_count": 34,
   "metadata": {},
   "outputs": [],
   "source": [
    "user_phones = users_data['user_phone'].unique().to_arrow()"
   ]
  },
  {
   "cell_type": "code",
   "execution_count": 35,
   "metadata": {},
   "outputs": [
    {
     "name": "stdout",
     "output_type": "stream",
     "text": [
      "<class 'cudf.core.dataframe.DataFrame'>\n",
      "Index: 7384334 entries, 0 to 7384333\n",
      "Data columns (total 3 columns):\n",
      " #   Column            Dtype\n",
      "---  ------            -----\n",
      " 0   user_phone        object\n",
      " 1   user_id           object\n",
      " 2   registration_dtm  object\n",
      "dtypes: object(3)\n",
      "memory usage: 626.8+ MB\n"
     ]
    }
   ],
   "source": [
    "users_data.info()"
   ]
  },
  {
   "cell_type": "code",
   "execution_count": 36,
   "metadata": {},
   "outputs": [
    {
     "name": "stdout",
     "output_type": "stream",
     "text": [
      "<class 'cudf.core.dataframe.DataFrame'>\n",
      "RangeIndex: 10000000 entries, 0 to 9999999\n",
      "Data columns (total 8 columns):\n",
      " #   Column        Dtype\n",
      "---  ------        -----\n",
      " 0   id            object\n",
      " 1   user_phone    object\n",
      " 2   event_type    object\n",
      " 3   event_dtm     object\n",
      " 4   event_status  object\n",
      " 5   update_dtm    object\n",
      " 6   payout        float64\n",
      " 7   product_type  object\n",
      "dtypes: float64(1), object(7)\n",
      "memory usage: 1.4+ GB\n"
     ]
    }
   ],
   "source": [
    "event_data.info()"
   ]
  },
  {
   "cell_type": "code",
   "execution_count": 37,
   "metadata": {},
   "outputs": [],
   "source": [
    "event_data = event_data[event_data['user_phone'].isin(user_phones)]"
   ]
  },
  {
   "cell_type": "code",
   "execution_count": 38,
   "metadata": {},
   "outputs": [
    {
     "name": "stdout",
     "output_type": "stream",
     "text": [
      "<class 'cudf.core.dataframe.DataFrame'>\n",
      "Index: 9998930 entries, 0 to 9999999\n",
      "Data columns (total 8 columns):\n",
      " #   Column        Dtype\n",
      "---  ------        -----\n",
      " 0   id            object\n",
      " 1   user_phone    object\n",
      " 2   event_type    object\n",
      " 3   event_dtm     object\n",
      " 4   event_status  object\n",
      " 5   update_dtm    object\n",
      " 6   payout        float64\n",
      " 7   product_type  object\n",
      "dtypes: float64(1), object(7)\n",
      "memory usage: 1.5+ GB\n"
     ]
    }
   ],
   "source": [
    "event_data.info()"
   ]
  },
  {
   "cell_type": "code",
   "execution_count": 39,
   "metadata": {},
   "outputs": [],
   "source": [
    "adv_data_plus_user_data = adv_data.merge(users_data, how='left', on='user_id')"
   ]
  },
  {
   "cell_type": "code",
   "execution_count": 40,
   "metadata": {},
   "outputs": [
    {
     "name": "stdout",
     "output_type": "stream",
     "text": [
      "<class 'cudf.core.dataframe.DataFrame'>\n",
      "RangeIndex: 9999908 entries, 0 to 9999907\n",
      "Data columns (total 10 columns):\n",
      " #   Column              Dtype\n",
      "---  ------              -----\n",
      " 0   user_id             object\n",
      " 1   campaign_type       object\n",
      " 2   campaign_start_dtm  object\n",
      " 3   campaign_end_dtm    object\n",
      " 4   source_medium       object\n",
      " 5   utm_campaign        object\n",
      " 6   interface           object\n",
      " 7   campaign_cost       float64\n",
      " 8   user_phone          object\n",
      " 9   registration_dtm    object\n",
      "dtypes: float64(1), object(9)\n",
      "memory usage: 1.9+ GB\n"
     ]
    }
   ],
   "source": [
    "adv_data_plus_user_data.info()"
   ]
  },
  {
   "cell_type": "code",
   "execution_count": 41,
   "metadata": {},
   "outputs": [],
   "source": [
    "# adv_data - campaign_type, event_data - event_type"
   ]
  },
  {
   "cell_type": "code",
   "execution_count": 42,
   "metadata": {},
   "outputs": [],
   "source": [
    "all_data = adv_data_plus_user_data.merge(event_data, how='inner', right_on=['user_phone', 'event_type'], left_on=['user_phone', 'campaign_type'])"
   ]
  },
  {
   "cell_type": "code",
   "execution_count": 43,
   "metadata": {},
   "outputs": [],
   "source": [
    "del users_uuids, adv_data, users_data, user_phones, event_data, adv_data_plus_user_data"
   ]
  },
  {
   "cell_type": "code",
   "execution_count": 44,
   "metadata": {},
   "outputs": [],
   "source": [
    "def parse_dates(row):\n",
    "    return pd.to_datetime(row['campaign_start_dtm'])"
   ]
  },
  {
   "cell_type": "code",
   "execution_count": 45,
   "metadata": {},
   "outputs": [],
   "source": [
    "date_to_fill = '2050-01-01 00:00:00.000000'"
   ]
  },
  {
   "cell_type": "code",
   "execution_count": 46,
   "metadata": {},
   "outputs": [],
   "source": [
    "all_data['campaign_start_dtm'] = pd.to_datetime(all_data['campaign_start_dtm'])\n",
    "all_data['registration_dtm'] = pd.to_datetime(all_data['registration_dtm'])\n",
    "all_data['event_dtm'] = pd.to_datetime(all_data['event_dtm'])\n",
    "all_data['update_dtm'].fillna(date_to_fill, inplace=True)\n",
    "all_data['update_dtm'] = pd.to_datetime(all_data['update_dtm'])"
   ]
  },
  {
   "cell_type": "code",
   "execution_count": 47,
   "metadata": {},
   "outputs": [],
   "source": [
    "all_data.drop('campaign_end_dtm', axis=1, inplace=True)"
   ]
  },
  {
   "cell_type": "code",
   "execution_count": 48,
   "metadata": {},
   "outputs": [],
   "source": [
    "all_data['time_from_reg_till_event'] = all_data['event_dtm'] - all_data['registration_dtm']"
   ]
  },
  {
   "cell_type": "code",
   "execution_count": 49,
   "metadata": {},
   "outputs": [],
   "source": [
    "all_data['time_from_camp_start_till_event'] = all_data['event_dtm'] - all_data['campaign_start_dtm']"
   ]
  },
  {
   "cell_type": "code",
   "execution_count": 50,
   "metadata": {},
   "outputs": [],
   "source": [
    "all_data['campaign_cost'].fillna(0.0, inplace=True)"
   ]
  },
  {
   "cell_type": "code",
   "execution_count": 51,
   "metadata": {},
   "outputs": [],
   "source": [
    "all_data.drop(['campaign_start_dtm', 'registration_dtm', 'event_dtm', 'update_dtm'], axis=1, inplace=True)"
   ]
  },
  {
   "cell_type": "code",
   "execution_count": 52,
   "metadata": {},
   "outputs": [
    {
     "data": {
      "text/html": [
       "<div>\n",
       "<style scoped>\n",
       "    .dataframe tbody tr th:only-of-type {\n",
       "        vertical-align: middle;\n",
       "    }\n",
       "\n",
       "    .dataframe tbody tr th {\n",
       "        vertical-align: top;\n",
       "    }\n",
       "\n",
       "    .dataframe thead th {\n",
       "        text-align: right;\n",
       "    }\n",
       "</style>\n",
       "<table border=\"1\" class=\"dataframe\">\n",
       "  <thead>\n",
       "    <tr style=\"text-align: right;\">\n",
       "      <th></th>\n",
       "      <th></th>\n",
       "      <th>source_medium</th>\n",
       "      <th>utm_campaign</th>\n",
       "      <th>interface</th>\n",
       "      <th>campaign_cost</th>\n",
       "      <th>user_phone</th>\n",
       "      <th>id</th>\n",
       "      <th>event_type</th>\n",
       "      <th>event_status</th>\n",
       "      <th>payout</th>\n",
       "      <th>product_type</th>\n",
       "      <th>time_from_reg_till_event</th>\n",
       "      <th>time_from_camp_start_till_event</th>\n",
       "    </tr>\n",
       "    <tr>\n",
       "      <th>user_id</th>\n",
       "      <th>campaign_type</th>\n",
       "      <th></th>\n",
       "      <th></th>\n",
       "      <th></th>\n",
       "      <th></th>\n",
       "      <th></th>\n",
       "      <th></th>\n",
       "      <th></th>\n",
       "      <th></th>\n",
       "      <th></th>\n",
       "      <th></th>\n",
       "      <th></th>\n",
       "      <th></th>\n",
       "    </tr>\n",
       "  </thead>\n",
       "  <tbody>\n",
       "    <tr>\n",
       "      <th rowspan=\"2\" valign=\"top\">1cf2827f8084e0c55e94cb675551bb4d</th>\n",
       "      <th>show</th>\n",
       "      <td>yandex / organic</td>\n",
       "      <td>client_case_mind</td>\n",
       "      <td>app</td>\n",
       "      <td>0.00</td>\n",
       "      <td>79110685723</td>\n",
       "      <td>9584bfbbb19f59401f60d909a5e5e6101399c631f6e6f3...</td>\n",
       "      <td>show</td>\n",
       "      <td>&lt;NA&gt;</td>\n",
       "      <td>0.0</td>\n",
       "      <td>loan</td>\n",
       "      <td>246 days 23:27:41.932603</td>\n",
       "      <td>32 days 18:07:30.083436</td>\n",
       "    </tr>\n",
       "    <tr>\n",
       "      <th>click</th>\n",
       "      <td>google / organic</td>\n",
       "      <td>client_target_clickarrow</td>\n",
       "      <td>app</td>\n",
       "      <td>182.43</td>\n",
       "      <td>79110685723</td>\n",
       "      <td>30b05e38d28554dada6d8993e4a4b5fc48b54de07f4fd5...</td>\n",
       "      <td>click</td>\n",
       "      <td>&lt;NA&gt;</td>\n",
       "      <td>0.0</td>\n",
       "      <td>loan</td>\n",
       "      <td>246 days 23:27:41.932603</td>\n",
       "      <td>74 days 19:08:56.194827</td>\n",
       "    </tr>\n",
       "    <tr>\n",
       "      <th>b1dda5296d4c760494c952551d9ed2f6</th>\n",
       "      <th>show</th>\n",
       "      <td>not-set / none</td>\n",
       "      <td>&lt;NA&gt;</td>\n",
       "      <td>web</td>\n",
       "      <td>0.00</td>\n",
       "      <td>79169256811</td>\n",
       "      <td>422cdd5f193da5a8c4c2a69cef77857a87a59174963ca9...</td>\n",
       "      <td>show</td>\n",
       "      <td>&lt;NA&gt;</td>\n",
       "      <td>0.0</td>\n",
       "      <td>loan</td>\n",
       "      <td>3 days 20:56:59.894792</td>\n",
       "      <td>-199 days +06:11:07.243173</td>\n",
       "    </tr>\n",
       "    <tr>\n",
       "      <th rowspan=\"2\" valign=\"top\">70391e123115e9d0f463495adfa9ff91</th>\n",
       "      <th>show</th>\n",
       "      <td>yandex / organic</td>\n",
       "      <td>client_rebrand_megamaket</td>\n",
       "      <td>app</td>\n",
       "      <td>0.00</td>\n",
       "      <td>79143423444</td>\n",
       "      <td>aa154add98285bd92c7bbe42f602ef7218a45b3d7ce0bf...</td>\n",
       "      <td>show</td>\n",
       "      <td>&lt;NA&gt;</td>\n",
       "      <td>0.0</td>\n",
       "      <td>deposits</td>\n",
       "      <td>152 days 03:39:49.120132</td>\n",
       "      <td>92 days 16:47:29.443329</td>\n",
       "    </tr>\n",
       "    <tr>\n",
       "      <th>click</th>\n",
       "      <td>yandex / organic</td>\n",
       "      <td>bk_adv_client</td>\n",
       "      <td>web</td>\n",
       "      <td>0.00</td>\n",
       "      <td>79143423444</td>\n",
       "      <td>416ce92d431422cffd83519bbdddebba9f92718b21e9d9...</td>\n",
       "      <td>click</td>\n",
       "      <td>&lt;NA&gt;</td>\n",
       "      <td>0.0</td>\n",
       "      <td>deposits</td>\n",
       "      <td>152 days 03:39:49.120132</td>\n",
       "      <td>82 days 19:27:19.982213</td>\n",
       "    </tr>\n",
       "    <tr>\n",
       "      <th>...</th>\n",
       "      <th>...</th>\n",
       "      <td>...</td>\n",
       "      <td>...</td>\n",
       "      <td>...</td>\n",
       "      <td>...</td>\n",
       "      <td>...</td>\n",
       "      <td>...</td>\n",
       "      <td>...</td>\n",
       "      <td>...</td>\n",
       "      <td>...</td>\n",
       "      <td>...</td>\n",
       "      <td>...</td>\n",
       "      <td>...</td>\n",
       "    </tr>\n",
       "    <tr>\n",
       "      <th>5dd92af0b4583f0c398213de68e6f791</th>\n",
       "      <th>show</th>\n",
       "      <td>yandex / cpc</td>\n",
       "      <td>light_retarget_market</td>\n",
       "      <td>web</td>\n",
       "      <td>0.00</td>\n",
       "      <td>79136226770</td>\n",
       "      <td>475ba943321e02d22729260bf38dabf2f8229c4c3724ba...</td>\n",
       "      <td>show</td>\n",
       "      <td>&lt;NA&gt;</td>\n",
       "      <td>0.0</td>\n",
       "      <td>mortgage</td>\n",
       "      <td>82 days 15:26:35.336175</td>\n",
       "      <td>-249 days +14:20:51.618593</td>\n",
       "    </tr>\n",
       "    <tr>\n",
       "      <th>01ce95aa0c2a6880c78bb5a90303549c</th>\n",
       "      <th>show</th>\n",
       "      <td>regular / sms</td>\n",
       "      <td>mind_rebrand_megamaket</td>\n",
       "      <td>app</td>\n",
       "      <td>0.00</td>\n",
       "      <td>79100032208</td>\n",
       "      <td>62743f974a300b1be1f43993377f89e0c33760bea419ea...</td>\n",
       "      <td>show</td>\n",
       "      <td>&lt;NA&gt;</td>\n",
       "      <td>0.0</td>\n",
       "      <td>deposits</td>\n",
       "      <td>485 days 10:47:00.997934</td>\n",
       "      <td>191 days 18:28:49.193100</td>\n",
       "    </tr>\n",
       "    <tr>\n",
       "      <th>c28151d62405e210012dee3a153bcd21</th>\n",
       "      <th>show</th>\n",
       "      <td>google / organic</td>\n",
       "      <td>operator_response_rebrand</td>\n",
       "      <td>app</td>\n",
       "      <td>0.00</td>\n",
       "      <td>79175795131</td>\n",
       "      <td>d836f6e40fe021a2546287708e7d7facda75c50a69651e...</td>\n",
       "      <td>show</td>\n",
       "      <td>&lt;NA&gt;</td>\n",
       "      <td>0.0</td>\n",
       "      <td>loan</td>\n",
       "      <td>190 days 21:30:21.042317</td>\n",
       "      <td>131 days 18:25:26.729495</td>\n",
       "    </tr>\n",
       "    <tr>\n",
       "      <th>bc23a8b4796dfc2a50d903b41e051312</th>\n",
       "      <th>show</th>\n",
       "      <td>trigger / sms</td>\n",
       "      <td>clickarrow_response_case</td>\n",
       "      <td>app</td>\n",
       "      <td>0.00</td>\n",
       "      <td>79173299451</td>\n",
       "      <td>018c99c210579b8142e179632aa649ee411fbd443e8bce...</td>\n",
       "      <td>show</td>\n",
       "      <td>&lt;NA&gt;</td>\n",
       "      <td>0.0</td>\n",
       "      <td>loan</td>\n",
       "      <td>218 days 00:55:22.384274</td>\n",
       "      <td>-20 days +17:25:53.466433</td>\n",
       "    </tr>\n",
       "    <tr>\n",
       "      <th>d50ea2a785d4e801976a688af5038574</th>\n",
       "      <th>show</th>\n",
       "      <td>yandex / organic</td>\n",
       "      <td>case_response_rebrand</td>\n",
       "      <td>web</td>\n",
       "      <td>0.00</td>\n",
       "      <td>79183086727</td>\n",
       "      <td>f899734bc70e443b01d263ac0ebf618b8376be14943da4...</td>\n",
       "      <td>show</td>\n",
       "      <td>&lt;NA&gt;</td>\n",
       "      <td>0.0</td>\n",
       "      <td>deposits</td>\n",
       "      <td>151 days 05:29:46.639419</td>\n",
       "      <td>-85 days +19:18:06.052822</td>\n",
       "    </tr>\n",
       "  </tbody>\n",
       "</table>\n",
       "<p>8482145 rows × 12 columns</p>\n",
       "</div>"
      ],
      "text/plain": [
       "                                                   source_medium  \\\n",
       "user_id                          campaign_type                     \n",
       "1cf2827f8084e0c55e94cb675551bb4d show           yandex / organic   \n",
       "                                 click          google / organic   \n",
       "b1dda5296d4c760494c952551d9ed2f6 show             not-set / none   \n",
       "70391e123115e9d0f463495adfa9ff91 show           yandex / organic   \n",
       "                                 click          yandex / organic   \n",
       "...                                                          ...   \n",
       "5dd92af0b4583f0c398213de68e6f791 show               yandex / cpc   \n",
       "01ce95aa0c2a6880c78bb5a90303549c show              regular / sms   \n",
       "c28151d62405e210012dee3a153bcd21 show           google / organic   \n",
       "bc23a8b4796dfc2a50d903b41e051312 show              trigger / sms   \n",
       "d50ea2a785d4e801976a688af5038574 show           yandex / organic   \n",
       "\n",
       "                                                             utm_campaign  \\\n",
       "user_id                          campaign_type                              \n",
       "1cf2827f8084e0c55e94cb675551bb4d show                    client_case_mind   \n",
       "                                 click           client_target_clickarrow   \n",
       "b1dda5296d4c760494c952551d9ed2f6 show                                <NA>   \n",
       "70391e123115e9d0f463495adfa9ff91 show            client_rebrand_megamaket   \n",
       "                                 click                      bk_adv_client   \n",
       "...                                                                   ...   \n",
       "5dd92af0b4583f0c398213de68e6f791 show               light_retarget_market   \n",
       "01ce95aa0c2a6880c78bb5a90303549c show              mind_rebrand_megamaket   \n",
       "c28151d62405e210012dee3a153bcd21 show           operator_response_rebrand   \n",
       "bc23a8b4796dfc2a50d903b41e051312 show            clickarrow_response_case   \n",
       "d50ea2a785d4e801976a688af5038574 show               case_response_rebrand   \n",
       "\n",
       "                                               interface  campaign_cost  \\\n",
       "user_id                          campaign_type                            \n",
       "1cf2827f8084e0c55e94cb675551bb4d show                app           0.00   \n",
       "                                 click               app         182.43   \n",
       "b1dda5296d4c760494c952551d9ed2f6 show                web           0.00   \n",
       "70391e123115e9d0f463495adfa9ff91 show                app           0.00   \n",
       "                                 click               web           0.00   \n",
       "...                                                  ...            ...   \n",
       "5dd92af0b4583f0c398213de68e6f791 show                web           0.00   \n",
       "01ce95aa0c2a6880c78bb5a90303549c show                app           0.00   \n",
       "c28151d62405e210012dee3a153bcd21 show                app           0.00   \n",
       "bc23a8b4796dfc2a50d903b41e051312 show                app           0.00   \n",
       "d50ea2a785d4e801976a688af5038574 show                web           0.00   \n",
       "\n",
       "                                                 user_phone  \\\n",
       "user_id                          campaign_type                \n",
       "1cf2827f8084e0c55e94cb675551bb4d show           79110685723   \n",
       "                                 click          79110685723   \n",
       "b1dda5296d4c760494c952551d9ed2f6 show           79169256811   \n",
       "70391e123115e9d0f463495adfa9ff91 show           79143423444   \n",
       "                                 click          79143423444   \n",
       "...                                                     ...   \n",
       "5dd92af0b4583f0c398213de68e6f791 show           79136226770   \n",
       "01ce95aa0c2a6880c78bb5a90303549c show           79100032208   \n",
       "c28151d62405e210012dee3a153bcd21 show           79175795131   \n",
       "bc23a8b4796dfc2a50d903b41e051312 show           79173299451   \n",
       "d50ea2a785d4e801976a688af5038574 show           79183086727   \n",
       "\n",
       "                                                                                               id  \\\n",
       "user_id                          campaign_type                                                      \n",
       "1cf2827f8084e0c55e94cb675551bb4d show           9584bfbbb19f59401f60d909a5e5e6101399c631f6e6f3...   \n",
       "                                 click          30b05e38d28554dada6d8993e4a4b5fc48b54de07f4fd5...   \n",
       "b1dda5296d4c760494c952551d9ed2f6 show           422cdd5f193da5a8c4c2a69cef77857a87a59174963ca9...   \n",
       "70391e123115e9d0f463495adfa9ff91 show           aa154add98285bd92c7bbe42f602ef7218a45b3d7ce0bf...   \n",
       "                                 click          416ce92d431422cffd83519bbdddebba9f92718b21e9d9...   \n",
       "...                                                                                           ...   \n",
       "5dd92af0b4583f0c398213de68e6f791 show           475ba943321e02d22729260bf38dabf2f8229c4c3724ba...   \n",
       "01ce95aa0c2a6880c78bb5a90303549c show           62743f974a300b1be1f43993377f89e0c33760bea419ea...   \n",
       "c28151d62405e210012dee3a153bcd21 show           d836f6e40fe021a2546287708e7d7facda75c50a69651e...   \n",
       "bc23a8b4796dfc2a50d903b41e051312 show           018c99c210579b8142e179632aa649ee411fbd443e8bce...   \n",
       "d50ea2a785d4e801976a688af5038574 show           f899734bc70e443b01d263ac0ebf618b8376be14943da4...   \n",
       "\n",
       "                                               event_type event_status  \\\n",
       "user_id                          campaign_type                           \n",
       "1cf2827f8084e0c55e94cb675551bb4d show                show         <NA>   \n",
       "                                 click              click         <NA>   \n",
       "b1dda5296d4c760494c952551d9ed2f6 show                show         <NA>   \n",
       "70391e123115e9d0f463495adfa9ff91 show                show         <NA>   \n",
       "                                 click              click         <NA>   \n",
       "...                                                   ...          ...   \n",
       "5dd92af0b4583f0c398213de68e6f791 show                show         <NA>   \n",
       "01ce95aa0c2a6880c78bb5a90303549c show                show         <NA>   \n",
       "c28151d62405e210012dee3a153bcd21 show                show         <NA>   \n",
       "bc23a8b4796dfc2a50d903b41e051312 show                show         <NA>   \n",
       "d50ea2a785d4e801976a688af5038574 show                show         <NA>   \n",
       "\n",
       "                                                payout product_type  \\\n",
       "user_id                          campaign_type                        \n",
       "1cf2827f8084e0c55e94cb675551bb4d show              0.0         loan   \n",
       "                                 click             0.0         loan   \n",
       "b1dda5296d4c760494c952551d9ed2f6 show              0.0         loan   \n",
       "70391e123115e9d0f463495adfa9ff91 show              0.0     deposits   \n",
       "                                 click             0.0     deposits   \n",
       "...                                                ...          ...   \n",
       "5dd92af0b4583f0c398213de68e6f791 show              0.0     mortgage   \n",
       "01ce95aa0c2a6880c78bb5a90303549c show              0.0     deposits   \n",
       "c28151d62405e210012dee3a153bcd21 show              0.0         loan   \n",
       "bc23a8b4796dfc2a50d903b41e051312 show              0.0         loan   \n",
       "d50ea2a785d4e801976a688af5038574 show              0.0     deposits   \n",
       "\n",
       "                                               time_from_reg_till_event  \\\n",
       "user_id                          campaign_type                            \n",
       "1cf2827f8084e0c55e94cb675551bb4d show          246 days 23:27:41.932603   \n",
       "                                 click         246 days 23:27:41.932603   \n",
       "b1dda5296d4c760494c952551d9ed2f6 show            3 days 20:56:59.894792   \n",
       "70391e123115e9d0f463495adfa9ff91 show          152 days 03:39:49.120132   \n",
       "                                 click         152 days 03:39:49.120132   \n",
       "...                                                                 ...   \n",
       "5dd92af0b4583f0c398213de68e6f791 show           82 days 15:26:35.336175   \n",
       "01ce95aa0c2a6880c78bb5a90303549c show          485 days 10:47:00.997934   \n",
       "c28151d62405e210012dee3a153bcd21 show          190 days 21:30:21.042317   \n",
       "bc23a8b4796dfc2a50d903b41e051312 show          218 days 00:55:22.384274   \n",
       "d50ea2a785d4e801976a688af5038574 show          151 days 05:29:46.639419   \n",
       "\n",
       "                                               time_from_camp_start_till_event  \n",
       "user_id                          campaign_type                                  \n",
       "1cf2827f8084e0c55e94cb675551bb4d show                  32 days 18:07:30.083436  \n",
       "                                 click                 74 days 19:08:56.194827  \n",
       "b1dda5296d4c760494c952551d9ed2f6 show               -199 days +06:11:07.243173  \n",
       "70391e123115e9d0f463495adfa9ff91 show                  92 days 16:47:29.443329  \n",
       "                                 click                 82 days 19:27:19.982213  \n",
       "...                                                                        ...  \n",
       "5dd92af0b4583f0c398213de68e6f791 show               -249 days +14:20:51.618593  \n",
       "01ce95aa0c2a6880c78bb5a90303549c show                 191 days 18:28:49.193100  \n",
       "c28151d62405e210012dee3a153bcd21 show                 131 days 18:25:26.729495  \n",
       "bc23a8b4796dfc2a50d903b41e051312 show                -20 days +17:25:53.466433  \n",
       "d50ea2a785d4e801976a688af5038574 show                -85 days +19:18:06.052822  \n",
       "\n",
       "[8482145 rows x 12 columns]"
      ]
     },
     "execution_count": 52,
     "metadata": {},
     "output_type": "execute_result"
    }
   ],
   "source": [
    "all_data.set_index(['user_id', 'campaign_type'])"
   ]
  },
  {
   "cell_type": "code",
   "execution_count": 53,
   "metadata": {},
   "outputs": [
    {
     "name": "stdout",
     "output_type": "stream",
     "text": [
      "<class 'cudf.core.dataframe.DataFrame'>\n",
      "RangeIndex: 8482145 entries, 0 to 8482144\n",
      "Data columns (total 14 columns):\n",
      " #   Column                           Dtype\n",
      "---  ------                           -----\n",
      " 0   user_id                          object\n",
      " 1   campaign_type                    object\n",
      " 2   source_medium                    object\n",
      " 3   utm_campaign                     object\n",
      " 4   interface                        object\n",
      " 5   campaign_cost                    float64\n",
      " 6   user_phone                       object\n",
      " 7   id                               object\n",
      " 8   event_type                       object\n",
      " 9   event_status                     object\n",
      " 10  payout                           float64\n",
      " 11  product_type                     object\n",
      " 12  time_from_reg_till_event         timedelta64[ns]\n",
      " 13  time_from_camp_start_till_event  timedelta64[ns]\n",
      "dtypes: float64(2), object(10), timedelta64[ns](2)\n",
      "memory usage: 1.8+ GB\n"
     ]
    }
   ],
   "source": [
    "all_data.info()"
   ]
  },
  {
   "cell_type": "code",
   "execution_count": 54,
   "metadata": {},
   "outputs": [],
   "source": [
    "# product_types = all_data['product_type'].unique().to_arrow()"
   ]
  },
  {
   "cell_type": "code",
   "execution_count": 55,
   "metadata": {},
   "outputs": [],
   "source": [
    "# product_types"
   ]
  },
  {
   "cell_type": "code",
   "execution_count": 62,
   "metadata": {},
   "outputs": [],
   "source": [
    "# loan_data = all_data.loc[all_data['product_type'] == 'loan']\n",
    "# deposit_data = all_data.loc[all_data['product_type'] == 'deposits']\n",
    "# mortgage_data = all_data.loc[all_data['product_type'] == 'mortgage']"
   ]
  },
  {
   "cell_type": "code",
   "execution_count": 65,
   "metadata": {},
   "outputs": [],
   "source": [
    "# del all_data"
   ]
  },
  {
   "cell_type": "code",
   "execution_count": 64,
   "metadata": {},
   "outputs": [],
   "source": [
    "# del mortgage_data"
   ]
  },
  {
   "cell_type": "code",
   "execution_count": 63,
   "metadata": {},
   "outputs": [],
   "source": [
    "# mortgage_data.to_csv('data/mortgage_data.csv')\n"
   ]
  },
  {
   "cell_type": "code",
   "execution_count": 57,
   "metadata": {},
   "outputs": [],
   "source": [
    "# loan_data.to_csv('data/loan_data.csv')\n"
   ]
  },
  {
   "cell_type": "code",
   "execution_count": 60,
   "metadata": {},
   "outputs": [],
   "source": [
    "# deposit_data.to_csv('data/deposit_data.csv')"
   ]
  }
 ],
 "metadata": {
  "kernelspec": {
   "display_name": "myenv",
   "language": "python",
   "name": "python3"
  },
  "language_info": {
   "codemirror_mode": {
    "name": "ipython",
    "version": 3
   },
   "file_extension": ".py",
   "mimetype": "text/x-python",
   "name": "python",
   "nbconvert_exporter": "python",
   "pygments_lexer": "ipython3",
   "version": "3.11.9"
  }
 },
 "nbformat": 4,
 "nbformat_minor": 2
}
