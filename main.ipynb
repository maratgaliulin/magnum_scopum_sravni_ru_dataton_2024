{
 "cells": [
  {
   "cell_type": "code",
   "execution_count": 1,
   "metadata": {},
   "outputs": [],
   "source": [
    "# Для работы с большими датасетами используем библиотеку cudf от NVIDIA, с целью перенаправления вычислений на GPU\n",
    "\n",
    "import cudf as pd\n",
    "# import cupy as cp\n",
    "import numpy as np\n",
    "# import matplotlib.pyplot as plt\n",
    "# import pandas"
   ]
  },
  {
   "cell_type": "code",
   "execution_count": 2,
   "metadata": {},
   "outputs": [],
   "source": [
    "# Загружаем исходные данные\n",
    "\n",
    "adv_data = pd.read_csv('data/adv_data.csv')\n",
    "users_data = pd.read_csv('data/users_data.csv')\n",
    "event_data = pd.read_csv('data/event_data.csv')"
   ]
  },
  {
   "cell_type": "code",
   "execution_count": 3,
   "metadata": {},
   "outputs": [
    {
     "data": {
      "text/html": [
       "<div>\n",
       "<style scoped>\n",
       "    .dataframe tbody tr th:only-of-type {\n",
       "        vertical-align: middle;\n",
       "    }\n",
       "\n",
       "    .dataframe tbody tr th {\n",
       "        vertical-align: top;\n",
       "    }\n",
       "\n",
       "    .dataframe thead th {\n",
       "        text-align: right;\n",
       "    }\n",
       "</style>\n",
       "<table border=\"1\" class=\"dataframe\">\n",
       "  <thead>\n",
       "    <tr style=\"text-align: right;\">\n",
       "      <th></th>\n",
       "      <th>user_id</th>\n",
       "      <th>campaign_type</th>\n",
       "      <th>campaign_start_dtm</th>\n",
       "      <th>campaign_end_dtm</th>\n",
       "      <th>source_medium</th>\n",
       "      <th>utm_campaign</th>\n",
       "      <th>interface</th>\n",
       "      <th>currency</th>\n",
       "      <th>campaign_cost</th>\n",
       "    </tr>\n",
       "  </thead>\n",
       "  <tbody>\n",
       "    <tr>\n",
       "      <th>0</th>\n",
       "      <td>db00f9c699edacc50090172cfaa3b43a</td>\n",
       "      <td>show</td>\n",
       "      <td>2023-09-18 19:39:25.390618</td>\n",
       "      <td>2023-09-18 19:39:25.390618</td>\n",
       "      <td>finance.rambler.ru / cpm</td>\n",
       "      <td>rebrand_megamaket_reels</td>\n",
       "      <td>app</td>\n",
       "      <td>RUB</td>\n",
       "      <td>&lt;NA&gt;</td>\n",
       "    </tr>\n",
       "    <tr>\n",
       "      <th>1</th>\n",
       "      <td>88aa22bca4fa1d6da73deb4b5c5ee8c0</td>\n",
       "      <td>show</td>\n",
       "      <td>2023-04-11 06:47:33.199369</td>\n",
       "      <td>2023-04-11 06:47:33.199369</td>\n",
       "      <td>yandex / organic</td>\n",
       "      <td>adv_retarget_brandkeys</td>\n",
       "      <td>web</td>\n",
       "      <td>RUB</td>\n",
       "      <td>&lt;NA&gt;</td>\n",
       "    </tr>\n",
       "    <tr>\n",
       "      <th>2</th>\n",
       "      <td>e9e12347e50732804d2f8ded00743a07</td>\n",
       "      <td>show</td>\n",
       "      <td>2023-10-28 04:35:48.329870</td>\n",
       "      <td>2023-10-28 04:35:48.329870</td>\n",
       "      <td>yandex / organic</td>\n",
       "      <td>bk_light_brandkeys</td>\n",
       "      <td>web</td>\n",
       "      <td>RUB</td>\n",
       "      <td>&lt;NA&gt;</td>\n",
       "    </tr>\n",
       "    <tr>\n",
       "      <th>3</th>\n",
       "      <td>fa0cd363d1978a27a078152cd263c670</td>\n",
       "      <td>show</td>\n",
       "      <td>2023-05-28 18:25:18.694051</td>\n",
       "      <td>2023-05-28 18:25:18.694051</td>\n",
       "      <td>yandex / organic</td>\n",
       "      <td>retarget_mind_response</td>\n",
       "      <td>api</td>\n",
       "      <td>RUB</td>\n",
       "      <td>&lt;NA&gt;</td>\n",
       "    </tr>\n",
       "    <tr>\n",
       "      <th>4</th>\n",
       "      <td>fa0cd363d1978a27a078152cd263c670</td>\n",
       "      <td>click</td>\n",
       "      <td>2023-05-31 18:55:55.352680</td>\n",
       "      <td>2023-05-31 18:55:55.352680</td>\n",
       "      <td>regular / sms</td>\n",
       "      <td>light_clickarrow_clickarrow</td>\n",
       "      <td>api</td>\n",
       "      <td>USD</td>\n",
       "      <td>1.34</td>\n",
       "    </tr>\n",
       "  </tbody>\n",
       "</table>\n",
       "</div>"
      ],
      "text/plain": [
       "                            user_id campaign_type          campaign_start_dtm  \\\n",
       "0  db00f9c699edacc50090172cfaa3b43a          show  2023-09-18 19:39:25.390618   \n",
       "1  88aa22bca4fa1d6da73deb4b5c5ee8c0          show  2023-04-11 06:47:33.199369   \n",
       "2  e9e12347e50732804d2f8ded00743a07          show  2023-10-28 04:35:48.329870   \n",
       "3  fa0cd363d1978a27a078152cd263c670          show  2023-05-28 18:25:18.694051   \n",
       "4  fa0cd363d1978a27a078152cd263c670         click  2023-05-31 18:55:55.352680   \n",
       "\n",
       "             campaign_end_dtm             source_medium  \\\n",
       "0  2023-09-18 19:39:25.390618  finance.rambler.ru / cpm   \n",
       "1  2023-04-11 06:47:33.199369          yandex / organic   \n",
       "2  2023-10-28 04:35:48.329870          yandex / organic   \n",
       "3  2023-05-28 18:25:18.694051          yandex / organic   \n",
       "4  2023-05-31 18:55:55.352680             regular / sms   \n",
       "\n",
       "                  utm_campaign interface currency campaign_cost  \n",
       "0      rebrand_megamaket_reels       app      RUB          <NA>  \n",
       "1       adv_retarget_brandkeys       web      RUB          <NA>  \n",
       "2           bk_light_brandkeys       web      RUB          <NA>  \n",
       "3       retarget_mind_response       api      RUB          <NA>  \n",
       "4  light_clickarrow_clickarrow       api      USD          1.34  "
      ]
     },
     "execution_count": 3,
     "metadata": {},
     "output_type": "execute_result"
    }
   ],
   "source": [
    "adv_data.head()"
   ]
  },
  {
   "cell_type": "code",
   "execution_count": 4,
   "metadata": {},
   "outputs": [
    {
     "data": {
      "text/html": [
       "<div>\n",
       "<style scoped>\n",
       "    .dataframe tbody tr th:only-of-type {\n",
       "        vertical-align: middle;\n",
       "    }\n",
       "\n",
       "    .dataframe tbody tr th {\n",
       "        vertical-align: top;\n",
       "    }\n",
       "\n",
       "    .dataframe thead th {\n",
       "        text-align: right;\n",
       "    }\n",
       "</style>\n",
       "<table border=\"1\" class=\"dataframe\">\n",
       "  <thead>\n",
       "    <tr style=\"text-align: right;\">\n",
       "      <th></th>\n",
       "      <th>id</th>\n",
       "      <th>user_phone</th>\n",
       "      <th>event_type</th>\n",
       "      <th>event_dtm</th>\n",
       "      <th>event_status</th>\n",
       "      <th>update_dtm</th>\n",
       "      <th>payout</th>\n",
       "      <th>currency</th>\n",
       "      <th>product_type</th>\n",
       "    </tr>\n",
       "  </thead>\n",
       "  <tbody>\n",
       "    <tr>\n",
       "      <th>0</th>\n",
       "      <td>1263769bddda6eaaf7c8b8b22812ad6a063ad234d80782...</td>\n",
       "      <td>+79140092454</td>\n",
       "      <td>show</td>\n",
       "      <td>2023-10-05 12:03:04.125806</td>\n",
       "      <td>&lt;NA&gt;</td>\n",
       "      <td>&lt;NA&gt;</td>\n",
       "      <td>&lt;NA&gt;</td>\n",
       "      <td>RUB</td>\n",
       "      <td>mortgage</td>\n",
       "    </tr>\n",
       "    <tr>\n",
       "      <th>1</th>\n",
       "      <td>ae05865023d28ae72dd17955851263ead2d4daf11c69e0...</td>\n",
       "      <td>+79125904946</td>\n",
       "      <td>show</td>\n",
       "      <td>2023-05-16 10:16:54.554523</td>\n",
       "      <td>&lt;NA&gt;</td>\n",
       "      <td>&lt;NA&gt;</td>\n",
       "      <td>&lt;NA&gt;</td>\n",
       "      <td>RUB</td>\n",
       "      <td>loan</td>\n",
       "    </tr>\n",
       "    <tr>\n",
       "      <th>2</th>\n",
       "      <td>9861b00e9c9a99a6fdb2e5c11beebe9581eb1dda36ddc4...</td>\n",
       "      <td>+79184556300</td>\n",
       "      <td>show</td>\n",
       "      <td>2023-12-23 22:46:44.066599</td>\n",
       "      <td>&lt;NA&gt;</td>\n",
       "      <td>&lt;NA&gt;</td>\n",
       "      <td>&lt;NA&gt;</td>\n",
       "      <td>RUB</td>\n",
       "      <td>loan</td>\n",
       "    </tr>\n",
       "    <tr>\n",
       "      <th>3</th>\n",
       "      <td>349366af4823add107077299482f21031941fc6d4cd571...</td>\n",
       "      <td>+79119287528</td>\n",
       "      <td>show</td>\n",
       "      <td>2023-07-30 05:25:46.285514</td>\n",
       "      <td>&lt;NA&gt;</td>\n",
       "      <td>&lt;NA&gt;</td>\n",
       "      <td>&lt;NA&gt;</td>\n",
       "      <td>RUB</td>\n",
       "      <td>loan</td>\n",
       "    </tr>\n",
       "    <tr>\n",
       "      <th>4</th>\n",
       "      <td>2be2933460f58bb2d9a311ede6bb6ee064989568ab57b8...</td>\n",
       "      <td>+79119287528</td>\n",
       "      <td>click</td>\n",
       "      <td>2023-07-30 05:25:46.285514</td>\n",
       "      <td>&lt;NA&gt;</td>\n",
       "      <td>2023-07-30 05:42:59.014970</td>\n",
       "      <td>2.18</td>\n",
       "      <td>USD</td>\n",
       "      <td>loan</td>\n",
       "    </tr>\n",
       "  </tbody>\n",
       "</table>\n",
       "</div>"
      ],
      "text/plain": [
       "                                                  id    user_phone event_type  \\\n",
       "0  1263769bddda6eaaf7c8b8b22812ad6a063ad234d80782...  +79140092454       show   \n",
       "1  ae05865023d28ae72dd17955851263ead2d4daf11c69e0...  +79125904946       show   \n",
       "2  9861b00e9c9a99a6fdb2e5c11beebe9581eb1dda36ddc4...  +79184556300       show   \n",
       "3  349366af4823add107077299482f21031941fc6d4cd571...  +79119287528       show   \n",
       "4  2be2933460f58bb2d9a311ede6bb6ee064989568ab57b8...  +79119287528      click   \n",
       "\n",
       "                    event_dtm event_status                  update_dtm payout  \\\n",
       "0  2023-10-05 12:03:04.125806         <NA>                        <NA>   <NA>   \n",
       "1  2023-05-16 10:16:54.554523         <NA>                        <NA>   <NA>   \n",
       "2  2023-12-23 22:46:44.066599         <NA>                        <NA>   <NA>   \n",
       "3  2023-07-30 05:25:46.285514         <NA>                        <NA>   <NA>   \n",
       "4  2023-07-30 05:25:46.285514         <NA>  2023-07-30 05:42:59.014970   2.18   \n",
       "\n",
       "  currency product_type  \n",
       "0      RUB     mortgage  \n",
       "1      RUB         loan  \n",
       "2      RUB         loan  \n",
       "3      RUB         loan  \n",
       "4      USD         loan  "
      ]
     },
     "execution_count": 4,
     "metadata": {},
     "output_type": "execute_result"
    }
   ],
   "source": [
    "event_data.head()"
   ]
  },
  {
   "cell_type": "markdown",
   "metadata": {},
   "source": []
  },
  {
   "cell_type": "code",
   "execution_count": 5,
   "metadata": {},
   "outputs": [
    {
     "data": {
      "text/html": [
       "<div>\n",
       "<style scoped>\n",
       "    .dataframe tbody tr th:only-of-type {\n",
       "        vertical-align: middle;\n",
       "    }\n",
       "\n",
       "    .dataframe tbody tr th {\n",
       "        vertical-align: top;\n",
       "    }\n",
       "\n",
       "    .dataframe thead th {\n",
       "        text-align: right;\n",
       "    }\n",
       "</style>\n",
       "<table border=\"1\" class=\"dataframe\">\n",
       "  <thead>\n",
       "    <tr style=\"text-align: right;\">\n",
       "      <th></th>\n",
       "      <th>user_phone</th>\n",
       "      <th>user_id</th>\n",
       "      <th>registration_dtm</th>\n",
       "      <th>delete_dtm</th>\n",
       "    </tr>\n",
       "  </thead>\n",
       "  <tbody>\n",
       "    <tr>\n",
       "      <th>0</th>\n",
       "      <td>79100004508</td>\n",
       "      <td>0000038524a303ed5876b823574848e0</td>\n",
       "      <td>2023-01-15 15:33:14.952938</td>\n",
       "      <td>&lt;NA&gt;</td>\n",
       "    </tr>\n",
       "    <tr>\n",
       "      <th>1</th>\n",
       "      <td>79100005383</td>\n",
       "      <td>000003ef5bdfb2545c8d5ab693142e30</td>\n",
       "      <td>2022-11-21 22:43:54.418792</td>\n",
       "      <td>&lt;NA&gt;</td>\n",
       "    </tr>\n",
       "    <tr>\n",
       "      <th>2</th>\n",
       "      <td>79100006444</td>\n",
       "      <td>0000056caffa28b60bf17bc69fe4366f</td>\n",
       "      <td>2022-12-23 03:00:04.088219</td>\n",
       "      <td>&lt;NA&gt;</td>\n",
       "    </tr>\n",
       "    <tr>\n",
       "      <th>3</th>\n",
       "      <td>79100007221</td>\n",
       "      <td>00000a6f236f49c556e9a7b31d1b01e4</td>\n",
       "      <td>2022-12-23 03:31:50.935786</td>\n",
       "      <td>&lt;NA&gt;</td>\n",
       "    </tr>\n",
       "    <tr>\n",
       "      <th>4</th>\n",
       "      <td>79100009619</td>\n",
       "      <td>00000cbd32277c99f2bd5e180a21f2b2</td>\n",
       "      <td>2023-01-25 14:31:17.234998</td>\n",
       "      <td>&lt;NA&gt;</td>\n",
       "    </tr>\n",
       "  </tbody>\n",
       "</table>\n",
       "</div>"
      ],
      "text/plain": [
       "    user_phone                           user_id            registration_dtm  \\\n",
       "0  79100004508  0000038524a303ed5876b823574848e0  2023-01-15 15:33:14.952938   \n",
       "1  79100005383  000003ef5bdfb2545c8d5ab693142e30  2022-11-21 22:43:54.418792   \n",
       "2  79100006444  0000056caffa28b60bf17bc69fe4366f  2022-12-23 03:00:04.088219   \n",
       "3  79100007221  00000a6f236f49c556e9a7b31d1b01e4  2022-12-23 03:31:50.935786   \n",
       "4  79100009619  00000cbd32277c99f2bd5e180a21f2b2  2023-01-25 14:31:17.234998   \n",
       "\n",
       "  delete_dtm  \n",
       "0       <NA>  \n",
       "1       <NA>  \n",
       "2       <NA>  \n",
       "3       <NA>  \n",
       "4       <NA>  "
      ]
     },
     "execution_count": 5,
     "metadata": {},
     "output_type": "execute_result"
    }
   ],
   "source": [
    "users_data.head()"
   ]
  },
  {
   "cell_type": "code",
   "execution_count": 6,
   "metadata": {},
   "outputs": [],
   "source": [
    "# event_data.loc[event_data['user_phone'].str.contains('79135447910')]"
   ]
  },
  {
   "cell_type": "code",
   "execution_count": 7,
   "metadata": {},
   "outputs": [],
   "source": [
    "# adv_data.loc[adv_data['user_id'].str.contains('9501e80e595c809f00d47404fa6eea15dac1de44473892')]"
   ]
  },
  {
   "cell_type": "code",
   "execution_count": 8,
   "metadata": {},
   "outputs": [],
   "source": [
    "# adv_data['campaign_type'].unique()"
   ]
  },
  {
   "cell_type": "code",
   "execution_count": 9,
   "metadata": {},
   "outputs": [],
   "source": [
    "# Переменная, в которой хранится значение курса доллара США на текущий день, для приведения колонок campaign_cost и payout к общему рублёвому значению\n",
    "\n",
    "usdrub = 90.41"
   ]
  },
  {
   "cell_type": "code",
   "execution_count": 10,
   "metadata": {},
   "outputs": [],
   "source": [
    "# Метод, приводящий значения в долларах США к рублевым значениям в столбце payout\n",
    "\n",
    "def convert_to_rub(row):\n",
    "    x = row['payout']\n",
    "    if row['currency'] == 'USD':       \n",
    "        return x * usdrub\n",
    "    else:\n",
    "        return x"
   ]
  },
  {
   "cell_type": "code",
   "execution_count": 11,
   "metadata": {},
   "outputs": [],
   "source": [
    "# Метод, приводящий значения в долларах США к рублевым значениям в столбце campaign_cost\n",
    "\n",
    "def convert_campaign_cost_to_rub(row):\n",
    "    x = row['campaign_cost']\n",
    "    if row['currency'] == 'USD':       \n",
    "        return x * usdrub\n",
    "    else:\n",
    "        return x"
   ]
  },
  {
   "cell_type": "code",
   "execution_count": 12,
   "metadata": {},
   "outputs": [],
   "source": [
    "# Применение вышеуказанных методов\n",
    "\n",
    "adv_data['campaign_cost'] = adv_data.apply(convert_campaign_cost_to_rub, axis=1)"
   ]
  },
  {
   "cell_type": "code",
   "execution_count": 13,
   "metadata": {},
   "outputs": [],
   "source": [
    "# Удаление столбцов currency из датасетов event_data, adv_data\n",
    "\n",
    "adv_data.drop('currency', inplace=True, axis=1)"
   ]
  },
  {
   "cell_type": "code",
   "execution_count": 14,
   "metadata": {},
   "outputs": [
    {
     "data": {
      "text/plain": [
       "422015060.63579994"
      ]
     },
     "execution_count": 14,
     "metadata": {},
     "output_type": "execute_result"
    }
   ],
   "source": [
    "adv_data['campaign_cost'].sum()"
   ]
  },
  {
   "cell_type": "code",
   "execution_count": 15,
   "metadata": {},
   "outputs": [],
   "source": [
    "# Экспериментально установили, что неуникальные значения пользовательских данных - это значения, в которых в ячейке 'user_id' записано значение NaN\n",
    "\n",
    "users_data = users_data[~users_data['user_id'].isna()]"
   ]
  },
  {
   "cell_type": "code",
   "execution_count": 16,
   "metadata": {},
   "outputs": [],
   "source": [
    "# Заполнили значения NaN в столбце campaign_cost нулями\n",
    "\n",
    "adv_data['campaign_cost'].fillna(0.0, inplace=True)"
   ]
  },
  {
   "cell_type": "code",
   "execution_count": 17,
   "metadata": {},
   "outputs": [],
   "source": [
    "# Экспериментально установили, что столбец delete_dtm полностью пустой, поэтому удаляю его\n",
    "\n",
    "users_data.drop('delete_dtm', axis=1, inplace=True)"
   ]
  },
  {
   "cell_type": "code",
   "execution_count": 18,
   "metadata": {},
   "outputs": [],
   "source": [
    "# Из-за того, что номера телефонов в таблицах event_data, users_data записаны по-разному (со знаком + и без него) в следующих трех ячейках приводим телефоны к единому написанию:\n",
    "\n",
    "# 1) создаем numpy-массивы с нулевыми значениями, по размеру идентичные размеру столбцов user_phone в вышеуказанных датасетах\n",
    "\n",
    "user_phones = users_data['user_phone'].to_numpy()\n",
    "user_test = np.zeros_like(user_phones)"
   ]
  },
  {
   "cell_type": "code",
   "execution_count": 19,
   "metadata": {},
   "outputs": [],
   "source": [
    "# 2) заполняем массивы строковыми значениями номеров телефонов без знаков +\n",
    "\n",
    "for i, val in enumerate(user_phones):\n",
    "    user_test[i] = str(val).strip('+')"
   ]
  },
  {
   "cell_type": "code",
   "execution_count": 20,
   "metadata": {},
   "outputs": [],
   "source": [
    "# 3) заменяем исходные значения в датасетах заполненными массивами\n",
    "\n",
    "\n",
    "users_data['user_phone'] = user_test"
   ]
  },
  {
   "cell_type": "code",
   "execution_count": 21,
   "metadata": {},
   "outputs": [],
   "source": [
    "# Для экономии памяти удаляем ненужные массивы\n",
    "\n",
    "del user_test"
   ]
  },
  {
   "cell_type": "code",
   "execution_count": 22,
   "metadata": {},
   "outputs": [],
   "source": [
    "# Создаем массив уникальных значений ID пользователей\n",
    "\n",
    "users_uuids = users_data['user_id'].unique()"
   ]
  },
  {
   "cell_type": "code",
   "execution_count": 23,
   "metadata": {},
   "outputs": [],
   "source": [
    "# Из датасета adv_data выбираем значения, которым соответствуют значения пользователей\n",
    "\n",
    "adv_data = adv_data[adv_data['user_id'].isin(users_uuids)]"
   ]
  },
  {
   "cell_type": "code",
   "execution_count": 24,
   "metadata": {},
   "outputs": [
    {
     "data": {
      "text/plain": [
       "238736357.63579997"
      ]
     },
     "execution_count": 24,
     "metadata": {},
     "output_type": "execute_result"
    }
   ],
   "source": [
    "adv_data['campaign_cost'].sum()"
   ]
  },
  {
   "cell_type": "code",
   "execution_count": 25,
   "metadata": {},
   "outputs": [],
   "source": [
    "# Проверяем оставшиеся после этого значения в таблице adv_data\n",
    "\n",
    "# adv_data.info()"
   ]
  },
  {
   "cell_type": "code",
   "execution_count": 26,
   "metadata": {},
   "outputs": [],
   "source": [
    "# Создаем массив уникальных значений телефонов пользователей\n",
    "\n",
    "user_phones = users_data['user_phone'].unique()"
   ]
  },
  {
   "cell_type": "code",
   "execution_count": 27,
   "metadata": {},
   "outputs": [],
   "source": [
    "# users_data.info()"
   ]
  },
  {
   "cell_type": "code",
   "execution_count": 28,
   "metadata": {},
   "outputs": [],
   "source": [
    "# event_data.info()"
   ]
  },
  {
   "cell_type": "code",
   "execution_count": 29,
   "metadata": {},
   "outputs": [],
   "source": [
    "# проверяем оставшиеся после этого значения в таблице adv_data\n",
    "\n",
    "# event_data.info()"
   ]
  },
  {
   "cell_type": "code",
   "execution_count": 30,
   "metadata": {},
   "outputs": [],
   "source": [
    "# Соединяем таблицы adv_data, users_data по ID пользователей аналогично SQL-методу left-join (остаются все значения из датасета adv_data и соответствующие им значения из \n",
    "# датасета users_data)\n",
    "\n",
    "adv_data_plus_user_data = adv_data.merge(users_data, how='left', on='user_id')"
   ]
  },
  {
   "cell_type": "code",
   "execution_count": 31,
   "metadata": {},
   "outputs": [],
   "source": [
    "# Проверяем новый датасет\n",
    "\n",
    "# adv_data_plus_user_data.info()"
   ]
  },
  {
   "cell_type": "code",
   "execution_count": 32,
   "metadata": {},
   "outputs": [],
   "source": [
    "# Для экономии памяти удаляем ненужные массивы и таблицы\n",
    "\n",
    "del users_uuids, adv_data, users_data"
   ]
  },
  {
   "cell_type": "code",
   "execution_count": 33,
   "metadata": {},
   "outputs": [],
   "source": [
    "# adv_data_plus_user_data.loc[adv_data_plus_user_data['user_phone'] == '79101867847']"
   ]
  },
  {
   "cell_type": "code",
   "execution_count": 34,
   "metadata": {},
   "outputs": [],
   "source": [
    "# event_data.loc[event_data['user_phone'] == '79101867847']"
   ]
  },
  {
   "cell_type": "code",
   "execution_count": 35,
   "metadata": {},
   "outputs": [],
   "source": [
    "adv_data_plus_user_data_with_dummies = pd.get_dummies(adv_data_plus_user_data, columns=['campaign_type', 'source_medium', 'interface'], dtype='int')[['user_phone', 'campaign_cost', \n",
    "       'campaign_type_click', 'campaign_type_conversion', 'campaign_type_show',\n",
    "       'source_medium_android / mobile_app', 'source_medium_bing / organic',\n",
    "       'source_medium_email / email', 'source_medium_finance.rambler.ru / cpm',\n",
    "       'source_medium_google / organic', 'source_medium_ios / mobile_app',\n",
    "       'source_medium_not-set / none', 'source_medium_pikabu.ru / cpm',\n",
    "       'source_medium_regular / email', 'source_medium_regular / sms',\n",
    "       'source_medium_ru.android.bankproduct / mobile_app',\n",
    "       'source_medium_ru.android.bankproduct_rustore / mobile_app',\n",
    "       'source_medium_trigger / sms', 'source_medium_vk / cpc',\n",
    "       'source_medium_web.telegram.org / referral ',\n",
    "       'source_medium_ya.ru / cpc', 'source_medium_yahoo / organic',\n",
    "       'source_medium_yandex / cpc', 'source_medium_yandex / organic',\n",
    "       'source_medium_zen.yandex.ru / cpm', 'interface_api', 'interface_app',\n",
    "       'interface_web']]"
   ]
  },
  {
   "cell_type": "code",
   "execution_count": 36,
   "metadata": {},
   "outputs": [
    {
     "name": "stdout",
     "output_type": "stream",
     "text": [
      "<class 'cudf.core.dataframe.DataFrame'>\n",
      "RangeIndex: 9999908 entries, 0 to 9999907\n",
      "Data columns (total 28 columns):\n",
      " #   Column                                                     Dtype\n",
      "---  ------                                                     -----\n",
      " 0   user_phone                                                 object\n",
      " 1   campaign_cost                                              float64\n",
      " 2   campaign_type_click                                        int64\n",
      " 3   campaign_type_conversion                                   int64\n",
      " 4   campaign_type_show                                         int64\n",
      " 5   source_medium_android / mobile_app                         int64\n",
      " 6   source_medium_bing / organic                               int64\n",
      " 7   source_medium_email / email                                int64\n",
      " 8   source_medium_finance.rambler.ru / cpm                     int64\n",
      " 9   source_medium_google / organic                             int64\n",
      " 10  source_medium_ios / mobile_app                             int64\n",
      " 11  source_medium_not-set / none                               int64\n",
      " 12  source_medium_pikabu.ru / cpm                              int64\n",
      " 13  source_medium_regular / email                              int64\n",
      " 14  source_medium_regular / sms                                int64\n",
      " 15  source_medium_ru.android.bankproduct / mobile_app          int64\n",
      " 16  source_medium_ru.android.bankproduct_rustore / mobile_app  int64\n",
      " 17  source_medium_trigger / sms                                int64\n",
      " 18  source_medium_vk / cpc                                     int64\n",
      " 19  source_medium_web.telegram.org / referral                  int64\n",
      " 20  source_medium_ya.ru / cpc                                  int64\n",
      " 21  source_medium_yahoo / organic                              int64\n",
      " 22  source_medium_yandex / cpc                                 int64\n",
      " 23  source_medium_yandex / organic                             int64\n",
      " 24  source_medium_zen.yandex.ru / cpm                          int64\n",
      " 25  interface_api                                              int64\n",
      " 26  interface_app                                              int64\n",
      " 27  interface_web                                              int64\n",
      "dtypes: float64(1), int64(26), object(1)\n",
      "memory usage: 2.2+ GB\n"
     ]
    }
   ],
   "source": [
    "adv_data_plus_user_data_with_dummies.info()"
   ]
  },
  {
   "cell_type": "code",
   "execution_count": 37,
   "metadata": {},
   "outputs": [],
   "source": [
    "del adv_data_plus_user_data"
   ]
  },
  {
   "cell_type": "code",
   "execution_count": 38,
   "metadata": {},
   "outputs": [],
   "source": [
    "adv_data_plus_user_data_with_dummies = adv_data_plus_user_data_with_dummies.sort_values(by='user_phone')"
   ]
  },
  {
   "cell_type": "code",
   "execution_count": 39,
   "metadata": {},
   "outputs": [],
   "source": [
    "adv_data_plus_user_data_with_dummies_1 = adv_data_plus_user_data_with_dummies.iloc[0:2500000].groupby('user_phone').sum()"
   ]
  },
  {
   "cell_type": "code",
   "execution_count": 40,
   "metadata": {},
   "outputs": [],
   "source": [
    "adv_data_plus_user_data_with_dummies_2 = adv_data_plus_user_data_with_dummies.iloc[2500000:5000000].groupby('user_phone').sum()"
   ]
  },
  {
   "cell_type": "code",
   "execution_count": 41,
   "metadata": {},
   "outputs": [],
   "source": [
    "adv_data_plus_user_data_with_dummies_3 = adv_data_plus_user_data_with_dummies.iloc[5000000:7500000].groupby('user_phone').sum()"
   ]
  },
  {
   "cell_type": "code",
   "execution_count": 42,
   "metadata": {},
   "outputs": [],
   "source": [
    "adv_data_plus_user_data_with_dummies_4 = adv_data_plus_user_data_with_dummies.iloc[7500000:].groupby('user_phone').sum()"
   ]
  },
  {
   "cell_type": "code",
   "execution_count": 43,
   "metadata": {},
   "outputs": [],
   "source": [
    "adv_data_plus_user_data_with_dummies_all = pd.concat([\n",
    "    adv_data_plus_user_data_with_dummies_1,\n",
    "    adv_data_plus_user_data_with_dummies_2\n",
    "])"
   ]
  },
  {
   "cell_type": "code",
   "execution_count": 44,
   "metadata": {},
   "outputs": [],
   "source": [
    "del adv_data_plus_user_data_with_dummies_1, adv_data_plus_user_data_with_dummies_2"
   ]
  },
  {
   "cell_type": "code",
   "execution_count": 45,
   "metadata": {},
   "outputs": [],
   "source": [
    "adv_data_plus_user_data_with_dummies_all_1 = pd.concat([\n",
    "    adv_data_plus_user_data_with_dummies_3,\n",
    "    adv_data_plus_user_data_with_dummies_4\n",
    "])"
   ]
  },
  {
   "cell_type": "code",
   "execution_count": 46,
   "metadata": {},
   "outputs": [],
   "source": [
    "del adv_data_plus_user_data_with_dummies_3, adv_data_plus_user_data_with_dummies_4"
   ]
  },
  {
   "cell_type": "code",
   "execution_count": 47,
   "metadata": {},
   "outputs": [],
   "source": [
    "adv_data_plus_user_data_with_dummies_all_final = pd.concat([\n",
    "    adv_data_plus_user_data_with_dummies_all,\n",
    "    adv_data_plus_user_data_with_dummies_all_1\n",
    "])"
   ]
  },
  {
   "cell_type": "code",
   "execution_count": 48,
   "metadata": {},
   "outputs": [],
   "source": [
    "del adv_data_plus_user_data_with_dummies_all, adv_data_plus_user_data_with_dummies_all_1"
   ]
  },
  {
   "cell_type": "code",
   "execution_count": 49,
   "metadata": {},
   "outputs": [],
   "source": [
    "adv_data_plus_user_data_with_dummies_all_final.to_csv('data/adv_data_plus_users_groupped.csv')"
   ]
  },
  {
   "cell_type": "code",
   "execution_count": 50,
   "metadata": {},
   "outputs": [],
   "source": [
    "del adv_data_plus_user_data_with_dummies_all_final"
   ]
  },
  {
   "cell_type": "code",
   "execution_count": 51,
   "metadata": {},
   "outputs": [],
   "source": [
    "event_data = pd.read_csv('data/event_data.csv')"
   ]
  },
  {
   "cell_type": "code",
   "execution_count": 52,
   "metadata": {},
   "outputs": [
    {
     "data": {
      "text/html": [
       "<div>\n",
       "<style scoped>\n",
       "    .dataframe tbody tr th:only-of-type {\n",
       "        vertical-align: middle;\n",
       "    }\n",
       "\n",
       "    .dataframe tbody tr th {\n",
       "        vertical-align: top;\n",
       "    }\n",
       "\n",
       "    .dataframe thead th {\n",
       "        text-align: right;\n",
       "    }\n",
       "</style>\n",
       "<table border=\"1\" class=\"dataframe\">\n",
       "  <thead>\n",
       "    <tr style=\"text-align: right;\">\n",
       "      <th></th>\n",
       "      <th>id</th>\n",
       "      <th>user_phone</th>\n",
       "      <th>event_type</th>\n",
       "      <th>event_dtm</th>\n",
       "      <th>event_status</th>\n",
       "      <th>update_dtm</th>\n",
       "      <th>payout</th>\n",
       "      <th>currency</th>\n",
       "      <th>product_type</th>\n",
       "    </tr>\n",
       "  </thead>\n",
       "  <tbody>\n",
       "    <tr>\n",
       "      <th>4667231</th>\n",
       "      <td>9501e80e595c809f00d47404fa6eea15dac1de44473892...</td>\n",
       "      <td>+79135447910</td>\n",
       "      <td>show</td>\n",
       "      <td>2023-09-01 19:39:27.225870</td>\n",
       "      <td>&lt;NA&gt;</td>\n",
       "      <td>&lt;NA&gt;</td>\n",
       "      <td>&lt;NA&gt;</td>\n",
       "      <td>USD</td>\n",
       "      <td>deposits</td>\n",
       "    </tr>\n",
       "  </tbody>\n",
       "</table>\n",
       "</div>"
      ],
      "text/plain": [
       "                                                        id    user_phone  \\\n",
       "4667231  9501e80e595c809f00d47404fa6eea15dac1de44473892...  +79135447910   \n",
       "\n",
       "        event_type                   event_dtm event_status update_dtm payout  \\\n",
       "4667231       show  2023-09-01 19:39:27.225870         <NA>       <NA>   <NA>   \n",
       "\n",
       "        currency product_type  \n",
       "4667231      USD     deposits  "
      ]
     },
     "execution_count": 52,
     "metadata": {},
     "output_type": "execute_result"
    }
   ],
   "source": [
    "event_data.loc[event_data['user_phone'].str.contains('79135447910')]"
   ]
  },
  {
   "cell_type": "code",
   "execution_count": 53,
   "metadata": {},
   "outputs": [],
   "source": [
    "event_data['payout'] = event_data.apply(convert_to_rub, axis=1)\n",
    "event_data.drop('currency', inplace=True, axis=1)\n",
    "event_data['payout'].fillna(0.0, inplace=True)\n",
    "\n"
   ]
  },
  {
   "cell_type": "code",
   "execution_count": 54,
   "metadata": {},
   "outputs": [],
   "source": [
    "event_phones = event_data['user_phone'].to_numpy()\n",
    "np_test = np.zeros_like(event_phones)\n",
    "\n",
    "for i, val in enumerate(event_phones):\n",
    "    np_test[i] = str(val).strip('+')\n",
    "\n",
    "event_data['user_phone'] = np_test\n",
    "\n",
    "del np_test\n",
    "\n",
    "event_data = event_data[event_data['user_phone'].isin(user_phones)]"
   ]
  },
  {
   "cell_type": "code",
   "execution_count": 55,
   "metadata": {},
   "outputs": [
    {
     "data": {
      "text/plain": [
       "298360421.86520004"
      ]
     },
     "execution_count": 55,
     "metadata": {},
     "output_type": "execute_result"
    }
   ],
   "source": [
    "event_data['payout'].sum()"
   ]
  },
  {
   "cell_type": "code",
   "execution_count": 56,
   "metadata": {},
   "outputs": [],
   "source": [
    "event_data.drop(['id', 'event_dtm', 'update_dtm'], inplace=True, axis=1)"
   ]
  },
  {
   "cell_type": "code",
   "execution_count": 57,
   "metadata": {},
   "outputs": [
    {
     "data": {
      "text/html": [
       "<div>\n",
       "<style scoped>\n",
       "    .dataframe tbody tr th:only-of-type {\n",
       "        vertical-align: middle;\n",
       "    }\n",
       "\n",
       "    .dataframe tbody tr th {\n",
       "        vertical-align: top;\n",
       "    }\n",
       "\n",
       "    .dataframe thead th {\n",
       "        text-align: right;\n",
       "    }\n",
       "</style>\n",
       "<table border=\"1\" class=\"dataframe\">\n",
       "  <thead>\n",
       "    <tr style=\"text-align: right;\">\n",
       "      <th></th>\n",
       "      <th>user_phone</th>\n",
       "      <th>event_type</th>\n",
       "      <th>event_status</th>\n",
       "      <th>payout</th>\n",
       "      <th>product_type</th>\n",
       "    </tr>\n",
       "  </thead>\n",
       "  <tbody>\n",
       "    <tr>\n",
       "      <th>0</th>\n",
       "      <td>79140092454</td>\n",
       "      <td>show</td>\n",
       "      <td>&lt;NA&gt;</td>\n",
       "      <td>0.0</td>\n",
       "      <td>mortgage</td>\n",
       "    </tr>\n",
       "  </tbody>\n",
       "</table>\n",
       "</div>"
      ],
      "text/plain": [
       "    user_phone event_type event_status  payout product_type\n",
       "0  79140092454       show         <NA>     0.0     mortgage"
      ]
     },
     "execution_count": 57,
     "metadata": {},
     "output_type": "execute_result"
    }
   ],
   "source": [
    "event_data.head(1)"
   ]
  },
  {
   "cell_type": "code",
   "execution_count": 58,
   "metadata": {},
   "outputs": [],
   "source": [
    "event_data_with_dummies = pd.get_dummies(event_data, columns=['event_type', 'product_type', 'event_status'])"
   ]
  },
  {
   "cell_type": "code",
   "execution_count": 59,
   "metadata": {},
   "outputs": [],
   "source": [
    "del event_data, user_phones"
   ]
  },
  {
   "cell_type": "code",
   "execution_count": 60,
   "metadata": {},
   "outputs": [],
   "source": [
    "event_data_with_dummies_groupped = event_data_with_dummies.groupby('user_phone').sum()"
   ]
  },
  {
   "cell_type": "code",
   "execution_count": null,
   "metadata": {},
   "outputs": [],
   "source": [
    "del event_data_with_dummies"
   ]
  },
  {
   "cell_type": "code",
   "execution_count": 62,
   "metadata": {},
   "outputs": [],
   "source": [
    "event_data_with_dummies_groupped.to_csv('data/event_data_with_dummies_groupped.csv')"
   ]
  },
  {
   "cell_type": "code",
   "execution_count": 63,
   "metadata": {},
   "outputs": [],
   "source": [
    "del event_data_with_dummies_groupped"
   ]
  },
  {
   "cell_type": "code",
   "execution_count": 2,
   "metadata": {},
   "outputs": [],
   "source": [
    "event_data_with_dummies_groupped = pd.read_csv('data/event_data_with_dummies_groupped.csv')"
   ]
  },
  {
   "cell_type": "code",
   "execution_count": 3,
   "metadata": {},
   "outputs": [],
   "source": [
    "adv_data_plus_user_data_with_dummies_groupped = pd.read_csv('data/adv_data_plus_users_groupped.csv')"
   ]
  },
  {
   "cell_type": "code",
   "execution_count": 4,
   "metadata": {},
   "outputs": [],
   "source": [
    "all_data = adv_data_plus_user_data_with_dummies_groupped.merge(event_data_with_dummies_groupped, how='inner', on='user_phone')"
   ]
  },
  {
   "cell_type": "code",
   "execution_count": 5,
   "metadata": {},
   "outputs": [],
   "source": [
    "del event_data_with_dummies_groupped, adv_data_plus_user_data_with_dummies_groupped"
   ]
  },
  {
   "cell_type": "code",
   "execution_count": 6,
   "metadata": {},
   "outputs": [],
   "source": [
    "all_data.to_csv('data/all_data_groupped.csv')"
   ]
  },
  {
   "cell_type": "code",
   "execution_count": 7,
   "metadata": {},
   "outputs": [],
   "source": [
    "del all_data"
   ]
  }
 ],
 "metadata": {
  "kernelspec": {
   "display_name": "myenv",
   "language": "python",
   "name": "python3"
  },
  "language_info": {
   "codemirror_mode": {
    "name": "ipython",
    "version": 3
   },
   "file_extension": ".py",
   "mimetype": "text/x-python",
   "name": "python",
   "nbconvert_exporter": "python",
   "pygments_lexer": "ipython3",
   "version": "3.11.9"
  }
 },
 "nbformat": 4,
 "nbformat_minor": 2
}
