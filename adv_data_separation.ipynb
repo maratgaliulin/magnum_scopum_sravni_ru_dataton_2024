{
 "cells": [
  {
   "cell_type": "code",
   "execution_count": 1,
   "metadata": {},
   "outputs": [],
   "source": [
    "import cudf as pd\n",
    "# import cupy as cp\n",
    "import numpy as np"
   ]
  },
  {
   "cell_type": "code",
   "execution_count": 2,
   "metadata": {},
   "outputs": [],
   "source": [
    "adv_data = pd.read_csv('data/adv_data.csv')\n",
    "users_data = pd.read_csv('data/users_data.csv')"
   ]
  },
  {
   "cell_type": "code",
   "execution_count": 3,
   "metadata": {},
   "outputs": [],
   "source": [
    "adv_data.drop(['campaign_start_dtm', 'campaign_end_dtm', 'utm_campaign'], axis=1, inplace=True)"
   ]
  },
  {
   "cell_type": "code",
   "execution_count": 4,
   "metadata": {},
   "outputs": [],
   "source": [
    "usdrub = 90.41"
   ]
  },
  {
   "cell_type": "code",
   "execution_count": 5,
   "metadata": {},
   "outputs": [],
   "source": [
    "def convert_campaign_cost_to_rub(row):\n",
    "    x = row['campaign_cost']\n",
    "    if row['currency'] == 'USD':\n",
    "        return x * usdrub\n",
    "    else:\n",
    "        return x"
   ]
  },
  {
   "cell_type": "code",
   "execution_count": 6,
   "metadata": {},
   "outputs": [],
   "source": [
    "adv_data['campaign_cost'] = adv_data.apply(\n",
    "    convert_campaign_cost_to_rub, axis=1)"
   ]
  },
  {
   "cell_type": "code",
   "execution_count": 7,
   "metadata": {},
   "outputs": [],
   "source": [
    "adv_data.drop('currency', inplace=True, axis=1)"
   ]
  },
  {
   "cell_type": "code",
   "execution_count": 8,
   "metadata": {},
   "outputs": [],
   "source": [
    "users_data = users_data[~users_data['user_id'].isna()]"
   ]
  },
  {
   "cell_type": "code",
   "execution_count": 9,
   "metadata": {},
   "outputs": [],
   "source": [
    "adv_data['campaign_cost'].fillna(0.0, inplace=True)"
   ]
  },
  {
   "cell_type": "code",
   "execution_count": 10,
   "metadata": {},
   "outputs": [],
   "source": [
    "users_data.drop('delete_dtm', axis=1, inplace=True)"
   ]
  },
  {
   "cell_type": "code",
   "execution_count": 11,
   "metadata": {},
   "outputs": [],
   "source": [
    "user_phones = users_data['user_phone'].to_numpy()\n",
    "user_test = np.zeros_like(user_phones)"
   ]
  },
  {
   "cell_type": "code",
   "execution_count": 12,
   "metadata": {},
   "outputs": [],
   "source": [
    "for i, val in enumerate(user_phones):\n",
    "    user_test[i] = str(val).strip('+')"
   ]
  },
  {
   "cell_type": "code",
   "execution_count": 13,
   "metadata": {},
   "outputs": [],
   "source": [
    "users_data['user_phone'] = user_test"
   ]
  },
  {
   "cell_type": "code",
   "execution_count": 14,
   "metadata": {},
   "outputs": [],
   "source": [
    "del user_test"
   ]
  },
  {
   "cell_type": "code",
   "execution_count": 15,
   "metadata": {},
   "outputs": [],
   "source": [
    "users_uuids = users_data['user_id'].unique()"
   ]
  },
  {
   "cell_type": "code",
   "execution_count": 16,
   "metadata": {},
   "outputs": [],
   "source": [
    "adv_data = adv_data[adv_data['user_id'].isin(users_uuids)]"
   ]
  },
  {
   "cell_type": "code",
   "execution_count": 17,
   "metadata": {},
   "outputs": [
    {
     "data": {
      "text/html": [
       "<div>\n",
       "<style scoped>\n",
       "    .dataframe tbody tr th:only-of-type {\n",
       "        vertical-align: middle;\n",
       "    }\n",
       "\n",
       "    .dataframe tbody tr th {\n",
       "        vertical-align: top;\n",
       "    }\n",
       "\n",
       "    .dataframe thead th {\n",
       "        text-align: right;\n",
       "    }\n",
       "</style>\n",
       "<table border=\"1\" class=\"dataframe\">\n",
       "  <thead>\n",
       "    <tr style=\"text-align: right;\">\n",
       "      <th></th>\n",
       "      <th>user_id</th>\n",
       "      <th>campaign_type</th>\n",
       "      <th>source_medium</th>\n",
       "      <th>interface</th>\n",
       "      <th>campaign_cost</th>\n",
       "    </tr>\n",
       "  </thead>\n",
       "  <tbody>\n",
       "    <tr>\n",
       "      <th>0</th>\n",
       "      <td>db00f9c699edacc50090172cfaa3b43a</td>\n",
       "      <td>show</td>\n",
       "      <td>finance.rambler.ru / cpm</td>\n",
       "      <td>app</td>\n",
       "      <td>0.0</td>\n",
       "    </tr>\n",
       "    <tr>\n",
       "      <th>1</th>\n",
       "      <td>88aa22bca4fa1d6da73deb4b5c5ee8c0</td>\n",
       "      <td>show</td>\n",
       "      <td>yandex / organic</td>\n",
       "      <td>web</td>\n",
       "      <td>0.0</td>\n",
       "    </tr>\n",
       "  </tbody>\n",
       "</table>\n",
       "</div>"
      ],
      "text/plain": [
       "                            user_id campaign_type             source_medium  \\\n",
       "0  db00f9c699edacc50090172cfaa3b43a          show  finance.rambler.ru / cpm   \n",
       "1  88aa22bca4fa1d6da73deb4b5c5ee8c0          show          yandex / organic   \n",
       "\n",
       "  interface  campaign_cost  \n",
       "0       app            0.0  \n",
       "1       web            0.0  "
      ]
     },
     "execution_count": 17,
     "metadata": {},
     "output_type": "execute_result"
    }
   ],
   "source": [
    "adv_data.head(2)"
   ]
  },
  {
   "cell_type": "code",
   "execution_count": 18,
   "metadata": {},
   "outputs": [],
   "source": [
    "del users_uuids, users_data"
   ]
  },
  {
   "cell_type": "code",
   "execution_count": 19,
   "metadata": {},
   "outputs": [],
   "source": [
    "adv_data_get_dummies = pd.get_dummies(adv_data, columns=[\n",
    "                                                      'campaign_type', 'source_medium', 'interface'], dtype='int')"
   ]
  },
  {
   "cell_type": "code",
   "execution_count": 20,
   "metadata": {},
   "outputs": [],
   "source": [
    "del adv_data"
   ]
  },
  {
   "cell_type": "code",
   "execution_count": 21,
   "metadata": {},
   "outputs": [
    {
     "data": {
      "text/html": [
       "<div>\n",
       "<style scoped>\n",
       "    .dataframe tbody tr th:only-of-type {\n",
       "        vertical-align: middle;\n",
       "    }\n",
       "\n",
       "    .dataframe tbody tr th {\n",
       "        vertical-align: top;\n",
       "    }\n",
       "\n",
       "    .dataframe thead th {\n",
       "        text-align: right;\n",
       "    }\n",
       "</style>\n",
       "<table border=\"1\" class=\"dataframe\">\n",
       "  <thead>\n",
       "    <tr style=\"text-align: right;\">\n",
       "      <th></th>\n",
       "      <th>user_id</th>\n",
       "      <th>campaign_cost</th>\n",
       "      <th>campaign_type_click</th>\n",
       "      <th>campaign_type_conversion</th>\n",
       "      <th>campaign_type_show</th>\n",
       "      <th>source_medium_android / mobile_app</th>\n",
       "      <th>source_medium_bing / organic</th>\n",
       "      <th>source_medium_email / email</th>\n",
       "      <th>source_medium_finance.rambler.ru / cpm</th>\n",
       "      <th>source_medium_google / organic</th>\n",
       "      <th>...</th>\n",
       "      <th>source_medium_vk / cpc</th>\n",
       "      <th>source_medium_web.telegram.org / referral</th>\n",
       "      <th>source_medium_ya.ru / cpc</th>\n",
       "      <th>source_medium_yahoo / organic</th>\n",
       "      <th>source_medium_yandex / cpc</th>\n",
       "      <th>source_medium_yandex / organic</th>\n",
       "      <th>source_medium_zen.yandex.ru / cpm</th>\n",
       "      <th>interface_api</th>\n",
       "      <th>interface_app</th>\n",
       "      <th>interface_web</th>\n",
       "    </tr>\n",
       "  </thead>\n",
       "  <tbody>\n",
       "    <tr>\n",
       "      <th>0</th>\n",
       "      <td>db00f9c699edacc50090172cfaa3b43a</td>\n",
       "      <td>0.0000</td>\n",
       "      <td>0</td>\n",
       "      <td>0</td>\n",
       "      <td>1</td>\n",
       "      <td>0</td>\n",
       "      <td>0</td>\n",
       "      <td>0</td>\n",
       "      <td>1</td>\n",
       "      <td>0</td>\n",
       "      <td>...</td>\n",
       "      <td>0</td>\n",
       "      <td>0</td>\n",
       "      <td>0</td>\n",
       "      <td>0</td>\n",
       "      <td>0</td>\n",
       "      <td>0</td>\n",
       "      <td>0</td>\n",
       "      <td>0</td>\n",
       "      <td>1</td>\n",
       "      <td>0</td>\n",
       "    </tr>\n",
       "    <tr>\n",
       "      <th>1</th>\n",
       "      <td>88aa22bca4fa1d6da73deb4b5c5ee8c0</td>\n",
       "      <td>0.0000</td>\n",
       "      <td>0</td>\n",
       "      <td>0</td>\n",
       "      <td>1</td>\n",
       "      <td>0</td>\n",
       "      <td>0</td>\n",
       "      <td>0</td>\n",
       "      <td>0</td>\n",
       "      <td>0</td>\n",
       "      <td>...</td>\n",
       "      <td>0</td>\n",
       "      <td>0</td>\n",
       "      <td>0</td>\n",
       "      <td>0</td>\n",
       "      <td>0</td>\n",
       "      <td>1</td>\n",
       "      <td>0</td>\n",
       "      <td>0</td>\n",
       "      <td>0</td>\n",
       "      <td>1</td>\n",
       "    </tr>\n",
       "    <tr>\n",
       "      <th>2</th>\n",
       "      <td>e9e12347e50732804d2f8ded00743a07</td>\n",
       "      <td>0.0000</td>\n",
       "      <td>0</td>\n",
       "      <td>0</td>\n",
       "      <td>1</td>\n",
       "      <td>0</td>\n",
       "      <td>0</td>\n",
       "      <td>0</td>\n",
       "      <td>0</td>\n",
       "      <td>0</td>\n",
       "      <td>...</td>\n",
       "      <td>0</td>\n",
       "      <td>0</td>\n",
       "      <td>0</td>\n",
       "      <td>0</td>\n",
       "      <td>0</td>\n",
       "      <td>1</td>\n",
       "      <td>0</td>\n",
       "      <td>0</td>\n",
       "      <td>0</td>\n",
       "      <td>1</td>\n",
       "    </tr>\n",
       "    <tr>\n",
       "      <th>3</th>\n",
       "      <td>fa0cd363d1978a27a078152cd263c670</td>\n",
       "      <td>0.0000</td>\n",
       "      <td>0</td>\n",
       "      <td>0</td>\n",
       "      <td>1</td>\n",
       "      <td>0</td>\n",
       "      <td>0</td>\n",
       "      <td>0</td>\n",
       "      <td>0</td>\n",
       "      <td>0</td>\n",
       "      <td>...</td>\n",
       "      <td>0</td>\n",
       "      <td>0</td>\n",
       "      <td>0</td>\n",
       "      <td>0</td>\n",
       "      <td>0</td>\n",
       "      <td>1</td>\n",
       "      <td>0</td>\n",
       "      <td>1</td>\n",
       "      <td>0</td>\n",
       "      <td>0</td>\n",
       "    </tr>\n",
       "    <tr>\n",
       "      <th>4</th>\n",
       "      <td>fa0cd363d1978a27a078152cd263c670</td>\n",
       "      <td>121.1494</td>\n",
       "      <td>1</td>\n",
       "      <td>0</td>\n",
       "      <td>0</td>\n",
       "      <td>0</td>\n",
       "      <td>0</td>\n",
       "      <td>0</td>\n",
       "      <td>0</td>\n",
       "      <td>0</td>\n",
       "      <td>...</td>\n",
       "      <td>0</td>\n",
       "      <td>0</td>\n",
       "      <td>0</td>\n",
       "      <td>0</td>\n",
       "      <td>0</td>\n",
       "      <td>0</td>\n",
       "      <td>0</td>\n",
       "      <td>1</td>\n",
       "      <td>0</td>\n",
       "      <td>0</td>\n",
       "    </tr>\n",
       "  </tbody>\n",
       "</table>\n",
       "<p>5 rows × 28 columns</p>\n",
       "</div>"
      ],
      "text/plain": [
       "                            user_id  campaign_cost  campaign_type_click  \\\n",
       "0  db00f9c699edacc50090172cfaa3b43a         0.0000                    0   \n",
       "1  88aa22bca4fa1d6da73deb4b5c5ee8c0         0.0000                    0   \n",
       "2  e9e12347e50732804d2f8ded00743a07         0.0000                    0   \n",
       "3  fa0cd363d1978a27a078152cd263c670         0.0000                    0   \n",
       "4  fa0cd363d1978a27a078152cd263c670       121.1494                    1   \n",
       "\n",
       "   campaign_type_conversion  campaign_type_show  \\\n",
       "0                         0                   1   \n",
       "1                         0                   1   \n",
       "2                         0                   1   \n",
       "3                         0                   1   \n",
       "4                         0                   0   \n",
       "\n",
       "   source_medium_android / mobile_app  source_medium_bing / organic  \\\n",
       "0                                   0                             0   \n",
       "1                                   0                             0   \n",
       "2                                   0                             0   \n",
       "3                                   0                             0   \n",
       "4                                   0                             0   \n",
       "\n",
       "   source_medium_email / email  source_medium_finance.rambler.ru / cpm  \\\n",
       "0                            0                                       1   \n",
       "1                            0                                       0   \n",
       "2                            0                                       0   \n",
       "3                            0                                       0   \n",
       "4                            0                                       0   \n",
       "\n",
       "   source_medium_google / organic  ...  source_medium_vk / cpc  \\\n",
       "0                               0  ...                       0   \n",
       "1                               0  ...                       0   \n",
       "2                               0  ...                       0   \n",
       "3                               0  ...                       0   \n",
       "4                               0  ...                       0   \n",
       "\n",
       "   source_medium_web.telegram.org / referral   source_medium_ya.ru / cpc  \\\n",
       "0                                           0                          0   \n",
       "1                                           0                          0   \n",
       "2                                           0                          0   \n",
       "3                                           0                          0   \n",
       "4                                           0                          0   \n",
       "\n",
       "   source_medium_yahoo / organic  source_medium_yandex / cpc  \\\n",
       "0                              0                           0   \n",
       "1                              0                           0   \n",
       "2                              0                           0   \n",
       "3                              0                           0   \n",
       "4                              0                           0   \n",
       "\n",
       "   source_medium_yandex / organic  source_medium_zen.yandex.ru / cpm  \\\n",
       "0                               0                                  0   \n",
       "1                               1                                  0   \n",
       "2                               1                                  0   \n",
       "3                               1                                  0   \n",
       "4                               0                                  0   \n",
       "\n",
       "   interface_api  interface_app  interface_web  \n",
       "0              0              1              0  \n",
       "1              0              0              1  \n",
       "2              0              0              1  \n",
       "3              1              0              0  \n",
       "4              1              0              0  \n",
       "\n",
       "[5 rows x 28 columns]"
      ]
     },
     "execution_count": 21,
     "metadata": {},
     "output_type": "execute_result"
    }
   ],
   "source": [
    "adv_data_get_dummies.head()"
   ]
  },
  {
   "cell_type": "code",
   "execution_count": 22,
   "metadata": {},
   "outputs": [
    {
     "data": {
      "text/plain": [
       "Index(['user_id', 'campaign_cost', 'campaign_type_click',\n",
       "       'campaign_type_conversion', 'campaign_type_show',\n",
       "       'source_medium_android / mobile_app', 'source_medium_bing / organic',\n",
       "       'source_medium_email / email', 'source_medium_finance.rambler.ru / cpm',\n",
       "       'source_medium_google / organic', 'source_medium_ios / mobile_app',\n",
       "       'source_medium_not-set / none', 'source_medium_pikabu.ru / cpm',\n",
       "       'source_medium_regular / email', 'source_medium_regular / sms',\n",
       "       'source_medium_ru.android.bankproduct / mobile_app',\n",
       "       'source_medium_ru.android.bankproduct_rustore / mobile_app',\n",
       "       'source_medium_trigger / sms', 'source_medium_vk / cpc',\n",
       "       'source_medium_web.telegram.org / referral ',\n",
       "       'source_medium_ya.ru / cpc', 'source_medium_yahoo / organic',\n",
       "       'source_medium_yandex / cpc', 'source_medium_yandex / organic',\n",
       "       'source_medium_zen.yandex.ru / cpm', 'interface_api', 'interface_app',\n",
       "       'interface_web'],\n",
       "      dtype='object')"
      ]
     },
     "execution_count": 22,
     "metadata": {},
     "output_type": "execute_result"
    }
   ],
   "source": [
    "adv_data_get_dummies.columns"
   ]
  },
  {
   "cell_type": "code",
   "execution_count": 42,
   "metadata": {},
   "outputs": [],
   "source": [
    "ad_campaign_type = adv_data_get_dummies.loc[adv_data_get_dummies['source_medium_zen.yandex.ru / cpm'] > 0]\n",
    "ad_campaign_type.to_csv('data/adv_data_separated/zen_yandex_ru_cpm.csv')\n",
    "del ad_campaign_type"
   ]
  }
 ],
 "metadata": {
  "kernelspec": {
   "display_name": "Python 3",
   "language": "python",
   "name": "python3"
  },
  "language_info": {
   "codemirror_mode": {
    "name": "ipython",
    "version": 3
   },
   "file_extension": ".py",
   "mimetype": "text/x-python",
   "name": "python",
   "nbconvert_exporter": "python",
   "pygments_lexer": "ipython3",
   "version": "3.11.9"
  }
 },
 "nbformat": 4,
 "nbformat_minor": 2
}
